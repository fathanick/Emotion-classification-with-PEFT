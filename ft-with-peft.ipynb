{
 "cells": [
  {
   "cell_type": "code",
   "execution_count": 1,
   "id": "9798606a",
   "metadata": {},
   "outputs": [
    {
     "name": "stderr",
     "output_type": "stream",
     "text": [
      "2024-08-12 17:43:43.463500: I tensorflow/core/platform/cpu_feature_guard.cc:193] This TensorFlow binary is optimized with oneAPI Deep Neural Network Library (oneDNN) to use the following CPU instructions in performance-critical operations:  AVX2 AVX512F FMA\n",
      "To enable them in other operations, rebuild TensorFlow with the appropriate compiler flags.\n",
      "2024-08-12 17:43:45.369240: W tensorflow/compiler/xla/stream_executor/platform/default/dso_loader.cc:64] Could not load dynamic library 'libnvinfer.so.7'; dlerror: libnvinfer.so.7: cannot open shared object file: No such file or directory\n",
      "2024-08-12 17:43:45.369463: W tensorflow/compiler/xla/stream_executor/platform/default/dso_loader.cc:64] Could not load dynamic library 'libnvinfer_plugin.so.7'; dlerror: libnvinfer_plugin.so.7: cannot open shared object file: No such file or directory\n",
      "2024-08-12 17:43:45.369486: W tensorflow/compiler/tf2tensorrt/utils/py_utils.cc:38] TF-TRT Warning: Cannot dlopen some TensorRT libraries. If you would like to use Nvidia GPU with TensorRT, please make sure the missing libraries mentioned above are installed properly.\n"
     ]
    }
   ],
   "source": [
    "import pandas as pd\n",
    "import numpy as np\n",
    "import os\n",
    "import torch\n",
    "import time\n",
    "import json\n",
    "\n",
    "from peft import LoraConfig, LoraModel, get_peft_model, TaskType\n",
    "from datasets import Dataset\n",
    "from sklearn.metrics import accuracy_score, f1_score, precision_score, recall_score, classification_report\n",
    "from sklearn.metrics import confusion_matrix\n",
    "import seaborn as sns\n",
    "import matplotlib.pyplot as plt\n",
    "from transformers import (\n",
    "    AutoTokenizer,\n",
    "    AutoModelForSequenceClassification,\n",
    "    DataCollatorWithPadding,\n",
    "    TrainingArguments,\n",
    "    Trainer,\n",
    ")\n",
    "\n",
    "os.environ[\"TOKENIZERS_PARALLELISM\"] = \"false\"\n",
    "use_cuda = torch.cuda.is_available()"
   ]
  },
  {
   "cell_type": "code",
   "execution_count": 2,
   "id": "51d29df9",
   "metadata": {},
   "outputs": [
    {
     "name": "stdout",
     "output_type": "stream",
     "text": [
      "Train:  4956\n",
      "Val:  1062\n",
      "Test:  1062\n"
     ]
    }
   ],
   "source": [
    "df = pd.read_csv('dataset/all_data.csv')\n",
    "train_data = pd.read_csv('dataset/train.csv')\n",
    "val_data = pd.read_csv('dataset/val.csv')\n",
    "test_data = pd.read_csv('dataset/test.csv')\n",
    "\n",
    "# Length train, val, and test\n",
    "print(\"Train: \",len(train_data))\n",
    "print(\"Val: \",len(val_data))\n",
    "print(\"Test: \",len(test_data))"
   ]
  },
  {
   "cell_type": "code",
   "execution_count": 3,
   "id": "09074b9a",
   "metadata": {},
   "outputs": [],
   "source": [
    "tags = np.unique(df['label'])\n",
    "num_labels = len(tags)\n",
    "max_length = 128\n",
    "label2id = {t: i for i, t in enumerate(tags)}\n",
    "id2label = {i: t for i, t in enumerate(tags)}"
   ]
  },
  {
   "cell_type": "code",
   "execution_count": 4,
   "id": "ffb44154",
   "metadata": {},
   "outputs": [
    {
     "data": {
      "text/plain": [
       "{'Anger': 0, 'Fear': 1, 'Joy': 2, 'Love': 3, 'Neutral': 4, 'Sad': 5}"
      ]
     },
     "execution_count": 4,
     "metadata": {},
     "output_type": "execute_result"
    }
   ],
   "source": [
    "label2id"
   ]
  },
  {
   "cell_type": "code",
   "execution_count": 5,
   "id": "a37a59f7",
   "metadata": {},
   "outputs": [],
   "source": [
    "def model_init(model_name):\n",
    "    global tokenizer\n",
    "    global data_collator\n",
    "    global tr_model\n",
    "\n",
    "    base_model = AutoModelForSequenceClassification.from_pretrained(\n",
    "        model_name,\n",
    "        num_labels=num_labels,\n",
    "        id2label=id2label,\n",
    "        label2id=label2id\n",
    "    )\n",
    "    tokenizer = AutoTokenizer.from_pretrained(model_name, model_max_length=128)\n",
    "    \n",
    "    # Configure LoRA\n",
    "    lora_config = LoraConfig(\n",
    "        task_type=TaskType.SEQ_CLS, \n",
    "        r=8, # Rank of the low-rank matrices\n",
    "        lora_alpha=32, \n",
    "        lora_dropout=0.1\n",
    "    )\n",
    "    \n",
    "    # Wrap the base model with the LoRA configuration\n",
    "    model = get_peft_model(base_model, lora_config)\n",
    "    model.print_trainable_parameters()\n",
    "    \n",
    "    return model, tokenizer\n",
    "\n",
    "\n",
    "def tokenize_function(examples):\n",
    "    # process the input sequence\n",
    "    tokenized_input = tokenizer(examples[\"tweet\"], \n",
    "                                truncation=True, \n",
    "                                padding='max_length', \n",
    "                                max_length=max_length)\n",
    "    # process the labels\n",
    "    tokenized_input['label'] = [label2id[lb] for lb in examples['label']]\n",
    "    \n",
    "    return tokenized_input\n",
    "\n",
    "\n",
    "def preprocessing():\n",
    "    X_train = Dataset.from_pandas(train_data)\n",
    "    X_val = Dataset.from_pandas(val_data)\n",
    "    X_test = Dataset.from_pandas(test_data)\n",
    "    \n",
    "    tokenized_train_data = X_train.map(tokenize_function, batched=True)\n",
    "    tokenized_val_data = X_val.map(tokenize_function, batched=True)\n",
    "    tokenized_test_data = X_test.map(tokenize_function, batched=True)\n",
    "    \n",
    "    return tokenized_train_data, tokenized_val_data, tokenized_test_data\n",
    "\n",
    "\n",
    "def compute_metrics(p):\n",
    "    pred, labels = p\n",
    "    pred = np.argmax(pred, axis=1)\n",
    "    \n",
    "    true_labels = [tags[l] for l in labels] \n",
    "    true_predictions = [tags[pr] for pr in pred]\n",
    "\n",
    "    report = classification_report(true_labels, true_predictions, digits=4)\n",
    "    acc = accuracy_score(y_true=true_labels, y_pred=true_predictions)\n",
    "    rec = recall_score(y_true=true_labels, y_pred=true_predictions, average=\"macro\")\n",
    "    prec = precision_score(y_true=true_labels, y_pred=true_predictions, average=\"macro\")\n",
    "    f1 = f1_score(y_true=true_labels, y_pred=true_predictions, average=\"macro\", zero_division=1.0)\n",
    "\n",
    "    print(\"Classification Report:\\n{}\".format(report))\n",
    "    return {\"accuracy\": acc, \"precision\": prec, \"recall\": rec, \"f1\": f1}"
   ]
  },
  {
   "cell_type": "code",
   "execution_count": 6,
   "id": "e6963c6e",
   "metadata": {},
   "outputs": [],
   "source": [
    "# to generate the confusion matrix\n",
    "\n",
    "from sklearn.metrics import confusion_matrix\n",
    "import matplotlib.pyplot as plt\n",
    "import seaborn as sns \n",
    "\n",
    "def generate_confusion_matrix(true_labels, pred_labels, num_labels):\n",
    "    cm = confusion_matrix(true_labels, pred_labels)\n",
    "    labels = [id2label[i] for i in range(num_labels)]\n",
    "    plt.figure(figsize=(8, 6))\n",
    "    sns.set(font_scale=1.5)\n",
    "    sns.heatmap(cm, \n",
    "                annot=True, \n",
    "                fmt=\"d\", \n",
    "                cmap=\"Blues\", \n",
    "                xticklabels=labels, \n",
    "                yticklabels=labels)\n",
    "    plt.xlabel(\"Predicted\")\n",
    "    plt.ylabel(\"Actual\")\n",
    "    plt.yticks(rotation=0)\n",
    "    plt.show()"
   ]
  },
  {
   "cell_type": "code",
   "execution_count": 7,
   "id": "36ce7067",
   "metadata": {},
   "outputs": [],
   "source": [
    "def train_model(model_name, output_dir, learning_rate, train_batch_size, eval_batch_size, num_epochs, weight_decay):\n",
    "\n",
    "    model, tokenizer = model_init(model_name)\n",
    "    train_tokenized, val_tokenized, test_tokenized = preprocessing()\n",
    "    \n",
    "    training_args = TrainingArguments(\n",
    "        output_dir=output_dir,\n",
    "        logging_strategy=\"epoch\",\n",
    "        evaluation_strategy=\"epoch\",\n",
    "        save_strategy=\"epoch\",\n",
    "        save_total_limit = 1,\n",
    "        learning_rate=learning_rate,\n",
    "        num_train_epochs=num_epochs,\n",
    "        per_device_train_batch_size=train_batch_size,\n",
    "        per_device_eval_batch_size=eval_batch_size,\n",
    "        weight_decay=weight_decay,\n",
    "        load_best_model_at_end=True,\n",
    "        #push_to_hub=True, # to push to hub during the training\n",
    "    )\n",
    "\n",
    "    trainer = Trainer(\n",
    "        model=model,\n",
    "        args=training_args,\n",
    "        train_dataset=train_tokenized,\n",
    "        eval_dataset=val_tokenized,\n",
    "        tokenizer=tokenizer,\n",
    "        compute_metrics=compute_metrics,\n",
    "    )\n",
    "    \n",
    "    trainer.train()\n",
    "    trainer.save_model(output_dir)\n",
    "    #trainer.push_to_hub(commit_message=\"Training complete\")\n",
    "    \n",
    "    # Get the evaluation results\n",
    "    trainer.eval_dataset=test_tokenized\n",
    "    evaluation_results = trainer.evaluate()\n",
    "    print(evaluation_results)\n",
    "    \n",
    "    # make prediction on the test set\n",
    "    predictions = trainer.predict(test_tokenized)\n",
    "    pred_labels = np.argmax(predictions.predictions, axis=1)\n",
    "    true_labels = test_tokenized[\"label\"]\n",
    "    \n",
    "    # Generate confusion matrix\n",
    "    generate_confusion_matrix(true_labels, pred_labels, num_labels)\n",
    "    \n",
    "    return trainer"
   ]
  },
  {
   "cell_type": "code",
   "execution_count": 8,
   "id": "c8f62861",
   "metadata": {},
   "outputs": [],
   "source": [
    "def show_log_history(trainer):\n",
    "    log_history = pd.DataFrame(trainer.state.log_history)\n",
    "    log_history = log_history.fillna(0)\n",
    "    log_history = log_history.groupby([\"epoch\"]).sum()\n",
    "    \n",
    "    log_history[[\"loss\", \"eval_loss\"]].plot()\n",
    "    plt.show()"
   ]
  },
  {
   "cell_type": "code",
   "execution_count": 9,
   "id": "30cde92a",
   "metadata": {},
   "outputs": [],
   "source": [
    "def main(model_name, output_dir, best_params):\n",
    "    start = time.time()\n",
    "     # load json file containing best params\n",
    "    best_params = best_params\n",
    "\n",
    "    with open(best_params, 'r') as js:\n",
    "        data = json.load(js)\n",
    "\n",
    "    print(data)\n",
    "\n",
    "    # define best params\n",
    "    num_train_epochs = data['num_train_epochs']\n",
    "    learning_rate = data['learning_rate']\n",
    "    train_batch_size = data['per_device_train_batch_size']\n",
    "    eval_batch_size = data['per_device_eval_batch_size']\n",
    "    weight_decay = data['weight_decay']\n",
    "\n",
    "    # training\n",
    "    tr_model = train_model(model_name=model_name, \n",
    "                           output_dir=output_dir,\n",
    "                           learning_rate=learning_rate,\n",
    "                           train_batch_size=train_batch_size,\n",
    "                           eval_batch_size=eval_batch_size,\n",
    "                           num_epochs=num_train_epochs,\n",
    "                           weight_decay=weight_decay)\n",
    "\n",
    "    print('Training finished!')\n",
    "    \n",
    "    show_log_history(tr_model)\n",
    "\n",
    "    \n",
    "    end = time.time()\n",
    "    exec_time = (end - start) / 60\n",
    "    print(f'Total time: {exec_time} minutes')"
   ]
  },
  {
   "cell_type": "code",
   "execution_count": 10,
   "id": "90a4ce86",
   "metadata": {},
   "outputs": [
    {
     "name": "stdout",
     "output_type": "stream",
     "text": [
      "{'num_train_epochs': 8, 'learning_rate': 0.0001, 'per_device_train_batch_size': 16, 'per_device_eval_batch_size': 8, 'weight_decay': 0.0921104871708941}\n"
     ]
    },
    {
     "name": "stderr",
     "output_type": "stream",
     "text": [
      "Some weights of the model checkpoint at indolem/indobertweet-base-uncased were not used when initializing BertForSequenceClassification: ['cls.predictions.transform.dense.bias', 'cls.predictions.transform.LayerNorm.weight', 'cls.predictions.decoder.weight', 'cls.predictions.transform.LayerNorm.bias', 'cls.predictions.transform.dense.weight', 'cls.predictions.decoder.bias', 'cls.predictions.bias']\n",
      "- This IS expected if you are initializing BertForSequenceClassification from the checkpoint of a model trained on another task or with another architecture (e.g. initializing a BertForSequenceClassification model from a BertForPreTraining model).\n",
      "- This IS NOT expected if you are initializing BertForSequenceClassification from the checkpoint of a model that you expect to be exactly identical (initializing a BertForSequenceClassification model from a BertForSequenceClassification model).\n",
      "Some weights of BertForSequenceClassification were not initialized from the model checkpoint at indolem/indobertweet-base-uncased and are newly initialized: ['classifier.weight', 'classifier.bias']\n",
      "You should probably TRAIN this model on a down-stream task to be able to use it for predictions and inference.\n"
     ]
    },
    {
     "name": "stdout",
     "output_type": "stream",
     "text": [
      "trainable params: 299,526 || all params: 110,862,348 || trainable%: 0.27017829353569167\n"
     ]
    },
    {
     "data": {
      "application/vnd.jupyter.widget-view+json": {
       "model_id": "3fd27e1b539a4700847caf4dc063561b",
       "version_major": 2,
       "version_minor": 0
      },
      "text/plain": [
       "  0%|          | 0/5 [00:00<?, ?ba/s]"
      ]
     },
     "metadata": {},
     "output_type": "display_data"
    },
    {
     "data": {
      "application/vnd.jupyter.widget-view+json": {
       "model_id": "489e23f2a5d24378831cbdad30db3b37",
       "version_major": 2,
       "version_minor": 0
      },
      "text/plain": [
       "  0%|          | 0/2 [00:00<?, ?ba/s]"
      ]
     },
     "metadata": {},
     "output_type": "display_data"
    },
    {
     "data": {
      "application/vnd.jupyter.widget-view+json": {
       "model_id": "048dc9ab0c3e4376b2489414ec1e5ab0",
       "version_major": 2,
       "version_minor": 0
      },
      "text/plain": [
       "  0%|          | 0/2 [00:00<?, ?ba/s]"
      ]
     },
     "metadata": {},
     "output_type": "display_data"
    },
    {
     "name": "stderr",
     "output_type": "stream",
     "text": [
      "The following columns in the training set don't have a corresponding argument in `PeftModelForSequenceClassification.forward` and have been ignored: token_type_ids, tweet, index. If token_type_ids, tweet, index are not expected by `PeftModelForSequenceClassification.forward`,  you can safely ignore this message.\n",
      "/home/jupyter-145230403/.conda/envs/conda_env_2/lib/python3.9/site-packages/transformers/optimization.py:306: FutureWarning: This implementation of AdamW is deprecated and will be removed in a future version. Use the PyTorch implementation torch.optim.AdamW instead, or set `no_deprecation_warning=True` to disable this warning\n",
      "  warnings.warn(\n",
      "***** Running training *****\n",
      "  Num examples = 4956\n",
      "  Num Epochs = 8\n",
      "  Instantaneous batch size per device = 16\n",
      "  Total train batch size (w. parallel, distributed & accumulation) = 64\n",
      "  Gradient Accumulation steps = 1\n",
      "  Total optimization steps = 624\n",
      "  Number of trainable parameters = 299526\n",
      "Automatic Weights & Biases logging enabled, to disable set os.environ[\"WANDB_DISABLED\"] = \"true\"\n",
      "Failed to detect the name of this notebook, you can set it manually with the WANDB_NOTEBOOK_NAME environment variable to enable code saving.\n",
      "\u001b[34m\u001b[1mwandb\u001b[0m: Currently logged in as: \u001b[33mfathanel\u001b[0m (\u001b[33mfathanick_lab\u001b[0m). Use \u001b[1m`wandb login --relogin`\u001b[0m to force relogin\n"
     ]
    },
    {
     "data": {
      "text/html": [
       "wandb version 0.17.6 is available!  To upgrade, please run:\n",
       " $ pip install wandb --upgrade"
      ],
      "text/plain": [
       "<IPython.core.display.HTML object>"
      ]
     },
     "metadata": {},
     "output_type": "display_data"
    },
    {
     "data": {
      "text/html": [
       "Tracking run with wandb version 0.17.5"
      ],
      "text/plain": [
       "<IPython.core.display.HTML object>"
      ]
     },
     "metadata": {},
     "output_type": "display_data"
    },
    {
     "data": {
      "text/html": [
       "Run data is saved locally in <code>/home/jupyter-145230403/01-RESEARCH COLLABORATION/EMOTION CLASSIFICATION/wandb/run-20240812_145544-4kxh3ekr</code>"
      ],
      "text/plain": [
       "<IPython.core.display.HTML object>"
      ]
     },
     "metadata": {},
     "output_type": "display_data"
    },
    {
     "data": {
      "text/html": [
       "Syncing run <strong><a href='https://wandb.ai/fathanick_lab/huggingface/runs/4kxh3ekr' target=\"_blank\">stellar-durian-202</a></strong> to <a href='https://wandb.ai/fathanick_lab/huggingface' target=\"_blank\">Weights & Biases</a> (<a href='https://wandb.me/run' target=\"_blank\">docs</a>)<br/>"
      ],
      "text/plain": [
       "<IPython.core.display.HTML object>"
      ]
     },
     "metadata": {},
     "output_type": "display_data"
    },
    {
     "data": {
      "text/html": [
       " View project at <a href='https://wandb.ai/fathanick_lab/huggingface' target=\"_blank\">https://wandb.ai/fathanick_lab/huggingface</a>"
      ],
      "text/plain": [
       "<IPython.core.display.HTML object>"
      ]
     },
     "metadata": {},
     "output_type": "display_data"
    },
    {
     "data": {
      "text/html": [
       " View run at <a href='https://wandb.ai/fathanick_lab/huggingface/runs/4kxh3ekr' target=\"_blank\">https://wandb.ai/fathanick_lab/huggingface/runs/4kxh3ekr</a>"
      ],
      "text/plain": [
       "<IPython.core.display.HTML object>"
      ]
     },
     "metadata": {},
     "output_type": "display_data"
    },
    {
     "name": "stderr",
     "output_type": "stream",
     "text": [
      "You're using a BertTokenizerFast tokenizer. Please note that with a fast tokenizer, using the `__call__` method is faster than using a method to encode the text followed by a call to the `pad` method to get a padded encoding.\n",
      "/home/jupyter-145230403/.conda/envs/conda_env_2/lib/python3.9/site-packages/torch/nn/parallel/_functions.py:68: UserWarning: Was asked to gather along dimension 0, but all input tensors were scalars; will instead unsqueeze and return a vector.\n",
      "  warnings.warn('Was asked to gather along dimension 0, but all '\n"
     ]
    },
    {
     "data": {
      "text/html": [
       "\n",
       "    <div>\n",
       "      \n",
       "      <progress value='624' max='624' style='width:300px; height:20px; vertical-align: middle;'></progress>\n",
       "      [624/624 07:16, Epoch 8/8]\n",
       "    </div>\n",
       "    <table border=\"1\" class=\"dataframe\">\n",
       "  <thead>\n",
       " <tr style=\"text-align: left;\">\n",
       "      <th>Epoch</th>\n",
       "      <th>Training Loss</th>\n",
       "      <th>Validation Loss</th>\n",
       "      <th>Accuracy</th>\n",
       "      <th>Precision</th>\n",
       "      <th>Recall</th>\n",
       "      <th>F1</th>\n",
       "    </tr>\n",
       "  </thead>\n",
       "  <tbody>\n",
       "    <tr>\n",
       "      <td>1</td>\n",
       "      <td>1.673400</td>\n",
       "      <td>1.549178</td>\n",
       "      <td>0.419021</td>\n",
       "      <td>0.574639</td>\n",
       "      <td>0.325919</td>\n",
       "      <td>0.316611</td>\n",
       "    </tr>\n",
       "    <tr>\n",
       "      <td>2</td>\n",
       "      <td>1.358600</td>\n",
       "      <td>1.114445</td>\n",
       "      <td>0.674200</td>\n",
       "      <td>0.706719</td>\n",
       "      <td>0.655182</td>\n",
       "      <td>0.672582</td>\n",
       "    </tr>\n",
       "    <tr>\n",
       "      <td>3</td>\n",
       "      <td>1.032300</td>\n",
       "      <td>0.909809</td>\n",
       "      <td>0.710923</td>\n",
       "      <td>0.734780</td>\n",
       "      <td>0.703682</td>\n",
       "      <td>0.713503</td>\n",
       "    </tr>\n",
       "    <tr>\n",
       "      <td>4</td>\n",
       "      <td>0.879000</td>\n",
       "      <td>0.816966</td>\n",
       "      <td>0.734463</td>\n",
       "      <td>0.744246</td>\n",
       "      <td>0.734682</td>\n",
       "      <td>0.738417</td>\n",
       "    </tr>\n",
       "    <tr>\n",
       "      <td>5</td>\n",
       "      <td>0.796000</td>\n",
       "      <td>0.775589</td>\n",
       "      <td>0.737288</td>\n",
       "      <td>0.739265</td>\n",
       "      <td>0.749169</td>\n",
       "      <td>0.743064</td>\n",
       "    </tr>\n",
       "    <tr>\n",
       "      <td>6</td>\n",
       "      <td>0.757900</td>\n",
       "      <td>0.748601</td>\n",
       "      <td>0.740113</td>\n",
       "      <td>0.743040</td>\n",
       "      <td>0.750722</td>\n",
       "      <td>0.745833</td>\n",
       "    </tr>\n",
       "    <tr>\n",
       "      <td>7</td>\n",
       "      <td>0.734400</td>\n",
       "      <td>0.734882</td>\n",
       "      <td>0.753296</td>\n",
       "      <td>0.759535</td>\n",
       "      <td>0.760767</td>\n",
       "      <td>0.759300</td>\n",
       "    </tr>\n",
       "    <tr>\n",
       "      <td>8</td>\n",
       "      <td>0.726800</td>\n",
       "      <td>0.733043</td>\n",
       "      <td>0.748588</td>\n",
       "      <td>0.754757</td>\n",
       "      <td>0.759736</td>\n",
       "      <td>0.756163</td>\n",
       "    </tr>\n",
       "  </tbody>\n",
       "</table><p>"
      ],
      "text/plain": [
       "<IPython.core.display.HTML object>"
      ]
     },
     "metadata": {},
     "output_type": "display_data"
    },
    {
     "name": "stderr",
     "output_type": "stream",
     "text": [
      "The following columns in the evaluation set don't have a corresponding argument in `PeftModelForSequenceClassification.forward` and have been ignored: token_type_ids, tweet, index. If token_type_ids, tweet, index are not expected by `PeftModelForSequenceClassification.forward`,  you can safely ignore this message.\n",
      "***** Running Evaluation *****\n",
      "  Num examples = 1062\n",
      "  Batch size = 32\n"
     ]
    },
    {
     "name": "stdout",
     "output_type": "stream",
     "text": [
      "Classification Report:\n",
      "              precision    recall  f1-score   support\n",
      "\n",
      "       Anger     0.5158    0.2784    0.3616       176\n",
      "        Fear     0.5500    0.0748    0.1317       147\n",
      "         Joy     0.6187    0.4859    0.5443       177\n",
      "        Love     0.8667    0.1130    0.2000       115\n",
      "     Neutral     0.3550    0.9161    0.5117       298\n",
      "         Sad     0.5417    0.0872    0.1503       149\n",
      "\n",
      "    accuracy                         0.4190      1062\n",
      "   macro avg     0.5746    0.3259    0.3166      1062\n",
      "weighted avg     0.5342    0.4190    0.3552      1062\n",
      "\n"
     ]
    },
    {
     "name": "stderr",
     "output_type": "stream",
     "text": [
      "Saving model checkpoint to p-emotcls-indobertweet-base/checkpoint-78\n",
      "Trainer.model is not a `PreTrainedModel`, only saving its state dict.\n",
      "tokenizer config file saved in p-emotcls-indobertweet-base/checkpoint-78/tokenizer_config.json\n",
      "Special tokens file saved in p-emotcls-indobertweet-base/checkpoint-78/special_tokens_map.json\n",
      "/home/jupyter-145230403/.conda/envs/conda_env_2/lib/python3.9/site-packages/torch/nn/parallel/_functions.py:68: UserWarning: Was asked to gather along dimension 0, but all input tensors were scalars; will instead unsqueeze and return a vector.\n",
      "  warnings.warn('Was asked to gather along dimension 0, but all '\n",
      "The following columns in the evaluation set don't have a corresponding argument in `PeftModelForSequenceClassification.forward` and have been ignored: token_type_ids, tweet, index. If token_type_ids, tweet, index are not expected by `PeftModelForSequenceClassification.forward`,  you can safely ignore this message.\n",
      "***** Running Evaluation *****\n",
      "  Num examples = 1062\n",
      "  Batch size = 32\n"
     ]
    },
    {
     "name": "stdout",
     "output_type": "stream",
     "text": [
      "Classification Report:\n",
      "              precision    recall  f1-score   support\n",
      "\n",
      "       Anger     0.6473    0.7614    0.6997       176\n",
      "        Fear     0.7913    0.6190    0.6947       147\n",
      "         Joy     0.7101    0.6780    0.6936       177\n",
      "        Love     0.7722    0.5304    0.6289       115\n",
      "     Neutral     0.5995    0.7383    0.6617       298\n",
      "         Sad     0.7200    0.6040    0.6569       149\n",
      "\n",
      "    accuracy                         0.6742      1062\n",
      "   macro avg     0.7067    0.6552    0.6726      1062\n",
      "weighted avg     0.6880    0.6742    0.6737      1062\n",
      "\n"
     ]
    },
    {
     "name": "stderr",
     "output_type": "stream",
     "text": [
      "Saving model checkpoint to p-emotcls-indobertweet-base/checkpoint-156\n",
      "Trainer.model is not a `PreTrainedModel`, only saving its state dict.\n",
      "tokenizer config file saved in p-emotcls-indobertweet-base/checkpoint-156/tokenizer_config.json\n",
      "Special tokens file saved in p-emotcls-indobertweet-base/checkpoint-156/special_tokens_map.json\n",
      "Deleting older checkpoint [p-emotcls-indobertweet-base/checkpoint-78] due to args.save_total_limit\n",
      "/home/jupyter-145230403/.conda/envs/conda_env_2/lib/python3.9/site-packages/torch/nn/parallel/_functions.py:68: UserWarning: Was asked to gather along dimension 0, but all input tensors were scalars; will instead unsqueeze and return a vector.\n",
      "  warnings.warn('Was asked to gather along dimension 0, but all '\n",
      "The following columns in the evaluation set don't have a corresponding argument in `PeftModelForSequenceClassification.forward` and have been ignored: token_type_ids, tweet, index. If token_type_ids, tweet, index are not expected by `PeftModelForSequenceClassification.forward`,  you can safely ignore this message.\n",
      "***** Running Evaluation *****\n",
      "  Num examples = 1062\n",
      "  Batch size = 32\n"
     ]
    },
    {
     "name": "stdout",
     "output_type": "stream",
     "text": [
      "Classification Report:\n",
      "              precision    recall  f1-score   support\n",
      "\n",
      "       Anger     0.6478    0.8466    0.7340       176\n",
      "        Fear     0.8254    0.7075    0.7619       147\n",
      "         Joy     0.7440    0.7062    0.7246       177\n",
      "        Love     0.7614    0.5826    0.6601       115\n",
      "     Neutral     0.6531    0.7013    0.6764       298\n",
      "         Sad     0.7769    0.6779    0.7240       149\n",
      "\n",
      "    accuracy                         0.7109      1062\n",
      "   macro avg     0.7348    0.7037    0.7135      1062\n",
      "weighted avg     0.7203    0.7109    0.7107      1062\n",
      "\n"
     ]
    },
    {
     "name": "stderr",
     "output_type": "stream",
     "text": [
      "Saving model checkpoint to p-emotcls-indobertweet-base/checkpoint-234\n",
      "Trainer.model is not a `PreTrainedModel`, only saving its state dict.\n",
      "tokenizer config file saved in p-emotcls-indobertweet-base/checkpoint-234/tokenizer_config.json\n",
      "Special tokens file saved in p-emotcls-indobertweet-base/checkpoint-234/special_tokens_map.json\n",
      "Deleting older checkpoint [p-emotcls-indobertweet-base/checkpoint-156] due to args.save_total_limit\n",
      "/home/jupyter-145230403/.conda/envs/conda_env_2/lib/python3.9/site-packages/torch/nn/parallel/_functions.py:68: UserWarning: Was asked to gather along dimension 0, but all input tensors were scalars; will instead unsqueeze and return a vector.\n",
      "  warnings.warn('Was asked to gather along dimension 0, but all '\n",
      "The following columns in the evaluation set don't have a corresponding argument in `PeftModelForSequenceClassification.forward` and have been ignored: token_type_ids, tweet, index. If token_type_ids, tweet, index are not expected by `PeftModelForSequenceClassification.forward`,  you can safely ignore this message.\n",
      "***** Running Evaluation *****\n",
      "  Num examples = 1062\n",
      "  Batch size = 32\n"
     ]
    },
    {
     "name": "stdout",
     "output_type": "stream",
     "text": [
      "Classification Report:\n",
      "              precision    recall  f1-score   support\n",
      "\n",
      "       Anger     0.7461    0.8182    0.7805       176\n",
      "        Fear     0.7973    0.8027    0.8000       147\n",
      "         Joy     0.7514    0.7345    0.7429       177\n",
      "        Love     0.7383    0.6870    0.7117       115\n",
      "     Neutral     0.6785    0.7081    0.6929       298\n",
      "         Sad     0.7538    0.6577    0.7025       149\n",
      "\n",
      "    accuracy                         0.7345      1062\n",
      "   macro avg     0.7442    0.7347    0.7384      1062\n",
      "weighted avg     0.7353    0.7345    0.7340      1062\n",
      "\n"
     ]
    },
    {
     "name": "stderr",
     "output_type": "stream",
     "text": [
      "Saving model checkpoint to p-emotcls-indobertweet-base/checkpoint-312\n",
      "Trainer.model is not a `PreTrainedModel`, only saving its state dict.\n",
      "tokenizer config file saved in p-emotcls-indobertweet-base/checkpoint-312/tokenizer_config.json\n",
      "Special tokens file saved in p-emotcls-indobertweet-base/checkpoint-312/special_tokens_map.json\n",
      "Deleting older checkpoint [p-emotcls-indobertweet-base/checkpoint-234] due to args.save_total_limit\n",
      "/home/jupyter-145230403/.conda/envs/conda_env_2/lib/python3.9/site-packages/torch/nn/parallel/_functions.py:68: UserWarning: Was asked to gather along dimension 0, but all input tensors were scalars; will instead unsqueeze and return a vector.\n",
      "  warnings.warn('Was asked to gather along dimension 0, but all '\n",
      "The following columns in the evaluation set don't have a corresponding argument in `PeftModelForSequenceClassification.forward` and have been ignored: token_type_ids, tweet, index. If token_type_ids, tweet, index are not expected by `PeftModelForSequenceClassification.forward`,  you can safely ignore this message.\n",
      "***** Running Evaluation *****\n",
      "  Num examples = 1062\n",
      "  Batch size = 32\n"
     ]
    },
    {
     "name": "stdout",
     "output_type": "stream",
     "text": [
      "Classification Report:\n",
      "              precision    recall  f1-score   support\n",
      "\n",
      "       Anger     0.7551    0.8409    0.7957       176\n",
      "        Fear     0.7961    0.8231    0.8094       147\n",
      "         Joy     0.7330    0.7288    0.7309       177\n",
      "        Love     0.6850    0.7565    0.7190       115\n",
      "     Neutral     0.7091    0.6544    0.6806       298\n",
      "         Sad     0.7574    0.6913    0.7228       149\n",
      "\n",
      "    accuracy                         0.7373      1062\n",
      "   macro avg     0.7393    0.7492    0.7431      1062\n",
      "weighted avg     0.7369    0.7373    0.7360      1062\n",
      "\n"
     ]
    },
    {
     "name": "stderr",
     "output_type": "stream",
     "text": [
      "Saving model checkpoint to p-emotcls-indobertweet-base/checkpoint-390\n",
      "Trainer.model is not a `PreTrainedModel`, only saving its state dict.\n",
      "tokenizer config file saved in p-emotcls-indobertweet-base/checkpoint-390/tokenizer_config.json\n",
      "Special tokens file saved in p-emotcls-indobertweet-base/checkpoint-390/special_tokens_map.json\n",
      "Deleting older checkpoint [p-emotcls-indobertweet-base/checkpoint-312] due to args.save_total_limit\n",
      "/home/jupyter-145230403/.conda/envs/conda_env_2/lib/python3.9/site-packages/torch/nn/parallel/_functions.py:68: UserWarning: Was asked to gather along dimension 0, but all input tensors were scalars; will instead unsqueeze and return a vector.\n",
      "  warnings.warn('Was asked to gather along dimension 0, but all '\n",
      "The following columns in the evaluation set don't have a corresponding argument in `PeftModelForSequenceClassification.forward` and have been ignored: token_type_ids, tweet, index. If token_type_ids, tweet, index are not expected by `PeftModelForSequenceClassification.forward`,  you can safely ignore this message.\n",
      "***** Running Evaluation *****\n",
      "  Num examples = 1062\n",
      "  Batch size = 32\n"
     ]
    },
    {
     "name": "stdout",
     "output_type": "stream",
     "text": [
      "Classification Report:\n",
      "              precision    recall  f1-score   support\n",
      "\n",
      "       Anger     0.7487    0.8466    0.7947       176\n",
      "        Fear     0.7898    0.8435    0.8158       147\n",
      "         Joy     0.7360    0.7401    0.7380       177\n",
      "        Love     0.7155    0.7217    0.7186       115\n",
      "     Neutral     0.7091    0.6544    0.6806       298\n",
      "         Sad     0.7591    0.6980    0.7273       149\n",
      "\n",
      "    accuracy                         0.7401      1062\n",
      "   macro avg     0.7430    0.7507    0.7458      1062\n",
      "weighted avg     0.7390    0.7401    0.7385      1062\n",
      "\n"
     ]
    },
    {
     "name": "stderr",
     "output_type": "stream",
     "text": [
      "Saving model checkpoint to p-emotcls-indobertweet-base/checkpoint-468\n",
      "Trainer.model is not a `PreTrainedModel`, only saving its state dict.\n",
      "tokenizer config file saved in p-emotcls-indobertweet-base/checkpoint-468/tokenizer_config.json\n",
      "Special tokens file saved in p-emotcls-indobertweet-base/checkpoint-468/special_tokens_map.json\n",
      "Deleting older checkpoint [p-emotcls-indobertweet-base/checkpoint-390] due to args.save_total_limit\n",
      "/home/jupyter-145230403/.conda/envs/conda_env_2/lib/python3.9/site-packages/torch/nn/parallel/_functions.py:68: UserWarning: Was asked to gather along dimension 0, but all input tensors were scalars; will instead unsqueeze and return a vector.\n",
      "  warnings.warn('Was asked to gather along dimension 0, but all '\n",
      "The following columns in the evaluation set don't have a corresponding argument in `PeftModelForSequenceClassification.forward` and have been ignored: token_type_ids, tweet, index. If token_type_ids, tweet, index are not expected by `PeftModelForSequenceClassification.forward`,  you can safely ignore this message.\n",
      "***** Running Evaluation *****\n",
      "  Num examples = 1062\n",
      "  Batch size = 32\n"
     ]
    },
    {
     "name": "stdout",
     "output_type": "stream",
     "text": [
      "Classification Report:\n",
      "              precision    recall  f1-score   support\n",
      "\n",
      "       Anger     0.7641    0.8466    0.8032       176\n",
      "        Fear     0.8077    0.8571    0.8317       147\n",
      "         Joy     0.7879    0.7345    0.7602       177\n",
      "        Love     0.7304    0.7304    0.7304       115\n",
      "     Neutral     0.7007    0.6913    0.6959       298\n",
      "         Sad     0.7664    0.7047    0.7343       149\n",
      "\n",
      "    accuracy                         0.7533      1062\n",
      "   macro avg     0.7595    0.7608    0.7593      1062\n",
      "weighted avg     0.7530    0.7533    0.7523      1062\n",
      "\n"
     ]
    },
    {
     "name": "stderr",
     "output_type": "stream",
     "text": [
      "Saving model checkpoint to p-emotcls-indobertweet-base/checkpoint-546\n",
      "Trainer.model is not a `PreTrainedModel`, only saving its state dict.\n",
      "tokenizer config file saved in p-emotcls-indobertweet-base/checkpoint-546/tokenizer_config.json\n",
      "Special tokens file saved in p-emotcls-indobertweet-base/checkpoint-546/special_tokens_map.json\n",
      "Deleting older checkpoint [p-emotcls-indobertweet-base/checkpoint-468] due to args.save_total_limit\n",
      "/home/jupyter-145230403/.conda/envs/conda_env_2/lib/python3.9/site-packages/torch/nn/parallel/_functions.py:68: UserWarning: Was asked to gather along dimension 0, but all input tensors were scalars; will instead unsqueeze and return a vector.\n",
      "  warnings.warn('Was asked to gather along dimension 0, but all '\n",
      "The following columns in the evaluation set don't have a corresponding argument in `PeftModelForSequenceClassification.forward` and have been ignored: token_type_ids, tweet, index. If token_type_ids, tweet, index are not expected by `PeftModelForSequenceClassification.forward`,  you can safely ignore this message.\n",
      "***** Running Evaluation *****\n",
      "  Num examples = 1062\n",
      "  Batch size = 32\n"
     ]
    },
    {
     "name": "stdout",
     "output_type": "stream",
     "text": [
      "Classification Report:\n",
      "              precision    recall  f1-score   support\n",
      "\n",
      "       Anger     0.7413    0.8466    0.7905       176\n",
      "        Fear     0.8117    0.8503    0.8306       147\n",
      "         Joy     0.7784    0.7345    0.7558       177\n",
      "        Love     0.7227    0.7478    0.7350       115\n",
      "     Neutral     0.7007    0.6678    0.6838       298\n",
      "         Sad     0.7737    0.7114    0.7413       149\n",
      "\n",
      "    accuracy                         0.7486      1062\n",
      "   macro avg     0.7548    0.7597    0.7562      1062\n",
      "weighted avg     0.7484    0.7486    0.7474      1062\n",
      "\n"
     ]
    },
    {
     "name": "stderr",
     "output_type": "stream",
     "text": [
      "Saving model checkpoint to p-emotcls-indobertweet-base/checkpoint-624\n",
      "Trainer.model is not a `PreTrainedModel`, only saving its state dict.\n",
      "tokenizer config file saved in p-emotcls-indobertweet-base/checkpoint-624/tokenizer_config.json\n",
      "Special tokens file saved in p-emotcls-indobertweet-base/checkpoint-624/special_tokens_map.json\n",
      "Deleting older checkpoint [p-emotcls-indobertweet-base/checkpoint-546] due to args.save_total_limit\n",
      "\n",
      "\n",
      "Training completed. Do not forget to share your model on huggingface.co/models =)\n",
      "\n",
      "\n",
      "Loading best model from p-emotcls-indobertweet-base/checkpoint-624 (score: 0.7330425381660461).\n",
      "Saving model checkpoint to p-emotcls-indobertweet-base\n",
      "Trainer.model is not a `PreTrainedModel`, only saving its state dict.\n",
      "tokenizer config file saved in p-emotcls-indobertweet-base/tokenizer_config.json\n",
      "Special tokens file saved in p-emotcls-indobertweet-base/special_tokens_map.json\n",
      "The following columns in the evaluation set don't have a corresponding argument in `PeftModelForSequenceClassification.forward` and have been ignored: token_type_ids, tweet, index. If token_type_ids, tweet, index are not expected by `PeftModelForSequenceClassification.forward`,  you can safely ignore this message.\n",
      "***** Running Evaluation *****\n",
      "  Num examples = 1062\n",
      "  Batch size = 32\n",
      "/home/jupyter-145230403/.conda/envs/conda_env_2/lib/python3.9/site-packages/torch/nn/parallel/_functions.py:68: UserWarning: Was asked to gather along dimension 0, but all input tensors were scalars; will instead unsqueeze and return a vector.\n",
      "  warnings.warn('Was asked to gather along dimension 0, but all '\n"
     ]
    },
    {
     "data": {
      "text/html": [],
      "text/plain": [
       "<IPython.core.display.HTML object>"
      ]
     },
     "metadata": {},
     "output_type": "display_data"
    },
    {
     "name": "stderr",
     "output_type": "stream",
     "text": [
      "The following columns in the test set don't have a corresponding argument in `PeftModelForSequenceClassification.forward` and have been ignored: token_type_ids, tweet, index. If token_type_ids, tweet, index are not expected by `PeftModelForSequenceClassification.forward`,  you can safely ignore this message.\n",
      "***** Running Prediction *****\n",
      "  Num examples = 1062\n",
      "  Batch size = 32\n"
     ]
    },
    {
     "name": "stdout",
     "output_type": "stream",
     "text": [
      "Classification Report:\n",
      "              precision    recall  f1-score   support\n",
      "\n",
      "       Anger     0.7638    0.8444    0.8021       180\n",
      "        Fear     0.7852    0.8731    0.8269       134\n",
      "         Joy     0.8154    0.7644    0.7891       208\n",
      "        Love     0.7248    0.7822    0.7524       101\n",
      "     Neutral     0.7343    0.6838    0.7082       291\n",
      "         Sad     0.7770    0.7297    0.7526       148\n",
      "\n",
      "    accuracy                         0.7665      1062\n",
      "   macro avg     0.7668    0.7796    0.7719      1062\n",
      "weighted avg     0.7667    0.7665    0.7653      1062\n",
      "\n",
      "{'eval_loss': 0.703019380569458, 'eval_accuracy': 0.7664783427495292, 'eval_precision': 0.7667508354720525, 'eval_recall': 0.7796264324213502, 'eval_f1': 0.771871178942133, 'eval_runtime': 12.1003, 'eval_samples_per_second': 87.766, 'eval_steps_per_second': 2.81, 'epoch': 8.0}\n"
     ]
    },
    {
     "name": "stderr",
     "output_type": "stream",
     "text": [
      "/home/jupyter-145230403/.conda/envs/conda_env_2/lib/python3.9/site-packages/torch/nn/parallel/_functions.py:68: UserWarning: Was asked to gather along dimension 0, but all input tensors were scalars; will instead unsqueeze and return a vector.\n",
      "  warnings.warn('Was asked to gather along dimension 0, but all '\n"
     ]
    },
    {
     "name": "stdout",
     "output_type": "stream",
     "text": [
      "Classification Report:\n",
      "              precision    recall  f1-score   support\n",
      "\n",
      "       Anger     0.7638    0.8444    0.8021       180\n",
      "        Fear     0.7852    0.8731    0.8269       134\n",
      "         Joy     0.8154    0.7644    0.7891       208\n",
      "        Love     0.7248    0.7822    0.7524       101\n",
      "     Neutral     0.7343    0.6838    0.7082       291\n",
      "         Sad     0.7770    0.7297    0.7526       148\n",
      "\n",
      "    accuracy                         0.7665      1062\n",
      "   macro avg     0.7668    0.7796    0.7719      1062\n",
      "weighted avg     0.7667    0.7665    0.7653      1062\n",
      "\n"
     ]
    },
    {
     "data": {
      "image/png": "[encoded data removed]",
      "text/plain": [
       "<Figure size 576x432 with 2 Axes>"
      ]
     },
     "metadata": {
      "needs_background": "light"
     },
     "output_type": "display_data"
    },
    {
     "name": "stdout",
     "output_type": "stream",
     "text": [
      "Training finished!\n"
     ]
    },
    {
     "data": {
      "image/png": "[encoded data removed]",
      "text/plain": [
       "<Figure size 432x288 with 1 Axes>"
      ]
     },
     "metadata": {},
     "output_type": "display_data"
    },
    {
     "name": "stdout",
     "output_type": "stream",
     "text": [
      "Total time: 8.704496403535208 minutes\n"
     ]
    }
   ],
   "source": [
    "#1 IndoBERTweet peft\n",
    "\n",
    "main(\n",
    "    model_name = 'indolem/indobertweet-base-uncased',\n",
    "    output_dir = 'p-emotcls-indobertweet-base',\n",
    "    best_params = 'best_params/p-indobertweet.json'\n",
    ")"
   ]
  },
  {
   "cell_type": "code",
   "execution_count": 11,
   "id": "db2f9eed",
   "metadata": {},
   "outputs": [
    {
     "name": "stdout",
     "output_type": "stream",
     "text": [
      "{'num_train_epochs': 10, 'learning_rate': 0.0003, 'per_device_train_batch_size': 16, 'per_device_eval_batch_size': 8, 'weight_decay': 0.05332656928607487}\n"
     ]
    },
    {
     "name": "stderr",
     "output_type": "stream",
     "text": [
      "loading configuration file config.json from cache at /home/jupyter-145230403/.cache/huggingface/hub/models--FacebookAI--xlm-roberta-large/snapshots/c23d21b0620b635a76227c604d44e43a9f0ee389/config.json\n",
      "Model config XLMRobertaConfig {\n",
      "  \"_name_or_path\": \"FacebookAI/xlm-roberta-large\",\n",
      "  \"architectures\": [\n",
      "    \"XLMRobertaForMaskedLM\"\n",
      "  ],\n",
      "  \"attention_probs_dropout_prob\": 0.1,\n",
      "  \"bos_token_id\": 0,\n",
      "  \"classifier_dropout\": null,\n",
      "  \"eos_token_id\": 2,\n",
      "  \"hidden_act\": \"gelu\",\n",
      "  \"hidden_dropout_prob\": 0.1,\n",
      "  \"hidden_size\": 1024,\n",
      "  \"id2label\": {\n",
      "    \"0\": \"Anger\",\n",
      "    \"1\": \"Fear\",\n",
      "    \"2\": \"Joy\",\n",
      "    \"3\": \"Love\",\n",
      "    \"4\": \"Neutral\",\n",
      "    \"5\": \"Sad\"\n",
      "  },\n",
      "  \"initializer_range\": 0.02,\n",
      "  \"intermediate_size\": 4096,\n",
      "  \"label2id\": {\n",
      "    \"Anger\": 0,\n",
      "    \"Fear\": 1,\n",
      "    \"Joy\": 2,\n",
      "    \"Love\": 3,\n",
      "    \"Neutral\": 4,\n",
      "    \"Sad\": 5\n",
      "  },\n",
      "  \"layer_norm_eps\": 1e-05,\n",
      "  \"max_position_embeddings\": 514,\n",
      "  \"model_type\": \"xlm-roberta\",\n",
      "  \"num_attention_heads\": 16,\n",
      "  \"num_hidden_layers\": 24,\n",
      "  \"output_past\": true,\n",
      "  \"pad_token_id\": 1,\n",
      "  \"position_embedding_type\": \"absolute\",\n",
      "  \"transformers_version\": \"4.26.1\",\n",
      "  \"type_vocab_size\": 1,\n",
      "  \"use_cache\": true,\n",
      "  \"vocab_size\": 250002\n",
      "}\n",
      "\n",
      "loading weights file model.safetensors from cache at /home/jupyter-145230403/.cache/huggingface/hub/models--FacebookAI--xlm-roberta-large/snapshots/c23d21b0620b635a76227c604d44e43a9f0ee389/model.safetensors\n",
      "Some weights of the model checkpoint at FacebookAI/xlm-roberta-large were not used when initializing XLMRobertaForSequenceClassification: ['lm_head.dense.weight', 'lm_head.layer_norm.weight', 'lm_head.bias', 'roberta.pooler.dense.bias', 'roberta.pooler.dense.weight', 'lm_head.layer_norm.bias', 'lm_head.dense.bias']\n",
      "- This IS expected if you are initializing XLMRobertaForSequenceClassification from the checkpoint of a model trained on another task or with another architecture (e.g. initializing a BertForSequenceClassification model from a BertForPreTraining model).\n",
      "- This IS NOT expected if you are initializing XLMRobertaForSequenceClassification from the checkpoint of a model that you expect to be exactly identical (initializing a BertForSequenceClassification model from a BertForSequenceClassification model).\n",
      "Some weights of XLMRobertaForSequenceClassification were not initialized from the model checkpoint at FacebookAI/xlm-roberta-large and are newly initialized: ['classifier.out_proj.bias', 'classifier.dense.bias', 'classifier.dense.weight', 'classifier.out_proj.weight']\n",
      "You should probably TRAIN this model on a down-stream task to be able to use it for predictions and inference.\n",
      "loading configuration file config.json from cache at /home/jupyter-145230403/.cache/huggingface/hub/models--FacebookAI--xlm-roberta-large/snapshots/c23d21b0620b635a76227c604d44e43a9f0ee389/config.json\n",
      "Model config XLMRobertaConfig {\n",
      "  \"_name_or_path\": \"FacebookAI/xlm-roberta-large\",\n",
      "  \"architectures\": [\n",
      "    \"XLMRobertaForMaskedLM\"\n",
      "  ],\n",
      "  \"attention_probs_dropout_prob\": 0.1,\n",
      "  \"bos_token_id\": 0,\n",
      "  \"classifier_dropout\": null,\n",
      "  \"eos_token_id\": 2,\n",
      "  \"hidden_act\": \"gelu\",\n",
      "  \"hidden_dropout_prob\": 0.1,\n",
      "  \"hidden_size\": 1024,\n",
      "  \"initializer_range\": 0.02,\n",
      "  \"intermediate_size\": 4096,\n",
      "  \"layer_norm_eps\": 1e-05,\n",
      "  \"max_position_embeddings\": 514,\n",
      "  \"model_type\": \"xlm-roberta\",\n",
      "  \"num_attention_heads\": 16,\n",
      "  \"num_hidden_layers\": 24,\n",
      "  \"output_past\": true,\n",
      "  \"pad_token_id\": 1,\n",
      "  \"position_embedding_type\": \"absolute\",\n",
      "  \"transformers_version\": \"4.26.1\",\n",
      "  \"type_vocab_size\": 1,\n",
      "  \"use_cache\": true,\n",
      "  \"vocab_size\": 250002\n",
      "}\n",
      "\n",
      "loading file sentencepiece.bpe.model from cache at /home/jupyter-145230403/.cache/huggingface/hub/models--FacebookAI--xlm-roberta-large/snapshots/c23d21b0620b635a76227c604d44e43a9f0ee389/sentencepiece.bpe.model\n",
      "loading file tokenizer.json from cache at /home/jupyter-145230403/.cache/huggingface/hub/models--FacebookAI--xlm-roberta-large/snapshots/c23d21b0620b635a76227c604d44e43a9f0ee389/tokenizer.json\n",
      "loading file added_tokens.json from cache at None\n",
      "loading file special_tokens_map.json from cache at None\n",
      "loading file tokenizer_config.json from cache at /home/jupyter-145230403/.cache/huggingface/hub/models--FacebookAI--xlm-roberta-large/snapshots/c23d21b0620b635a76227c604d44e43a9f0ee389/tokenizer_config.json\n",
      "loading configuration file config.json from cache at /home/jupyter-145230403/.cache/huggingface/hub/models--FacebookAI--xlm-roberta-large/snapshots/c23d21b0620b635a76227c604d44e43a9f0ee389/config.json\n",
      "Model config XLMRobertaConfig {\n",
      "  \"_name_or_path\": \"FacebookAI/xlm-roberta-large\",\n",
      "  \"architectures\": [\n",
      "    \"XLMRobertaForMaskedLM\"\n",
      "  ],\n",
      "  \"attention_probs_dropout_prob\": 0.1,\n",
      "  \"bos_token_id\": 0,\n",
      "  \"classifier_dropout\": null,\n",
      "  \"eos_token_id\": 2,\n",
      "  \"hidden_act\": \"gelu\",\n",
      "  \"hidden_dropout_prob\": 0.1,\n",
      "  \"hidden_size\": 1024,\n",
      "  \"initializer_range\": 0.02,\n",
      "  \"intermediate_size\": 4096,\n",
      "  \"layer_norm_eps\": 1e-05,\n",
      "  \"max_position_embeddings\": 514,\n",
      "  \"model_type\": \"xlm-roberta\",\n",
      "  \"num_attention_heads\": 16,\n",
      "  \"num_hidden_layers\": 24,\n",
      "  \"output_past\": true,\n",
      "  \"pad_token_id\": 1,\n",
      "  \"position_embedding_type\": \"absolute\",\n",
      "  \"transformers_version\": \"4.26.1\",\n",
      "  \"type_vocab_size\": 1,\n",
      "  \"use_cache\": true,\n",
      "  \"vocab_size\": 250002\n",
      "}\n",
      "\n"
     ]
    },
    {
     "name": "stdout",
     "output_type": "stream",
     "text": [
      "trainable params: 1,842,182 || all params: 561,738,764 || trainable%: 0.32794283002338787\n"
     ]
    },
    {
     "data": {
      "application/vnd.jupyter.widget-view+json": {
       "model_id": "f1161d9add5341aeaf2b769ea91513a4",
       "version_major": 2,
       "version_minor": 0
      },
      "text/plain": [
       "  0%|          | 0/5 [00:00<?, ?ba/s]"
      ]
     },
     "metadata": {},
     "output_type": "display_data"
    },
    {
     "data": {
      "application/vnd.jupyter.widget-view+json": {
       "model_id": "5ce4bbfdec7d4bbdac3b5730c6dcde10",
       "version_major": 2,
       "version_minor": 0
      },
      "text/plain": [
       "  0%|          | 0/2 [00:00<?, ?ba/s]"
      ]
     },
     "metadata": {},
     "output_type": "display_data"
    },
    {
     "data": {
      "application/vnd.jupyter.widget-view+json": {
       "model_id": "09e0b99fb0fa4d89ad65bb69067178d2",
       "version_major": 2,
       "version_minor": 0
      },
      "text/plain": [
       "  0%|          | 0/2 [00:00<?, ?ba/s]"
      ]
     },
     "metadata": {},
     "output_type": "display_data"
    },
    {
     "name": "stderr",
     "output_type": "stream",
     "text": [
      "PyTorch: setting up devices\n",
      "The default value for the training argument `--report_to` will change in v5 (from all installed integrations to none). In v5, you will need to use `--report_to all` to get the same behavior as now. You should start updating your code and make this info disappear :-).\n",
      "The following columns in the training set don't have a corresponding argument in `PeftModelForSequenceClassification.forward` and have been ignored: tweet, index. If tweet, index are not expected by `PeftModelForSequenceClassification.forward`,  you can safely ignore this message.\n",
      "/home/jupyter-145230403/.conda/envs/conda_env_2/lib/python3.9/site-packages/transformers/optimization.py:306: FutureWarning: This implementation of AdamW is deprecated and will be removed in a future version. Use the PyTorch implementation torch.optim.AdamW instead, or set `no_deprecation_warning=True` to disable this warning\n",
      "  warnings.warn(\n",
      "***** Running training *****\n",
      "  Num examples = 4956\n",
      "  Num Epochs = 10\n",
      "  Instantaneous batch size per device = 16\n",
      "  Total train batch size (w. parallel, distributed & accumulation) = 64\n",
      "  Gradient Accumulation steps = 1\n",
      "  Total optimization steps = 780\n",
      "  Number of trainable parameters = 1842182\n",
      "Automatic Weights & Biases logging enabled, to disable set os.environ[\"WANDB_DISABLED\"] = \"true\"\n",
      "You're using a XLMRobertaTokenizerFast tokenizer. Please note that with a fast tokenizer, using the `__call__` method is faster than using a method to encode the text followed by a call to the `pad` method to get a padded encoding.\n",
      "/home/jupyter-145230403/.conda/envs/conda_env_2/lib/python3.9/site-packages/torch/nn/parallel/_functions.py:68: UserWarning: Was asked to gather along dimension 0, but all input tensors were scalars; will instead unsqueeze and return a vector.\n",
      "  warnings.warn('Was asked to gather along dimension 0, but all '\n"
     ]
    },
    {
     "data": {
      "text/html": [
       "\n",
       "    <div>\n",
       "      \n",
       "      <progress value='780' max='780' style='width:300px; height:20px; vertical-align: middle;'></progress>\n",
       "      [780/780 18:34, Epoch 10/10]\n",
       "    </div>\n",
       "    <table border=\"1\" class=\"dataframe\">\n",
       "  <thead>\n",
       " <tr style=\"text-align: left;\">\n",
       "      <th>Epoch</th>\n",
       "      <th>Training Loss</th>\n",
       "      <th>Validation Loss</th>\n",
       "      <th>Accuracy</th>\n",
       "      <th>Precision</th>\n",
       "      <th>Recall</th>\n",
       "      <th>F1</th>\n",
       "    </tr>\n",
       "  </thead>\n",
       "  <tbody>\n",
       "    <tr>\n",
       "      <td>1</td>\n",
       "      <td>1.585800</td>\n",
       "      <td>0.884242</td>\n",
       "      <td>0.686441</td>\n",
       "      <td>0.707617</td>\n",
       "      <td>0.691313</td>\n",
       "      <td>0.690722</td>\n",
       "    </tr>\n",
       "    <tr>\n",
       "      <td>2</td>\n",
       "      <td>0.831900</td>\n",
       "      <td>0.712290</td>\n",
       "      <td>0.746704</td>\n",
       "      <td>0.749764</td>\n",
       "      <td>0.766580</td>\n",
       "      <td>0.755207</td>\n",
       "    </tr>\n",
       "    <tr>\n",
       "      <td>3</td>\n",
       "      <td>0.700100</td>\n",
       "      <td>0.645954</td>\n",
       "      <td>0.758004</td>\n",
       "      <td>0.767204</td>\n",
       "      <td>0.770311</td>\n",
       "      <td>0.767633</td>\n",
       "    </tr>\n",
       "    <tr>\n",
       "      <td>4</td>\n",
       "      <td>0.626100</td>\n",
       "      <td>0.646312</td>\n",
       "      <td>0.763653</td>\n",
       "      <td>0.764444</td>\n",
       "      <td>0.780781</td>\n",
       "      <td>0.770773</td>\n",
       "    </tr>\n",
       "    <tr>\n",
       "      <td>5</td>\n",
       "      <td>0.554300</td>\n",
       "      <td>0.654962</td>\n",
       "      <td>0.766478</td>\n",
       "      <td>0.768968</td>\n",
       "      <td>0.787318</td>\n",
       "      <td>0.774223</td>\n",
       "    </tr>\n",
       "    <tr>\n",
       "      <td>6</td>\n",
       "      <td>0.517800</td>\n",
       "      <td>0.632166</td>\n",
       "      <td>0.775895</td>\n",
       "      <td>0.779214</td>\n",
       "      <td>0.787601</td>\n",
       "      <td>0.781919</td>\n",
       "    </tr>\n",
       "    <tr>\n",
       "      <td>7</td>\n",
       "      <td>0.492700</td>\n",
       "      <td>0.637864</td>\n",
       "      <td>0.772128</td>\n",
       "      <td>0.777820</td>\n",
       "      <td>0.783964</td>\n",
       "      <td>0.780025</td>\n",
       "    </tr>\n",
       "    <tr>\n",
       "      <td>8</td>\n",
       "      <td>0.459800</td>\n",
       "      <td>0.645747</td>\n",
       "      <td>0.770245</td>\n",
       "      <td>0.767829</td>\n",
       "      <td>0.792042</td>\n",
       "      <td>0.777374</td>\n",
       "    </tr>\n",
       "    <tr>\n",
       "      <td>9</td>\n",
       "      <td>0.440300</td>\n",
       "      <td>0.643894</td>\n",
       "      <td>0.776836</td>\n",
       "      <td>0.782715</td>\n",
       "      <td>0.788353</td>\n",
       "      <td>0.784770</td>\n",
       "    </tr>\n",
       "    <tr>\n",
       "      <td>10</td>\n",
       "      <td>0.415100</td>\n",
       "      <td>0.644254</td>\n",
       "      <td>0.776836</td>\n",
       "      <td>0.779057</td>\n",
       "      <td>0.791226</td>\n",
       "      <td>0.784026</td>\n",
       "    </tr>\n",
       "  </tbody>\n",
       "</table><p>"
      ],
      "text/plain": [
       "<IPython.core.display.HTML object>"
      ]
     },
     "metadata": {},
     "output_type": "display_data"
    },
    {
     "name": "stderr",
     "output_type": "stream",
     "text": [
      "The following columns in the evaluation set don't have a corresponding argument in `PeftModelForSequenceClassification.forward` and have been ignored: tweet, index. If tweet, index are not expected by `PeftModelForSequenceClassification.forward`,  you can safely ignore this message.\n",
      "***** Running Evaluation *****\n",
      "  Num examples = 1062\n",
      "  Batch size = 32\n"
     ]
    },
    {
     "name": "stdout",
     "output_type": "stream",
     "text": [
      "Classification Report:\n",
      "              precision    recall  f1-score   support\n",
      "\n",
      "       Anger     0.6077    0.7216    0.6597       176\n",
      "        Fear     0.8587    0.5374    0.6611       147\n",
      "         Joy     0.7712    0.6667    0.7152       177\n",
      "        Love     0.6767    0.7826    0.7258       115\n",
      "     Neutral     0.6569    0.6745    0.6656       298\n",
      "         Sad     0.6746    0.7651    0.7170       149\n",
      "\n",
      "    accuracy                         0.6864      1062\n",
      "   macro avg     0.7076    0.6913    0.6907      1062\n",
      "weighted avg     0.7003    0.6864    0.6860      1062\n",
      "\n"
     ]
    },
    {
     "name": "stderr",
     "output_type": "stream",
     "text": [
      "Saving model checkpoint to p-emotcls-xlm-r-large/checkpoint-78\n",
      "Trainer.model is not a `PreTrainedModel`, only saving its state dict.\n",
      "tokenizer config file saved in p-emotcls-xlm-r-large/checkpoint-78/tokenizer_config.json\n",
      "Special tokens file saved in p-emotcls-xlm-r-large/checkpoint-78/special_tokens_map.json\n",
      "/home/jupyter-145230403/.conda/envs/conda_env_2/lib/python3.9/site-packages/torch/nn/parallel/_functions.py:68: UserWarning: Was asked to gather along dimension 0, but all input tensors were scalars; will instead unsqueeze and return a vector.\n",
      "  warnings.warn('Was asked to gather along dimension 0, but all '\n",
      "The following columns in the evaluation set don't have a corresponding argument in `PeftModelForSequenceClassification.forward` and have been ignored: tweet, index. If tweet, index are not expected by `PeftModelForSequenceClassification.forward`,  you can safely ignore this message.\n",
      "***** Running Evaluation *****\n",
      "  Num examples = 1062\n",
      "  Batch size = 32\n"
     ]
    },
    {
     "name": "stdout",
     "output_type": "stream",
     "text": [
      "Classification Report:\n",
      "              precision    recall  f1-score   support\n",
      "\n",
      "       Anger     0.7317    0.8523    0.7874       176\n",
      "        Fear     0.8146    0.8367    0.8255       147\n",
      "         Joy     0.7228    0.7514    0.7368       177\n",
      "        Love     0.6715    0.8000    0.7302       115\n",
      "     Neutral     0.7371    0.6208    0.6740       298\n",
      "         Sad     0.8209    0.7383    0.7774       149\n",
      "\n",
      "    accuracy                         0.7467      1062\n",
      "   macro avg     0.7498    0.7666    0.7552      1062\n",
      "weighted avg     0.7492    0.7467    0.7448      1062\n",
      "\n"
     ]
    },
    {
     "name": "stderr",
     "output_type": "stream",
     "text": [
      "Saving model checkpoint to p-emotcls-xlm-r-large/checkpoint-156\n",
      "Trainer.model is not a `PreTrainedModel`, only saving its state dict.\n",
      "tokenizer config file saved in p-emotcls-xlm-r-large/checkpoint-156/tokenizer_config.json\n",
      "Special tokens file saved in p-emotcls-xlm-r-large/checkpoint-156/special_tokens_map.json\n",
      "Deleting older checkpoint [p-emotcls-xlm-r-large/checkpoint-78] due to args.save_total_limit\n",
      "/home/jupyter-145230403/.conda/envs/conda_env_2/lib/python3.9/site-packages/torch/nn/parallel/_functions.py:68: UserWarning: Was asked to gather along dimension 0, but all input tensors were scalars; will instead unsqueeze and return a vector.\n",
      "  warnings.warn('Was asked to gather along dimension 0, but all '\n",
      "The following columns in the evaluation set don't have a corresponding argument in `PeftModelForSequenceClassification.forward` and have been ignored: tweet, index. If tweet, index are not expected by `PeftModelForSequenceClassification.forward`,  you can safely ignore this message.\n",
      "***** Running Evaluation *****\n",
      "  Num examples = 1062\n",
      "  Batch size = 32\n"
     ]
    },
    {
     "name": "stdout",
     "output_type": "stream",
     "text": [
      "Classification Report:\n",
      "              precision    recall  f1-score   support\n",
      "\n",
      "       Anger     0.7637    0.7898    0.7765       176\n",
      "        Fear     0.8289    0.8571    0.8428       147\n",
      "         Joy     0.7925    0.7119    0.7500       177\n",
      "        Love     0.7023    0.8000    0.7480       115\n",
      "     Neutral     0.6957    0.6980    0.6968       298\n",
      "         Sad     0.8201    0.7651    0.7917       149\n",
      "\n",
      "    accuracy                         0.7580      1062\n",
      "   macro avg     0.7672    0.7703    0.7676      1062\n",
      "weighted avg     0.7597    0.7580    0.7579      1062\n",
      "\n"
     ]
    },
    {
     "name": "stderr",
     "output_type": "stream",
     "text": [
      "Saving model checkpoint to p-emotcls-xlm-r-large/checkpoint-234\n",
      "Trainer.model is not a `PreTrainedModel`, only saving its state dict.\n",
      "tokenizer config file saved in p-emotcls-xlm-r-large/checkpoint-234/tokenizer_config.json\n",
      "Special tokens file saved in p-emotcls-xlm-r-large/checkpoint-234/special_tokens_map.json\n",
      "Deleting older checkpoint [p-emotcls-xlm-r-large/checkpoint-156] due to args.save_total_limit\n",
      "/home/jupyter-145230403/.conda/envs/conda_env_2/lib/python3.9/site-packages/torch/nn/parallel/_functions.py:68: UserWarning: Was asked to gather along dimension 0, but all input tensors were scalars; will instead unsqueeze and return a vector.\n",
      "  warnings.warn('Was asked to gather along dimension 0, but all '\n",
      "The following columns in the evaluation set don't have a corresponding argument in `PeftModelForSequenceClassification.forward` and have been ignored: tweet, index. If tweet, index are not expected by `PeftModelForSequenceClassification.forward`,  you can safely ignore this message.\n",
      "***** Running Evaluation *****\n",
      "  Num examples = 1062\n",
      "  Batch size = 32\n"
     ]
    },
    {
     "name": "stdout",
     "output_type": "stream",
     "text": [
      "Classification Report:\n",
      "              precision    recall  f1-score   support\n",
      "\n",
      "       Anger     0.7833    0.8011    0.7921       176\n",
      "        Fear     0.8378    0.8435    0.8407       147\n",
      "         Joy     0.7035    0.7910    0.7447       177\n",
      "        Love     0.6767    0.7826    0.7258       115\n",
      "     Neutral     0.7677    0.6544    0.7065       298\n",
      "         Sad     0.8176    0.8121    0.8148       149\n",
      "\n",
      "    accuracy                         0.7637      1062\n",
      "   macro avg     0.7644    0.7808    0.7708      1062\n",
      "weighted avg     0.7664    0.7637    0.7629      1062\n",
      "\n"
     ]
    },
    {
     "name": "stderr",
     "output_type": "stream",
     "text": [
      "Saving model checkpoint to p-emotcls-xlm-r-large/checkpoint-312\n",
      "Trainer.model is not a `PreTrainedModel`, only saving its state dict.\n",
      "tokenizer config file saved in p-emotcls-xlm-r-large/checkpoint-312/tokenizer_config.json\n",
      "Special tokens file saved in p-emotcls-xlm-r-large/checkpoint-312/special_tokens_map.json\n",
      "/home/jupyter-145230403/.conda/envs/conda_env_2/lib/python3.9/site-packages/torch/nn/parallel/_functions.py:68: UserWarning: Was asked to gather along dimension 0, but all input tensors were scalars; will instead unsqueeze and return a vector.\n",
      "  warnings.warn('Was asked to gather along dimension 0, but all '\n",
      "The following columns in the evaluation set don't have a corresponding argument in `PeftModelForSequenceClassification.forward` and have been ignored: tweet, index. If tweet, index are not expected by `PeftModelForSequenceClassification.forward`,  you can safely ignore this message.\n",
      "***** Running Evaluation *****\n",
      "  Num examples = 1062\n",
      "  Batch size = 32\n"
     ]
    },
    {
     "name": "stdout",
     "output_type": "stream",
     "text": [
      "Classification Report:\n",
      "              precision    recall  f1-score   support\n",
      "\n",
      "       Anger     0.7449    0.8295    0.7849       176\n",
      "        Fear     0.8581    0.8639    0.8610       147\n",
      "         Joy     0.6860    0.8023    0.7396       177\n",
      "        Love     0.6788    0.8087    0.7381       115\n",
      "     Neutral     0.8043    0.6342    0.7092       298\n",
      "         Sad     0.8417    0.7852    0.8125       149\n",
      "\n",
      "    accuracy                         0.7665      1062\n",
      "   macro avg     0.7690    0.7873    0.7742      1062\n",
      "weighted avg     0.7738    0.7665    0.7655      1062\n",
      "\n"
     ]
    },
    {
     "name": "stderr",
     "output_type": "stream",
     "text": [
      "Saving model checkpoint to p-emotcls-xlm-r-large/checkpoint-390\n",
      "Trainer.model is not a `PreTrainedModel`, only saving its state dict.\n",
      "tokenizer config file saved in p-emotcls-xlm-r-large/checkpoint-390/tokenizer_config.json\n",
      "Special tokens file saved in p-emotcls-xlm-r-large/checkpoint-390/special_tokens_map.json\n",
      "Deleting older checkpoint [p-emotcls-xlm-r-large/checkpoint-312] due to args.save_total_limit\n",
      "/home/jupyter-145230403/.conda/envs/conda_env_2/lib/python3.9/site-packages/torch/nn/parallel/_functions.py:68: UserWarning: Was asked to gather along dimension 0, but all input tensors were scalars; will instead unsqueeze and return a vector.\n",
      "  warnings.warn('Was asked to gather along dimension 0, but all '\n",
      "The following columns in the evaluation set don't have a corresponding argument in `PeftModelForSequenceClassification.forward` and have been ignored: tweet, index. If tweet, index are not expected by `PeftModelForSequenceClassification.forward`,  you can safely ignore this message.\n",
      "***** Running Evaluation *****\n",
      "  Num examples = 1062\n",
      "  Batch size = 32\n"
     ]
    },
    {
     "name": "stdout",
     "output_type": "stream",
     "text": [
      "Classification Report:\n",
      "              precision    recall  f1-score   support\n",
      "\n",
      "       Anger     0.7790    0.8011    0.7899       176\n",
      "        Fear     0.8662    0.8367    0.8512       147\n",
      "         Joy     0.7514    0.7684    0.7598       177\n",
      "        Love     0.6835    0.8261    0.7480       115\n",
      "     Neutral     0.7607    0.7148    0.7370       298\n",
      "         Sad     0.8345    0.7785    0.8056       149\n",
      "\n",
      "    accuracy                         0.7759      1062\n",
      "   macro avg     0.7792    0.7876    0.7819      1062\n",
      "weighted avg     0.7788    0.7759    0.7762      1062\n",
      "\n"
     ]
    },
    {
     "name": "stderr",
     "output_type": "stream",
     "text": [
      "Saving model checkpoint to p-emotcls-xlm-r-large/checkpoint-468\n",
      "Trainer.model is not a `PreTrainedModel`, only saving its state dict.\n",
      "tokenizer config file saved in p-emotcls-xlm-r-large/checkpoint-468/tokenizer_config.json\n",
      "Special tokens file saved in p-emotcls-xlm-r-large/checkpoint-468/special_tokens_map.json\n",
      "Deleting older checkpoint [p-emotcls-xlm-r-large/checkpoint-234] due to args.save_total_limit\n",
      "Deleting older checkpoint [p-emotcls-xlm-r-large/checkpoint-390] due to args.save_total_limit\n",
      "/home/jupyter-145230403/.conda/envs/conda_env_2/lib/python3.9/site-packages/torch/nn/parallel/_functions.py:68: UserWarning: Was asked to gather along dimension 0, but all input tensors were scalars; will instead unsqueeze and return a vector.\n",
      "  warnings.warn('Was asked to gather along dimension 0, but all '\n",
      "The following columns in the evaluation set don't have a corresponding argument in `PeftModelForSequenceClassification.forward` and have been ignored: tweet, index. If tweet, index are not expected by `PeftModelForSequenceClassification.forward`,  you can safely ignore this message.\n",
      "***** Running Evaluation *****\n",
      "  Num examples = 1062\n",
      "  Batch size = 32\n"
     ]
    },
    {
     "name": "stdout",
     "output_type": "stream",
     "text": [
      "Classification Report:\n",
      "              precision    recall  f1-score   support\n",
      "\n",
      "       Anger     0.7474    0.8239    0.7838       176\n",
      "        Fear     0.8643    0.8231    0.8432       147\n",
      "         Joy     0.7368    0.7910    0.7629       177\n",
      "        Love     0.7500    0.7826    0.7660       115\n",
      "     Neutral     0.7546    0.6913    0.7215       298\n",
      "         Sad     0.8138    0.7919    0.8027       149\n",
      "\n",
      "    accuracy                         0.7721      1062\n",
      "   macro avg     0.7778    0.7840    0.7800      1062\n",
      "weighted avg     0.7734    0.7721    0.7718      1062\n",
      "\n"
     ]
    },
    {
     "name": "stderr",
     "output_type": "stream",
     "text": [
      "Saving model checkpoint to p-emotcls-xlm-r-large/checkpoint-546\n",
      "Trainer.model is not a `PreTrainedModel`, only saving its state dict.\n",
      "tokenizer config file saved in p-emotcls-xlm-r-large/checkpoint-546/tokenizer_config.json\n",
      "Special tokens file saved in p-emotcls-xlm-r-large/checkpoint-546/special_tokens_map.json\n",
      "/home/jupyter-145230403/.conda/envs/conda_env_2/lib/python3.9/site-packages/torch/nn/parallel/_functions.py:68: UserWarning: Was asked to gather along dimension 0, but all input tensors were scalars; will instead unsqueeze and return a vector.\n",
      "  warnings.warn('Was asked to gather along dimension 0, but all '\n",
      "The following columns in the evaluation set don't have a corresponding argument in `PeftModelForSequenceClassification.forward` and have been ignored: tweet, index. If tweet, index are not expected by `PeftModelForSequenceClassification.forward`,  you can safely ignore this message.\n",
      "***** Running Evaluation *****\n",
      "  Num examples = 1062\n",
      "  Batch size = 32\n"
     ]
    },
    {
     "name": "stdout",
     "output_type": "stream",
     "text": [
      "Classification Report:\n",
      "              precision    recall  f1-score   support\n",
      "\n",
      "       Anger     0.7647    0.8125    0.7879       176\n",
      "        Fear     0.8258    0.8707    0.8477       147\n",
      "         Joy     0.7460    0.7966    0.7705       177\n",
      "        Love     0.7037    0.8261    0.7600       115\n",
      "     Neutral     0.7925    0.6409    0.7087       298\n",
      "         Sad     0.7742    0.8054    0.7895       149\n",
      "\n",
      "    accuracy                         0.7702      1062\n",
      "   macro avg     0.7678    0.7920    0.7774      1062\n",
      "weighted avg     0.7726    0.7702    0.7683      1062\n",
      "\n"
     ]
    },
    {
     "name": "stderr",
     "output_type": "stream",
     "text": [
      "Saving model checkpoint to p-emotcls-xlm-r-large/checkpoint-624\n",
      "Trainer.model is not a `PreTrainedModel`, only saving its state dict.\n",
      "tokenizer config file saved in p-emotcls-xlm-r-large/checkpoint-624/tokenizer_config.json\n",
      "Special tokens file saved in p-emotcls-xlm-r-large/checkpoint-624/special_tokens_map.json\n",
      "Deleting older checkpoint [p-emotcls-xlm-r-large/checkpoint-546] due to args.save_total_limit\n",
      "/home/jupyter-145230403/.conda/envs/conda_env_2/lib/python3.9/site-packages/torch/nn/parallel/_functions.py:68: UserWarning: Was asked to gather along dimension 0, but all input tensors were scalars; will instead unsqueeze and return a vector.\n",
      "  warnings.warn('Was asked to gather along dimension 0, but all '\n",
      "The following columns in the evaluation set don't have a corresponding argument in `PeftModelForSequenceClassification.forward` and have been ignored: tweet, index. If tweet, index are not expected by `PeftModelForSequenceClassification.forward`,  you can safely ignore this message.\n",
      "***** Running Evaluation *****\n",
      "  Num examples = 1062\n",
      "  Batch size = 32\n"
     ]
    },
    {
     "name": "stdout",
     "output_type": "stream",
     "text": [
      "Classification Report:\n",
      "              precision    recall  f1-score   support\n",
      "\n",
      "       Anger     0.7647    0.8125    0.7879       176\n",
      "        Fear     0.8768    0.8231    0.8491       147\n",
      "         Joy     0.7448    0.8079    0.7751       177\n",
      "        Love     0.7541    0.8000    0.7764       115\n",
      "     Neutral     0.7545    0.7013    0.7270       298\n",
      "         Sad     0.8014    0.7852    0.7932       149\n",
      "\n",
      "    accuracy                         0.7768      1062\n",
      "   macro avg     0.7827    0.7884    0.7848      1062\n",
      "weighted avg     0.7780    0.7768    0.7766      1062\n",
      "\n"
     ]
    },
    {
     "name": "stderr",
     "output_type": "stream",
     "text": [
      "Saving model checkpoint to p-emotcls-xlm-r-large/checkpoint-702\n",
      "Trainer.model is not a `PreTrainedModel`, only saving its state dict.\n",
      "tokenizer config file saved in p-emotcls-xlm-r-large/checkpoint-702/tokenizer_config.json\n",
      "Special tokens file saved in p-emotcls-xlm-r-large/checkpoint-702/special_tokens_map.json\n",
      "Deleting older checkpoint [p-emotcls-xlm-r-large/checkpoint-624] due to args.save_total_limit\n",
      "/home/jupyter-145230403/.conda/envs/conda_env_2/lib/python3.9/site-packages/torch/nn/parallel/_functions.py:68: UserWarning: Was asked to gather along dimension 0, but all input tensors were scalars; will instead unsqueeze and return a vector.\n",
      "  warnings.warn('Was asked to gather along dimension 0, but all '\n",
      "The following columns in the evaluation set don't have a corresponding argument in `PeftModelForSequenceClassification.forward` and have been ignored: tweet, index. If tweet, index are not expected by `PeftModelForSequenceClassification.forward`,  you can safely ignore this message.\n",
      "***** Running Evaluation *****\n",
      "  Num examples = 1062\n",
      "  Batch size = 32\n"
     ]
    },
    {
     "name": "stdout",
     "output_type": "stream",
     "text": [
      "Classification Report:\n",
      "              precision    recall  f1-score   support\n",
      "\n",
      "       Anger     0.7604    0.8295    0.7935       176\n",
      "        Fear     0.8389    0.8503    0.8446       147\n",
      "         Joy     0.7527    0.7910    0.7713       177\n",
      "        Love     0.7244    0.8000    0.7603       115\n",
      "     Neutral     0.7669    0.6846    0.7234       298\n",
      "         Sad     0.8310    0.7919    0.8110       149\n",
      "\n",
      "    accuracy                         0.7768      1062\n",
      "   macro avg     0.7791    0.7912    0.7840      1062\n",
      "weighted avg     0.7778    0.7768    0.7761      1062\n",
      "\n"
     ]
    },
    {
     "name": "stderr",
     "output_type": "stream",
     "text": [
      "Saving model checkpoint to p-emotcls-xlm-r-large/checkpoint-780\n",
      "Trainer.model is not a `PreTrainedModel`, only saving its state dict.\n",
      "tokenizer config file saved in p-emotcls-xlm-r-large/checkpoint-780/tokenizer_config.json\n",
      "Special tokens file saved in p-emotcls-xlm-r-large/checkpoint-780/special_tokens_map.json\n",
      "Deleting older checkpoint [p-emotcls-xlm-r-large/checkpoint-702] due to args.save_total_limit\n",
      "\n",
      "\n",
      "Training completed. Do not forget to share your model on huggingface.co/models =)\n",
      "\n",
      "\n",
      "Loading best model from p-emotcls-xlm-r-large/checkpoint-468 (score: 0.6321663856506348).\n",
      "Deleting older checkpoint [p-emotcls-xlm-r-large/checkpoint-780] due to args.save_total_limit\n",
      "Saving model checkpoint to p-emotcls-xlm-r-large\n",
      "Trainer.model is not a `PreTrainedModel`, only saving its state dict.\n",
      "tokenizer config file saved in p-emotcls-xlm-r-large/tokenizer_config.json\n",
      "Special tokens file saved in p-emotcls-xlm-r-large/special_tokens_map.json\n",
      "The following columns in the evaluation set don't have a corresponding argument in `PeftModelForSequenceClassification.forward` and have been ignored: tweet, index. If tweet, index are not expected by `PeftModelForSequenceClassification.forward`,  you can safely ignore this message.\n",
      "***** Running Evaluation *****\n",
      "  Num examples = 1062\n",
      "  Batch size = 32\n",
      "/home/jupyter-145230403/.conda/envs/conda_env_2/lib/python3.9/site-packages/torch/nn/parallel/_functions.py:68: UserWarning: Was asked to gather along dimension 0, but all input tensors were scalars; will instead unsqueeze and return a vector.\n",
      "  warnings.warn('Was asked to gather along dimension 0, but all '\n"
     ]
    },
    {
     "data": {
      "text/html": [],
      "text/plain": [
       "<IPython.core.display.HTML object>"
      ]
     },
     "metadata": {},
     "output_type": "display_data"
    },
    {
     "name": "stderr",
     "output_type": "stream",
     "text": [
      "The following columns in the test set don't have a corresponding argument in `PeftModelForSequenceClassification.forward` and have been ignored: tweet, index. If tweet, index are not expected by `PeftModelForSequenceClassification.forward`,  you can safely ignore this message.\n",
      "***** Running Prediction *****\n",
      "  Num examples = 1062\n",
      "  Batch size = 32\n"
     ]
    },
    {
     "name": "stdout",
     "output_type": "stream",
     "text": [
      "Classification Report:\n",
      "              precision    recall  f1-score   support\n",
      "\n",
      "       Anger     0.8362    0.8222    0.8291       180\n",
      "        Fear     0.8244    0.8060    0.8151       134\n",
      "         Joy     0.8537    0.8413    0.8475       208\n",
      "        Love     0.7059    0.8317    0.7636       101\n",
      "     Neutral     0.7466    0.7491    0.7479       291\n",
      "         Sad     0.8333    0.7770    0.8042       148\n",
      "\n",
      "    accuracy                         0.7985      1062\n",
      "   macro avg     0.8000    0.8046    0.8012      1062\n",
      "weighted avg     0.8008    0.7985    0.7990      1062\n",
      "\n",
      "{'eval_loss': 0.5872529149055481, 'eval_accuracy': 0.7984934086629002, 'eval_precision': 0.8000058730553424, 'eval_recall': 0.8045649356894594, 'eval_f1': 0.8012286174836261, 'eval_runtime': 22.9243, 'eval_samples_per_second': 46.326, 'eval_steps_per_second': 1.483, 'epoch': 10.0}\n"
     ]
    },
    {
     "name": "stderr",
     "output_type": "stream",
     "text": [
      "/home/jupyter-145230403/.conda/envs/conda_env_2/lib/python3.9/site-packages/torch/nn/parallel/_functions.py:68: UserWarning: Was asked to gather along dimension 0, but all input tensors were scalars; will instead unsqueeze and return a vector.\n",
      "  warnings.warn('Was asked to gather along dimension 0, but all '\n"
     ]
    },
    {
     "name": "stdout",
     "output_type": "stream",
     "text": [
      "Classification Report:\n",
      "              precision    recall  f1-score   support\n",
      "\n",
      "       Anger     0.8362    0.8222    0.8291       180\n",
      "        Fear     0.8244    0.8060    0.8151       134\n",
      "         Joy     0.8537    0.8413    0.8475       208\n",
      "        Love     0.7059    0.8317    0.7636       101\n",
      "     Neutral     0.7466    0.7491    0.7479       291\n",
      "         Sad     0.8333    0.7770    0.8042       148\n",
      "\n",
      "    accuracy                         0.7985      1062\n",
      "   macro avg     0.8000    0.8046    0.8012      1062\n",
      "weighted avg     0.8008    0.7985    0.7990      1062\n",
      "\n"
     ]
    },
    {
     "data": {
      "image/png": "[encoded data removed]",
      "text/plain": [
       "<Figure size 576x432 with 2 Axes>"
      ]
     },
     "metadata": {},
     "output_type": "display_data"
    },
    {
     "name": "stdout",
     "output_type": "stream",
     "text": [
      "Training finished!\n"
     ]
    },
    {
     "data": {
      "image/png": "[encoded data removed]",
      "text/plain": [
       "<Figure size 432x288 with 1 Axes>"
      ]
     },
     "metadata": {},
     "output_type": "display_data"
    },
    {
     "name": "stdout",
     "output_type": "stream",
     "text": [
      "Total time: 19.91166760524114 minutes\n"
     ]
    }
   ],
   "source": [
    "#2 FacebookAI/xlm-roberta-large peft\n",
    "\n",
    "main(\n",
    "    model_name = 'FacebookAI/xlm-roberta-large',\n",
    "    output_dir = 'p-emotcls-xlm-r-large',\n",
    "    best_params = 'best_params/p-xlm-r-large.json'\n",
    ")"
   ]
  },
  {
   "cell_type": "code",
   "execution_count": 12,
   "id": "39d15505",
   "metadata": {},
   "outputs": [
    {
     "name": "stdout",
     "output_type": "stream",
     "text": [
      "{'num_train_epochs': 9, 'learning_rate': 0.0003, 'per_device_train_batch_size': 32, 'per_device_eval_batch_size': 64, 'weight_decay': 0.02768291410901637}\n"
     ]
    },
    {
     "name": "stderr",
     "output_type": "stream",
     "text": [
      "loading configuration file config.json from cache at /home/jupyter-145230403/.cache/huggingface/hub/models--FacebookAI--xlm-roberta-base/snapshots/e73636d4f797dec63c3081bb6ed5c7b0bb3f2089/config.json\n",
      "Model config XLMRobertaConfig {\n",
      "  \"_name_or_path\": \"FacebookAI/xlm-roberta-base\",\n",
      "  \"architectures\": [\n",
      "    \"XLMRobertaForMaskedLM\"\n",
      "  ],\n",
      "  \"attention_probs_dropout_prob\": 0.1,\n",
      "  \"bos_token_id\": 0,\n",
      "  \"classifier_dropout\": null,\n",
      "  \"eos_token_id\": 2,\n",
      "  \"hidden_act\": \"gelu\",\n",
      "  \"hidden_dropout_prob\": 0.1,\n",
      "  \"hidden_size\": 768,\n",
      "  \"id2label\": {\n",
      "    \"0\": \"Anger\",\n",
      "    \"1\": \"Fear\",\n",
      "    \"2\": \"Joy\",\n",
      "    \"3\": \"Love\",\n",
      "    \"4\": \"Neutral\",\n",
      "    \"5\": \"Sad\"\n",
      "  },\n",
      "  \"initializer_range\": 0.02,\n",
      "  \"intermediate_size\": 3072,\n",
      "  \"label2id\": {\n",
      "    \"Anger\": 0,\n",
      "    \"Fear\": 1,\n",
      "    \"Joy\": 2,\n",
      "    \"Love\": 3,\n",
      "    \"Neutral\": 4,\n",
      "    \"Sad\": 5\n",
      "  },\n",
      "  \"layer_norm_eps\": 1e-05,\n",
      "  \"max_position_embeddings\": 514,\n",
      "  \"model_type\": \"xlm-roberta\",\n",
      "  \"num_attention_heads\": 12,\n",
      "  \"num_hidden_layers\": 12,\n",
      "  \"output_past\": true,\n",
      "  \"pad_token_id\": 1,\n",
      "  \"position_embedding_type\": \"absolute\",\n",
      "  \"transformers_version\": \"4.26.1\",\n",
      "  \"type_vocab_size\": 1,\n",
      "  \"use_cache\": true,\n",
      "  \"vocab_size\": 250002\n",
      "}\n",
      "\n",
      "loading weights file model.safetensors from cache at /home/jupyter-145230403/.cache/huggingface/hub/models--FacebookAI--xlm-roberta-base/snapshots/e73636d4f797dec63c3081bb6ed5c7b0bb3f2089/model.safetensors\n",
      "Some weights of the model checkpoint at FacebookAI/xlm-roberta-base were not used when initializing XLMRobertaForSequenceClassification: ['lm_head.dense.weight', 'lm_head.layer_norm.weight', 'lm_head.bias', 'roberta.pooler.dense.bias', 'roberta.pooler.dense.weight', 'lm_head.layer_norm.bias', 'lm_head.dense.bias']\n",
      "- This IS expected if you are initializing XLMRobertaForSequenceClassification from the checkpoint of a model trained on another task or with another architecture (e.g. initializing a BertForSequenceClassification model from a BertForPreTraining model).\n",
      "- This IS NOT expected if you are initializing XLMRobertaForSequenceClassification from the checkpoint of a model that you expect to be exactly identical (initializing a BertForSequenceClassification model from a BertForSequenceClassification model).\n",
      "Some weights of XLMRobertaForSequenceClassification were not initialized from the model checkpoint at FacebookAI/xlm-roberta-base and are newly initialized: ['classifier.out_proj.bias', 'classifier.dense.weight', 'classifier.out_proj.weight', 'classifier.dense.bias']\n",
      "You should probably TRAIN this model on a down-stream task to be able to use it for predictions and inference.\n",
      "loading configuration file config.json from cache at /home/jupyter-145230403/.cache/huggingface/hub/models--FacebookAI--xlm-roberta-base/snapshots/e73636d4f797dec63c3081bb6ed5c7b0bb3f2089/config.json\n",
      "Model config XLMRobertaConfig {\n",
      "  \"_name_or_path\": \"FacebookAI/xlm-roberta-base\",\n",
      "  \"architectures\": [\n",
      "    \"XLMRobertaForMaskedLM\"\n",
      "  ],\n",
      "  \"attention_probs_dropout_prob\": 0.1,\n",
      "  \"bos_token_id\": 0,\n",
      "  \"classifier_dropout\": null,\n",
      "  \"eos_token_id\": 2,\n",
      "  \"hidden_act\": \"gelu\",\n",
      "  \"hidden_dropout_prob\": 0.1,\n",
      "  \"hidden_size\": 768,\n",
      "  \"initializer_range\": 0.02,\n",
      "  \"intermediate_size\": 3072,\n",
      "  \"layer_norm_eps\": 1e-05,\n",
      "  \"max_position_embeddings\": 514,\n",
      "  \"model_type\": \"xlm-roberta\",\n",
      "  \"num_attention_heads\": 12,\n",
      "  \"num_hidden_layers\": 12,\n",
      "  \"output_past\": true,\n",
      "  \"pad_token_id\": 1,\n",
      "  \"position_embedding_type\": \"absolute\",\n",
      "  \"transformers_version\": \"4.26.1\",\n",
      "  \"type_vocab_size\": 1,\n",
      "  \"use_cache\": true,\n",
      "  \"vocab_size\": 250002\n",
      "}\n",
      "\n",
      "loading file sentencepiece.bpe.model from cache at /home/jupyter-145230403/.cache/huggingface/hub/models--FacebookAI--xlm-roberta-base/snapshots/e73636d4f797dec63c3081bb6ed5c7b0bb3f2089/sentencepiece.bpe.model\n",
      "loading file tokenizer.json from cache at /home/jupyter-145230403/.cache/huggingface/hub/models--FacebookAI--xlm-roberta-base/snapshots/e73636d4f797dec63c3081bb6ed5c7b0bb3f2089/tokenizer.json\n",
      "loading file added_tokens.json from cache at None\n",
      "loading file special_tokens_map.json from cache at None\n",
      "loading file tokenizer_config.json from cache at /home/jupyter-145230403/.cache/huggingface/hub/models--FacebookAI--xlm-roberta-base/snapshots/e73636d4f797dec63c3081bb6ed5c7b0bb3f2089/tokenizer_config.json\n",
      "loading configuration file config.json from cache at /home/jupyter-145230403/.cache/huggingface/hub/models--FacebookAI--xlm-roberta-base/snapshots/e73636d4f797dec63c3081bb6ed5c7b0bb3f2089/config.json\n",
      "Model config XLMRobertaConfig {\n",
      "  \"_name_or_path\": \"FacebookAI/xlm-roberta-base\",\n",
      "  \"architectures\": [\n",
      "    \"XLMRobertaForMaskedLM\"\n",
      "  ],\n",
      "  \"attention_probs_dropout_prob\": 0.1,\n",
      "  \"bos_token_id\": 0,\n",
      "  \"classifier_dropout\": null,\n",
      "  \"eos_token_id\": 2,\n",
      "  \"hidden_act\": \"gelu\",\n",
      "  \"hidden_dropout_prob\": 0.1,\n",
      "  \"hidden_size\": 768,\n",
      "  \"initializer_range\": 0.02,\n",
      "  \"intermediate_size\": 3072,\n",
      "  \"layer_norm_eps\": 1e-05,\n",
      "  \"max_position_embeddings\": 514,\n",
      "  \"model_type\": \"xlm-roberta\",\n",
      "  \"num_attention_heads\": 12,\n",
      "  \"num_hidden_layers\": 12,\n",
      "  \"output_past\": true,\n",
      "  \"pad_token_id\": 1,\n",
      "  \"position_embedding_type\": \"absolute\",\n",
      "  \"transformers_version\": \"4.26.1\",\n",
      "  \"type_vocab_size\": 1,\n",
      "  \"use_cache\": true,\n",
      "  \"vocab_size\": 250002\n",
      "}\n",
      "\n"
     ]
    },
    {
     "name": "stdout",
     "output_type": "stream",
     "text": [
      "trainable params: 890,118 || all params: 278,938,380 || trainable%: 0.31910918820135115\n"
     ]
    },
    {
     "data": {
      "application/vnd.jupyter.widget-view+json": {
       "model_id": "0d1c13a53a0c4b31844616446724c522",
       "version_major": 2,
       "version_minor": 0
      },
      "text/plain": [
       "  0%|          | 0/5 [00:00<?, ?ba/s]"
      ]
     },
     "metadata": {},
     "output_type": "display_data"
    },
    {
     "data": {
      "application/vnd.jupyter.widget-view+json": {
       "model_id": "9f8af7ef48dc4b7290f8ca9c4cf70762",
       "version_major": 2,
       "version_minor": 0
      },
      "text/plain": [
       "  0%|          | 0/2 [00:00<?, ?ba/s]"
      ]
     },
     "metadata": {},
     "output_type": "display_data"
    },
    {
     "data": {
      "application/vnd.jupyter.widget-view+json": {
       "model_id": "d291f95b15ad443db9961e2d20bf4be3",
       "version_major": 2,
       "version_minor": 0
      },
      "text/plain": [
       "  0%|          | 0/2 [00:00<?, ?ba/s]"
      ]
     },
     "metadata": {},
     "output_type": "display_data"
    },
    {
     "name": "stderr",
     "output_type": "stream",
     "text": [
      "PyTorch: setting up devices\n",
      "The default value for the training argument `--report_to` will change in v5 (from all installed integrations to none). In v5, you will need to use `--report_to all` to get the same behavior as now. You should start updating your code and make this info disappear :-).\n",
      "The following columns in the training set don't have a corresponding argument in `PeftModelForSequenceClassification.forward` and have been ignored: tweet, index. If tweet, index are not expected by `PeftModelForSequenceClassification.forward`,  you can safely ignore this message.\n",
      "/home/jupyter-145230403/.conda/envs/conda_env_2/lib/python3.9/site-packages/transformers/optimization.py:306: FutureWarning: This implementation of AdamW is deprecated and will be removed in a future version. Use the PyTorch implementation torch.optim.AdamW instead, or set `no_deprecation_warning=True` to disable this warning\n",
      "  warnings.warn(\n",
      "***** Running training *****\n",
      "  Num examples = 4956\n",
      "  Num Epochs = 9\n",
      "  Instantaneous batch size per device = 32\n",
      "  Total train batch size (w. parallel, distributed & accumulation) = 128\n",
      "  Gradient Accumulation steps = 1\n",
      "  Total optimization steps = 351\n",
      "  Number of trainable parameters = 890118\n",
      "Automatic Weights & Biases logging enabled, to disable set os.environ[\"WANDB_DISABLED\"] = \"true\"\n",
      "You're using a XLMRobertaTokenizerFast tokenizer. Please note that with a fast tokenizer, using the `__call__` method is faster than using a method to encode the text followed by a call to the `pad` method to get a padded encoding.\n",
      "/home/jupyter-145230403/.conda/envs/conda_env_2/lib/python3.9/site-packages/torch/nn/parallel/_functions.py:68: UserWarning: Was asked to gather along dimension 0, but all input tensors were scalars; will instead unsqueeze and return a vector.\n",
      "  warnings.warn('Was asked to gather along dimension 0, but all '\n"
     ]
    },
    {
     "data": {
      "text/html": [
       "\n",
       "    <div>\n",
       "      \n",
       "      <progress value='351' max='351' style='width:300px; height:20px; vertical-align: middle;'></progress>\n",
       "      [351/351 04:33, Epoch 9/9]\n",
       "    </div>\n",
       "    <table border=\"1\" class=\"dataframe\">\n",
       "  <thead>\n",
       " <tr style=\"text-align: left;\">\n",
       "      <th>Epoch</th>\n",
       "      <th>Training Loss</th>\n",
       "      <th>Validation Loss</th>\n",
       "      <th>Accuracy</th>\n",
       "      <th>Precision</th>\n",
       "      <th>Recall</th>\n",
       "      <th>F1</th>\n",
       "    </tr>\n",
       "  </thead>\n",
       "  <tbody>\n",
       "    <tr>\n",
       "      <td>1</td>\n",
       "      <td>1.663200</td>\n",
       "      <td>1.309070</td>\n",
       "      <td>0.492467</td>\n",
       "      <td>0.617696</td>\n",
       "      <td>0.455443</td>\n",
       "      <td>0.433169</td>\n",
       "    </tr>\n",
       "    <tr>\n",
       "      <td>2</td>\n",
       "      <td>1.189000</td>\n",
       "      <td>0.857436</td>\n",
       "      <td>0.694915</td>\n",
       "      <td>0.695018</td>\n",
       "      <td>0.705786</td>\n",
       "      <td>0.698227</td>\n",
       "    </tr>\n",
       "    <tr>\n",
       "      <td>3</td>\n",
       "      <td>0.932900</td>\n",
       "      <td>0.809125</td>\n",
       "      <td>0.714689</td>\n",
       "      <td>0.726361</td>\n",
       "      <td>0.738413</td>\n",
       "      <td>0.722371</td>\n",
       "    </tr>\n",
       "    <tr>\n",
       "      <td>4</td>\n",
       "      <td>0.838200</td>\n",
       "      <td>0.736432</td>\n",
       "      <td>0.740113</td>\n",
       "      <td>0.739725</td>\n",
       "      <td>0.762405</td>\n",
       "      <td>0.747359</td>\n",
       "    </tr>\n",
       "    <tr>\n",
       "      <td>5</td>\n",
       "      <td>0.787300</td>\n",
       "      <td>0.736891</td>\n",
       "      <td>0.732580</td>\n",
       "      <td>0.729405</td>\n",
       "      <td>0.762687</td>\n",
       "      <td>0.740150</td>\n",
       "    </tr>\n",
       "    <tr>\n",
       "      <td>6</td>\n",
       "      <td>0.740600</td>\n",
       "      <td>0.703119</td>\n",
       "      <td>0.757062</td>\n",
       "      <td>0.755567</td>\n",
       "      <td>0.781703</td>\n",
       "      <td>0.765384</td>\n",
       "    </tr>\n",
       "    <tr>\n",
       "      <td>7</td>\n",
       "      <td>0.716900</td>\n",
       "      <td>0.695696</td>\n",
       "      <td>0.761770</td>\n",
       "      <td>0.759567</td>\n",
       "      <td>0.786213</td>\n",
       "      <td>0.768662</td>\n",
       "    </tr>\n",
       "    <tr>\n",
       "      <td>8</td>\n",
       "      <td>0.689500</td>\n",
       "      <td>0.702775</td>\n",
       "      <td>0.760829</td>\n",
       "      <td>0.756160</td>\n",
       "      <td>0.786654</td>\n",
       "      <td>0.767019</td>\n",
       "    </tr>\n",
       "    <tr>\n",
       "      <td>9</td>\n",
       "      <td>0.679600</td>\n",
       "      <td>0.685275</td>\n",
       "      <td>0.769303</td>\n",
       "      <td>0.769009</td>\n",
       "      <td>0.787700</td>\n",
       "      <td>0.775763</td>\n",
       "    </tr>\n",
       "  </tbody>\n",
       "</table><p>"
      ],
      "text/plain": [
       "<IPython.core.display.HTML object>"
      ]
     },
     "metadata": {},
     "output_type": "display_data"
    },
    {
     "name": "stderr",
     "output_type": "stream",
     "text": [
      "The following columns in the evaluation set don't have a corresponding argument in `PeftModelForSequenceClassification.forward` and have been ignored: tweet, index. If tweet, index are not expected by `PeftModelForSequenceClassification.forward`,  you can safely ignore this message.\n",
      "***** Running Evaluation *****\n",
      "  Num examples = 1062\n",
      "  Batch size = 256\n"
     ]
    },
    {
     "name": "stdout",
     "output_type": "stream",
     "text": [
      "Classification Report:\n",
      "              precision    recall  f1-score   support\n",
      "\n",
      "       Anger     0.5571    0.2216    0.3171       176\n",
      "        Fear     1.0000    0.0068    0.0135       147\n",
      "         Joy     0.5396    0.6158    0.5752       177\n",
      "        Love     0.6167    0.6435    0.6298       115\n",
      "     Neutral     0.4202    0.7685    0.5433       298\n",
      "         Sad     0.5726    0.4765    0.5201       149\n",
      "\n",
      "    accuracy                         0.4925      1062\n",
      "   macro avg     0.6177    0.4554    0.4332      1062\n",
      "weighted avg     0.5857    0.4925    0.4439      1062\n",
      "\n"
     ]
    },
    {
     "name": "stderr",
     "output_type": "stream",
     "text": [
      "Saving model checkpoint to p-emotcls-xlm-r-base/checkpoint-39\n",
      "Trainer.model is not a `PreTrainedModel`, only saving its state dict.\n",
      "tokenizer config file saved in p-emotcls-xlm-r-base/checkpoint-39/tokenizer_config.json\n",
      "Special tokens file saved in p-emotcls-xlm-r-base/checkpoint-39/special_tokens_map.json\n",
      "/home/jupyter-145230403/.conda/envs/conda_env_2/lib/python3.9/site-packages/torch/nn/parallel/_functions.py:68: UserWarning: Was asked to gather along dimension 0, but all input tensors were scalars; will instead unsqueeze and return a vector.\n",
      "  warnings.warn('Was asked to gather along dimension 0, but all '\n",
      "The following columns in the evaluation set don't have a corresponding argument in `PeftModelForSequenceClassification.forward` and have been ignored: tweet, index. If tweet, index are not expected by `PeftModelForSequenceClassification.forward`,  you can safely ignore this message.\n",
      "***** Running Evaluation *****\n",
      "  Num examples = 1062\n",
      "  Batch size = 256\n"
     ]
    },
    {
     "name": "stdout",
     "output_type": "stream",
     "text": [
      "Classification Report:\n",
      "              precision    recall  f1-score   support\n",
      "\n",
      "       Anger     0.6918    0.6250    0.6567       176\n",
      "        Fear     0.6319    0.7007    0.6645       147\n",
      "         Joy     0.7688    0.6949    0.7300       177\n",
      "        Love     0.7280    0.7913    0.7583       115\n",
      "     Neutral     0.7148    0.6644    0.6887       298\n",
      "         Sad     0.6348    0.7584    0.6911       149\n",
      "\n",
      "    accuracy                         0.6949      1062\n",
      "   macro avg     0.6950    0.7058    0.6982      1062\n",
      "weighted avg     0.6987    0.6949    0.6948      1062\n",
      "\n"
     ]
    },
    {
     "name": "stderr",
     "output_type": "stream",
     "text": [
      "Saving model checkpoint to p-emotcls-xlm-r-base/checkpoint-78\n",
      "Trainer.model is not a `PreTrainedModel`, only saving its state dict.\n",
      "tokenizer config file saved in p-emotcls-xlm-r-base/checkpoint-78/tokenizer_config.json\n",
      "Special tokens file saved in p-emotcls-xlm-r-base/checkpoint-78/special_tokens_map.json\n",
      "Deleting older checkpoint [p-emotcls-xlm-r-base/checkpoint-39] due to args.save_total_limit\n",
      "/home/jupyter-145230403/.conda/envs/conda_env_2/lib/python3.9/site-packages/torch/nn/parallel/_functions.py:68: UserWarning: Was asked to gather along dimension 0, but all input tensors were scalars; will instead unsqueeze and return a vector.\n",
      "  warnings.warn('Was asked to gather along dimension 0, but all '\n",
      "The following columns in the evaluation set don't have a corresponding argument in `PeftModelForSequenceClassification.forward` and have been ignored: tweet, index. If tweet, index are not expected by `PeftModelForSequenceClassification.forward`,  you can safely ignore this message.\n",
      "***** Running Evaluation *****\n",
      "  Num examples = 1062\n",
      "  Batch size = 256\n"
     ]
    },
    {
     "name": "stdout",
     "output_type": "stream",
     "text": [
      "Classification Report:\n",
      "              precision    recall  f1-score   support\n",
      "\n",
      "       Anger     0.6181    0.8920    0.7302       176\n",
      "        Fear     0.8130    0.6803    0.7407       147\n",
      "         Joy     0.7219    0.7627    0.7418       177\n",
      "        Love     0.7436    0.7565    0.7500       115\n",
      "     Neutral     0.7892    0.5403    0.6414       298\n",
      "         Sad     0.6723    0.7987    0.7301       149\n",
      "\n",
      "    accuracy                         0.7147      1062\n",
      "   macro avg     0.7264    0.7384    0.7224      1062\n",
      "weighted avg     0.7316    0.7147    0.7108      1062\n",
      "\n"
     ]
    },
    {
     "name": "stderr",
     "output_type": "stream",
     "text": [
      "Saving model checkpoint to p-emotcls-xlm-r-base/checkpoint-117\n",
      "Trainer.model is not a `PreTrainedModel`, only saving its state dict.\n",
      "tokenizer config file saved in p-emotcls-xlm-r-base/checkpoint-117/tokenizer_config.json\n",
      "Special tokens file saved in p-emotcls-xlm-r-base/checkpoint-117/special_tokens_map.json\n",
      "Deleting older checkpoint [p-emotcls-xlm-r-base/checkpoint-78] due to args.save_total_limit\n",
      "/home/jupyter-145230403/.conda/envs/conda_env_2/lib/python3.9/site-packages/torch/nn/parallel/_functions.py:68: UserWarning: Was asked to gather along dimension 0, but all input tensors were scalars; will instead unsqueeze and return a vector.\n",
      "  warnings.warn('Was asked to gather along dimension 0, but all '\n",
      "The following columns in the evaluation set don't have a corresponding argument in `PeftModelForSequenceClassification.forward` and have been ignored: tweet, index. If tweet, index are not expected by `PeftModelForSequenceClassification.forward`,  you can safely ignore this message.\n",
      "***** Running Evaluation *****\n",
      "  Num examples = 1062\n",
      "  Batch size = 256\n"
     ]
    },
    {
     "name": "stdout",
     "output_type": "stream",
     "text": [
      "Classification Report:\n",
      "              precision    recall  f1-score   support\n",
      "\n",
      "       Anger     0.7596    0.7898    0.7744       176\n",
      "        Fear     0.8417    0.7959    0.8182       147\n",
      "         Joy     0.7418    0.7627    0.7521       177\n",
      "        Love     0.6644    0.8435    0.7433       115\n",
      "     Neutral     0.7603    0.6174    0.6815       298\n",
      "         Sad     0.6706    0.7651    0.7147       149\n",
      "\n",
      "    accuracy                         0.7401      1062\n",
      "   macro avg     0.7397    0.7624    0.7474      1062\n",
      "weighted avg     0.7454    0.7401    0.7389      1062\n",
      "\n"
     ]
    },
    {
     "name": "stderr",
     "output_type": "stream",
     "text": [
      "Saving model checkpoint to p-emotcls-xlm-r-base/checkpoint-156\n",
      "Trainer.model is not a `PreTrainedModel`, only saving its state dict.\n",
      "tokenizer config file saved in p-emotcls-xlm-r-base/checkpoint-156/tokenizer_config.json\n",
      "Special tokens file saved in p-emotcls-xlm-r-base/checkpoint-156/special_tokens_map.json\n",
      "Deleting older checkpoint [p-emotcls-xlm-r-base/checkpoint-117] due to args.save_total_limit\n",
      "/home/jupyter-145230403/.conda/envs/conda_env_2/lib/python3.9/site-packages/torch/nn/parallel/_functions.py:68: UserWarning: Was asked to gather along dimension 0, but all input tensors were scalars; will instead unsqueeze and return a vector.\n",
      "  warnings.warn('Was asked to gather along dimension 0, but all '\n",
      "The following columns in the evaluation set don't have a corresponding argument in `PeftModelForSequenceClassification.forward` and have been ignored: tweet, index. If tweet, index are not expected by `PeftModelForSequenceClassification.forward`,  you can safely ignore this message.\n",
      "***** Running Evaluation *****\n",
      "  Num examples = 1062\n",
      "  Batch size = 256\n"
     ]
    },
    {
     "name": "stdout",
     "output_type": "stream",
     "text": [
      "Classification Report:\n",
      "              precision    recall  f1-score   support\n",
      "\n",
      "       Anger     0.7654    0.7784    0.7718       176\n",
      "        Fear     0.8000    0.8707    0.8339       147\n",
      "         Joy     0.7143    0.7627    0.7377       177\n",
      "        Love     0.6364    0.8522    0.7286       115\n",
      "     Neutral     0.7752    0.5671    0.6550       298\n",
      "         Sad     0.6852    0.7450    0.7138       149\n",
      "\n",
      "    accuracy                         0.7326      1062\n",
      "   macro avg     0.7294    0.7627    0.7402      1062\n",
      "weighted avg     0.7392    0.7326    0.7291      1062\n",
      "\n"
     ]
    },
    {
     "name": "stderr",
     "output_type": "stream",
     "text": [
      "Saving model checkpoint to p-emotcls-xlm-r-base/checkpoint-195\n",
      "Trainer.model is not a `PreTrainedModel`, only saving its state dict.\n",
      "tokenizer config file saved in p-emotcls-xlm-r-base/checkpoint-195/tokenizer_config.json\n",
      "Special tokens file saved in p-emotcls-xlm-r-base/checkpoint-195/special_tokens_map.json\n",
      "/home/jupyter-145230403/.conda/envs/conda_env_2/lib/python3.9/site-packages/torch/nn/parallel/_functions.py:68: UserWarning: Was asked to gather along dimension 0, but all input tensors were scalars; will instead unsqueeze and return a vector.\n",
      "  warnings.warn('Was asked to gather along dimension 0, but all '\n",
      "The following columns in the evaluation set don't have a corresponding argument in `PeftModelForSequenceClassification.forward` and have been ignored: tweet, index. If tweet, index are not expected by `PeftModelForSequenceClassification.forward`,  you can safely ignore this message.\n",
      "***** Running Evaluation *****\n",
      "  Num examples = 1062\n",
      "  Batch size = 256\n"
     ]
    },
    {
     "name": "stdout",
     "output_type": "stream",
     "text": [
      "Classification Report:\n",
      "              precision    recall  f1-score   support\n",
      "\n",
      "       Anger     0.7654    0.7784    0.7718       176\n",
      "        Fear     0.8205    0.8707    0.8449       147\n",
      "         Joy     0.7941    0.7627    0.7781       177\n",
      "        Love     0.6901    0.8522    0.7626       115\n",
      "     Neutral     0.7633    0.6275    0.6888       298\n",
      "         Sad     0.7000    0.7987    0.7461       149\n",
      "\n",
      "    accuracy                         0.7571      1062\n",
      "   macro avg     0.7556    0.7817    0.7654      1062\n",
      "weighted avg     0.7599    0.7571    0.7551      1062\n",
      "\n"
     ]
    },
    {
     "name": "stderr",
     "output_type": "stream",
     "text": [
      "Saving model checkpoint to p-emotcls-xlm-r-base/checkpoint-234\n",
      "Trainer.model is not a `PreTrainedModel`, only saving its state dict.\n",
      "tokenizer config file saved in p-emotcls-xlm-r-base/checkpoint-234/tokenizer_config.json\n",
      "Special tokens file saved in p-emotcls-xlm-r-base/checkpoint-234/special_tokens_map.json\n",
      "Deleting older checkpoint [p-emotcls-xlm-r-base/checkpoint-156] due to args.save_total_limit\n",
      "Deleting older checkpoint [p-emotcls-xlm-r-base/checkpoint-195] due to args.save_total_limit\n",
      "/home/jupyter-145230403/.conda/envs/conda_env_2/lib/python3.9/site-packages/torch/nn/parallel/_functions.py:68: UserWarning: Was asked to gather along dimension 0, but all input tensors were scalars; will instead unsqueeze and return a vector.\n",
      "  warnings.warn('Was asked to gather along dimension 0, but all '\n",
      "The following columns in the evaluation set don't have a corresponding argument in `PeftModelForSequenceClassification.forward` and have been ignored: tweet, index. If tweet, index are not expected by `PeftModelForSequenceClassification.forward`,  you can safely ignore this message.\n",
      "***** Running Evaluation *****\n",
      "  Num examples = 1062\n",
      "  Batch size = 256\n"
     ]
    },
    {
     "name": "stdout",
     "output_type": "stream",
     "text": [
      "Classification Report:\n",
      "              precision    recall  f1-score   support\n",
      "\n",
      "       Anger     0.7526    0.8295    0.7892       176\n",
      "        Fear     0.8148    0.8980    0.8544       147\n",
      "         Joy     0.8217    0.7288    0.7725       177\n",
      "        Love     0.6809    0.8348    0.7500       115\n",
      "     Neutral     0.7792    0.6275    0.6952       298\n",
      "         Sad     0.7083    0.7987    0.7508       149\n",
      "\n",
      "    accuracy                         0.7618      1062\n",
      "   macro avg     0.7596    0.7862    0.7687      1062\n",
      "weighted avg     0.7662    0.7618    0.7594      1062\n",
      "\n"
     ]
    },
    {
     "name": "stderr",
     "output_type": "stream",
     "text": [
      "Saving model checkpoint to p-emotcls-xlm-r-base/checkpoint-273\n",
      "Trainer.model is not a `PreTrainedModel`, only saving its state dict.\n",
      "tokenizer config file saved in p-emotcls-xlm-r-base/checkpoint-273/tokenizer_config.json\n",
      "Special tokens file saved in p-emotcls-xlm-r-base/checkpoint-273/special_tokens_map.json\n",
      "Deleting older checkpoint [p-emotcls-xlm-r-base/checkpoint-234] due to args.save_total_limit\n",
      "/home/jupyter-145230403/.conda/envs/conda_env_2/lib/python3.9/site-packages/torch/nn/parallel/_functions.py:68: UserWarning: Was asked to gather along dimension 0, but all input tensors were scalars; will instead unsqueeze and return a vector.\n",
      "  warnings.warn('Was asked to gather along dimension 0, but all '\n",
      "The following columns in the evaluation set don't have a corresponding argument in `PeftModelForSequenceClassification.forward` and have been ignored: tweet, index. If tweet, index are not expected by `PeftModelForSequenceClassification.forward`,  you can safely ignore this message.\n",
      "***** Running Evaluation *****\n",
      "  Num examples = 1062\n",
      "  Batch size = 256\n"
     ]
    },
    {
     "name": "stdout",
     "output_type": "stream",
     "text": [
      "Classification Report:\n",
      "              precision    recall  f1-score   support\n",
      "\n",
      "       Anger     0.7725    0.8295    0.8000       176\n",
      "        Fear     0.7791    0.9116    0.8401       147\n",
      "         Joy     0.7870    0.7514    0.7688       177\n",
      "        Love     0.6857    0.8348    0.7529       115\n",
      "     Neutral     0.7922    0.6141    0.6919       298\n",
      "         Sad     0.7205    0.7785    0.7484       149\n",
      "\n",
      "    accuracy                         0.7608      1062\n",
      "   macro avg     0.7562    0.7867    0.7670      1062\n",
      "weighted avg     0.7647    0.7608    0.7577      1062\n",
      "\n"
     ]
    },
    {
     "name": "stderr",
     "output_type": "stream",
     "text": [
      "Saving model checkpoint to p-emotcls-xlm-r-base/checkpoint-312\n",
      "Trainer.model is not a `PreTrainedModel`, only saving its state dict.\n",
      "tokenizer config file saved in p-emotcls-xlm-r-base/checkpoint-312/tokenizer_config.json\n",
      "Special tokens file saved in p-emotcls-xlm-r-base/checkpoint-312/special_tokens_map.json\n",
      "/home/jupyter-145230403/.conda/envs/conda_env_2/lib/python3.9/site-packages/torch/nn/parallel/_functions.py:68: UserWarning: Was asked to gather along dimension 0, but all input tensors were scalars; will instead unsqueeze and return a vector.\n",
      "  warnings.warn('Was asked to gather along dimension 0, but all '\n",
      "The following columns in the evaluation set don't have a corresponding argument in `PeftModelForSequenceClassification.forward` and have been ignored: tweet, index. If tweet, index are not expected by `PeftModelForSequenceClassification.forward`,  you can safely ignore this message.\n",
      "***** Running Evaluation *****\n",
      "  Num examples = 1062\n",
      "  Batch size = 256\n"
     ]
    },
    {
     "name": "stdout",
     "output_type": "stream",
     "text": [
      "Classification Report:\n",
      "              precision    recall  f1-score   support\n",
      "\n",
      "       Anger     0.7644    0.8295    0.7956       176\n",
      "        Fear     0.8061    0.9048    0.8526       147\n",
      "         Joy     0.8141    0.7175    0.7628       177\n",
      "        Love     0.7007    0.8348    0.7619       115\n",
      "     Neutral     0.7585    0.6745    0.7140       298\n",
      "         Sad     0.7703    0.7651    0.7677       149\n",
      "\n",
      "    accuracy                         0.7693      1062\n",
      "   macro avg     0.7690    0.7877    0.7758      1062\n",
      "weighted avg     0.7707    0.7693    0.7676      1062\n",
      "\n"
     ]
    },
    {
     "name": "stderr",
     "output_type": "stream",
     "text": [
      "Saving model checkpoint to p-emotcls-xlm-r-base/checkpoint-351\n",
      "Trainer.model is not a `PreTrainedModel`, only saving its state dict.\n",
      "tokenizer config file saved in p-emotcls-xlm-r-base/checkpoint-351/tokenizer_config.json\n",
      "Special tokens file saved in p-emotcls-xlm-r-base/checkpoint-351/special_tokens_map.json\n",
      "Deleting older checkpoint [p-emotcls-xlm-r-base/checkpoint-273] due to args.save_total_limit\n",
      "Deleting older checkpoint [p-emotcls-xlm-r-base/checkpoint-312] due to args.save_total_limit\n",
      "\n",
      "\n",
      "Training completed. Do not forget to share your model on huggingface.co/models =)\n",
      "\n",
      "\n",
      "Loading best model from p-emotcls-xlm-r-base/checkpoint-351 (score: 0.685275137424469).\n",
      "Saving model checkpoint to p-emotcls-xlm-r-base\n",
      "Trainer.model is not a `PreTrainedModel`, only saving its state dict.\n",
      "tokenizer config file saved in p-emotcls-xlm-r-base/tokenizer_config.json\n",
      "Special tokens file saved in p-emotcls-xlm-r-base/special_tokens_map.json\n",
      "The following columns in the evaluation set don't have a corresponding argument in `PeftModelForSequenceClassification.forward` and have been ignored: tweet, index. If tweet, index are not expected by `PeftModelForSequenceClassification.forward`,  you can safely ignore this message.\n",
      "***** Running Evaluation *****\n",
      "  Num examples = 1062\n",
      "  Batch size = 256\n",
      "/home/jupyter-145230403/.conda/envs/conda_env_2/lib/python3.9/site-packages/torch/nn/parallel/_functions.py:68: UserWarning: Was asked to gather along dimension 0, but all input tensors were scalars; will instead unsqueeze and return a vector.\n",
      "  warnings.warn('Was asked to gather along dimension 0, but all '\n"
     ]
    },
    {
     "data": {
      "text/html": [],
      "text/plain": [
       "<IPython.core.display.HTML object>"
      ]
     },
     "metadata": {},
     "output_type": "display_data"
    },
    {
     "name": "stderr",
     "output_type": "stream",
     "text": [
      "The following columns in the test set don't have a corresponding argument in `PeftModelForSequenceClassification.forward` and have been ignored: tweet, index. If tweet, index are not expected by `PeftModelForSequenceClassification.forward`,  you can safely ignore this message.\n",
      "***** Running Prediction *****\n",
      "  Num examples = 1062\n",
      "  Batch size = 256\n"
     ]
    },
    {
     "name": "stdout",
     "output_type": "stream",
     "text": [
      "Classification Report:\n",
      "              precision    recall  f1-score   support\n",
      "\n",
      "       Anger     0.7803    0.7500    0.7649       180\n",
      "        Fear     0.7073    0.8657    0.7785       134\n",
      "         Joy     0.8342    0.7500    0.7899       208\n",
      "        Love     0.7521    0.8713    0.8073       101\n",
      "     Neutral     0.7602    0.6426    0.6965       291\n",
      "         Sad     0.6857    0.8108    0.7430       148\n",
      "\n",
      "    accuracy                         0.7552      1062\n",
      "   macro avg     0.7533    0.7817    0.7634      1062\n",
      "weighted avg     0.7603    0.7552    0.7537      1062\n",
      "\n",
      "{'eval_loss': 0.7023342251777649, 'eval_accuracy': 0.7551789077212806, 'eval_precision': 0.7533170220645858, 'eval_recall': 0.7817302108605872, 'eval_f1': 0.7633507931871911, 'eval_runtime': 2.0558, 'eval_samples_per_second': 516.592, 'eval_steps_per_second': 2.432, 'epoch': 9.0}\n"
     ]
    },
    {
     "name": "stderr",
     "output_type": "stream",
     "text": [
      "/home/jupyter-145230403/.conda/envs/conda_env_2/lib/python3.9/site-packages/torch/nn/parallel/_functions.py:68: UserWarning: Was asked to gather along dimension 0, but all input tensors were scalars; will instead unsqueeze and return a vector.\n",
      "  warnings.warn('Was asked to gather along dimension 0, but all '\n"
     ]
    },
    {
     "name": "stdout",
     "output_type": "stream",
     "text": [
      "Classification Report:\n",
      "              precision    recall  f1-score   support\n",
      "\n",
      "       Anger     0.7803    0.7500    0.7649       180\n",
      "        Fear     0.7073    0.8657    0.7785       134\n",
      "         Joy     0.8342    0.7500    0.7899       208\n",
      "        Love     0.7521    0.8713    0.8073       101\n",
      "     Neutral     0.7602    0.6426    0.6965       291\n",
      "         Sad     0.6857    0.8108    0.7430       148\n",
      "\n",
      "    accuracy                         0.7552      1062\n",
      "   macro avg     0.7533    0.7817    0.7634      1062\n",
      "weighted avg     0.7603    0.7552    0.7537      1062\n",
      "\n"
     ]
    },
    {
     "data": {
      "image/png": "[encoded data removed]",
      "text/plain": [
       "<Figure size 576x432 with 2 Axes>"
      ]
     },
     "metadata": {},
     "output_type": "display_data"
    },
    {
     "name": "stdout",
     "output_type": "stream",
     "text": [
      "Training finished!\n"
     ]
    },
    {
     "data": {
      "image/png": "[encoded data removed]",
      "text/plain": [
       "<Figure size 432x288 with 1 Axes>"
      ]
     },
     "metadata": {},
     "output_type": "display_data"
    },
    {
     "name": "stdout",
     "output_type": "stream",
     "text": [
      "Total time: 5.0232975880304975 minutes\n"
     ]
    }
   ],
   "source": [
    "#3 FacebookAI/xlm-roberta-base peft\n",
    "\n",
    "main(\n",
    "    model_name = 'FacebookAI/xlm-roberta-base',\n",
    "    output_dir = 'p-emotcls-xlm-r-base',\n",
    "    best_params = 'best_params/p-xlm-r-base.json'\n",
    ")"
   ]
  },
  {
   "cell_type": "code",
   "execution_count": 10,
   "id": "cf84cdda",
   "metadata": {},
   "outputs": [
    {
     "name": "stdout",
     "output_type": "stream",
     "text": [
      "{'num_train_epochs': 10, 'learning_rate': 0.0001, 'per_device_train_batch_size': 32, 'per_device_eval_batch_size': 32, 'weight_decay': 0.07667430551681942}\n"
     ]
    },
    {
     "name": "stderr",
     "output_type": "stream",
     "text": [
      "Some weights of the model checkpoint at google-bert/bert-base-multilingual-cased were not used when initializing BertForSequenceClassification: ['cls.seq_relationship.weight', 'cls.predictions.transform.dense.weight', 'cls.predictions.transform.dense.bias', 'cls.seq_relationship.bias', 'cls.predictions.transform.LayerNorm.bias', 'cls.predictions.bias', 'cls.predictions.transform.LayerNorm.weight']\n",
      "- This IS expected if you are initializing BertForSequenceClassification from the checkpoint of a model trained on another task or with another architecture (e.g. initializing a BertForSequenceClassification model from a BertForPreTraining model).\n",
      "- This IS NOT expected if you are initializing BertForSequenceClassification from the checkpoint of a model that you expect to be exactly identical (initializing a BertForSequenceClassification model from a BertForSequenceClassification model).\n",
      "Some weights of BertForSequenceClassification were not initialized from the model checkpoint at google-bert/bert-base-multilingual-cased and are newly initialized: ['classifier.weight', 'classifier.bias']\n",
      "You should probably TRAIN this model on a down-stream task to be able to use it for predictions and inference.\n"
     ]
    },
    {
     "name": "stdout",
     "output_type": "stream",
     "text": [
      "trainable params: 299,526 || all params: 178,157,580 || trainable%: 0.16812419656800456\n"
     ]
    },
    {
     "data": {
      "application/vnd.jupyter.widget-view+json": {
       "model_id": "39c9dde1569f4211bb6ca3121ffcfdeb",
       "version_major": 2,
       "version_minor": 0
      },
      "text/plain": [
       "  0%|          | 0/5 [00:00<?, ?ba/s]"
      ]
     },
     "metadata": {},
     "output_type": "display_data"
    },
    {
     "data": {
      "application/vnd.jupyter.widget-view+json": {
       "model_id": "c823280f5d6e48198aeedd1b9f379798",
       "version_major": 2,
       "version_minor": 0
      },
      "text/plain": [
       "  0%|          | 0/2 [00:00<?, ?ba/s]"
      ]
     },
     "metadata": {},
     "output_type": "display_data"
    },
    {
     "data": {
      "application/vnd.jupyter.widget-view+json": {
       "model_id": "5eb9112fd17b4cfbb74f65839179c733",
       "version_major": 2,
       "version_minor": 0
      },
      "text/plain": [
       "  0%|          | 0/2 [00:00<?, ?ba/s]"
      ]
     },
     "metadata": {},
     "output_type": "display_data"
    },
    {
     "name": "stderr",
     "output_type": "stream",
     "text": [
      "The following columns in the training set don't have a corresponding argument in `PeftModelForSequenceClassification.forward` and have been ignored: tweet, index, token_type_ids. If tweet, index, token_type_ids are not expected by `PeftModelForSequenceClassification.forward`,  you can safely ignore this message.\n",
      "/home/jupyter-145230403/.conda/envs/conda_env_2/lib/python3.9/site-packages/transformers/optimization.py:306: FutureWarning: This implementation of AdamW is deprecated and will be removed in a future version. Use the PyTorch implementation torch.optim.AdamW instead, or set `no_deprecation_warning=True` to disable this warning\n",
      "  warnings.warn(\n",
      "***** Running training *****\n",
      "  Num examples = 4956\n",
      "  Num Epochs = 10\n",
      "  Instantaneous batch size per device = 32\n",
      "  Total train batch size (w. parallel, distributed & accumulation) = 128\n",
      "  Gradient Accumulation steps = 1\n",
      "  Total optimization steps = 390\n",
      "  Number of trainable parameters = 299526\n",
      "Automatic Weights & Biases logging enabled, to disable set os.environ[\"WANDB_DISABLED\"] = \"true\"\n",
      "Failed to detect the name of this notebook, you can set it manually with the WANDB_NOTEBOOK_NAME environment variable to enable code saving.\n",
      "\u001b[34m\u001b[1mwandb\u001b[0m: Currently logged in as: \u001b[33mfathanel\u001b[0m (\u001b[33mfathanick_lab\u001b[0m). Use \u001b[1m`wandb login --relogin`\u001b[0m to force relogin\n"
     ]
    },
    {
     "data": {
      "text/html": [
       "wandb version 0.17.6 is available!  To upgrade, please run:\n",
       " $ pip install wandb --upgrade"
      ],
      "text/plain": [
       "<IPython.core.display.HTML object>"
      ]
     },
     "metadata": {},
     "output_type": "display_data"
    },
    {
     "data": {
      "text/html": [
       "Tracking run with wandb version 0.17.5"
      ],
      "text/plain": [
       "<IPython.core.display.HTML object>"
      ]
     },
     "metadata": {},
     "output_type": "display_data"
    },
    {
     "data": {
      "text/html": [
       "Run data is saved locally in <code>/home/jupyter-145230403/01-RESEARCH COLLABORATION/EMOTION CLASSIFICATION/wandb/run-20240812_174411-x4j2b2z4</code>"
      ],
      "text/plain": [
       "<IPython.core.display.HTML object>"
      ]
     },
     "metadata": {},
     "output_type": "display_data"
    },
    {
     "data": {
      "text/html": [
       "Syncing run <strong><a href='https://wandb.ai/fathanick_lab/huggingface/runs/x4j2b2z4' target=\"_blank\">wild-meadow-206</a></strong> to <a href='https://wandb.ai/fathanick_lab/huggingface' target=\"_blank\">Weights & Biases</a> (<a href='https://wandb.me/run' target=\"_blank\">docs</a>)<br/>"
      ],
      "text/plain": [
       "<IPython.core.display.HTML object>"
      ]
     },
     "metadata": {},
     "output_type": "display_data"
    },
    {
     "data": {
      "text/html": [
       " View project at <a href='https://wandb.ai/fathanick_lab/huggingface' target=\"_blank\">https://wandb.ai/fathanick_lab/huggingface</a>"
      ],
      "text/plain": [
       "<IPython.core.display.HTML object>"
      ]
     },
     "metadata": {},
     "output_type": "display_data"
    },
    {
     "data": {
      "text/html": [
       " View run at <a href='https://wandb.ai/fathanick_lab/huggingface/runs/x4j2b2z4' target=\"_blank\">https://wandb.ai/fathanick_lab/huggingface/runs/x4j2b2z4</a>"
      ],
      "text/plain": [
       "<IPython.core.display.HTML object>"
      ]
     },
     "metadata": {},
     "output_type": "display_data"
    },
    {
     "name": "stderr",
     "output_type": "stream",
     "text": [
      "You're using a BertTokenizerFast tokenizer. Please note that with a fast tokenizer, using the `__call__` method is faster than using a method to encode the text followed by a call to the `pad` method to get a padded encoding.\n",
      "/home/jupyter-145230403/.conda/envs/conda_env_2/lib/python3.9/site-packages/torch/nn/parallel/_functions.py:68: UserWarning: Was asked to gather along dimension 0, but all input tensors were scalars; will instead unsqueeze and return a vector.\n",
      "  warnings.warn('Was asked to gather along dimension 0, but all '\n"
     ]
    },
    {
     "data": {
      "text/html": [
       "\n",
       "    <div>\n",
       "      \n",
       "      <progress value='390' max='390' style='width:300px; height:20px; vertical-align: middle;'></progress>\n",
       "      [390/390 04:39, Epoch 10/10]\n",
       "    </div>\n",
       "    <table border=\"1\" class=\"dataframe\">\n",
       "  <thead>\n",
       " <tr style=\"text-align: left;\">\n",
       "      <th>Epoch</th>\n",
       "      <th>Training Loss</th>\n",
       "      <th>Validation Loss</th>\n",
       "      <th>Accuracy</th>\n",
       "      <th>Precision</th>\n",
       "      <th>Recall</th>\n",
       "      <th>F1</th>\n",
       "    </tr>\n",
       "  </thead>\n",
       "  <tbody>\n",
       "    <tr>\n",
       "      <td>1</td>\n",
       "      <td>1.751500</td>\n",
       "      <td>1.726534</td>\n",
       "      <td>0.280603</td>\n",
       "      <td>0.046811</td>\n",
       "      <td>0.166667</td>\n",
       "      <td>0.073093</td>\n",
       "    </tr>\n",
       "    <tr>\n",
       "      <td>2</td>\n",
       "      <td>1.705500</td>\n",
       "      <td>1.669901</td>\n",
       "      <td>0.306026</td>\n",
       "      <td>0.365767</td>\n",
       "      <td>0.204471</td>\n",
       "      <td>0.148665</td>\n",
       "    </tr>\n",
       "    <tr>\n",
       "      <td>3</td>\n",
       "      <td>1.643900</td>\n",
       "      <td>1.617818</td>\n",
       "      <td>0.360640</td>\n",
       "      <td>0.320106</td>\n",
       "      <td>0.276513</td>\n",
       "      <td>0.237339</td>\n",
       "    </tr>\n",
       "    <tr>\n",
       "      <td>4</td>\n",
       "      <td>1.593000</td>\n",
       "      <td>1.564869</td>\n",
       "      <td>0.396422</td>\n",
       "      <td>0.354001</td>\n",
       "      <td>0.312262</td>\n",
       "      <td>0.291376</td>\n",
       "    </tr>\n",
       "    <tr>\n",
       "      <td>5</td>\n",
       "      <td>1.534700</td>\n",
       "      <td>1.506187</td>\n",
       "      <td>0.424670</td>\n",
       "      <td>0.343608</td>\n",
       "      <td>0.354500</td>\n",
       "      <td>0.337683</td>\n",
       "    </tr>\n",
       "    <tr>\n",
       "      <td>6</td>\n",
       "      <td>1.489800</td>\n",
       "      <td>1.474815</td>\n",
       "      <td>0.438795</td>\n",
       "      <td>0.529818</td>\n",
       "      <td>0.371802</td>\n",
       "      <td>0.355727</td>\n",
       "    </tr>\n",
       "    <tr>\n",
       "      <td>7</td>\n",
       "      <td>1.452000</td>\n",
       "      <td>1.444844</td>\n",
       "      <td>0.450094</td>\n",
       "      <td>0.504852</td>\n",
       "      <td>0.380087</td>\n",
       "      <td>0.371642</td>\n",
       "    </tr>\n",
       "    <tr>\n",
       "      <td>8</td>\n",
       "      <td>1.423200</td>\n",
       "      <td>1.423590</td>\n",
       "      <td>0.481168</td>\n",
       "      <td>0.472046</td>\n",
       "      <td>0.424518</td>\n",
       "      <td>0.419453</td>\n",
       "    </tr>\n",
       "    <tr>\n",
       "      <td>9</td>\n",
       "      <td>1.399800</td>\n",
       "      <td>1.412295</td>\n",
       "      <td>0.487759</td>\n",
       "      <td>0.496390</td>\n",
       "      <td>0.431453</td>\n",
       "      <td>0.426175</td>\n",
       "    </tr>\n",
       "    <tr>\n",
       "      <td>10</td>\n",
       "      <td>1.395800</td>\n",
       "      <td>1.411522</td>\n",
       "      <td>0.483992</td>\n",
       "      <td>0.497193</td>\n",
       "      <td>0.426158</td>\n",
       "      <td>0.425185</td>\n",
       "    </tr>\n",
       "  </tbody>\n",
       "</table><p>"
      ],
      "text/plain": [
       "<IPython.core.display.HTML object>"
      ]
     },
     "metadata": {},
     "output_type": "display_data"
    },
    {
     "name": "stderr",
     "output_type": "stream",
     "text": [
      "The following columns in the evaluation set don't have a corresponding argument in `PeftModelForSequenceClassification.forward` and have been ignored: tweet, index, token_type_ids. If tweet, index, token_type_ids are not expected by `PeftModelForSequenceClassification.forward`,  you can safely ignore this message.\n",
      "***** Running Evaluation *****\n",
      "  Num examples = 1062\n",
      "  Batch size = 128\n"
     ]
    },
    {
     "name": "stdout",
     "output_type": "stream",
     "text": [
      "Classification Report:\n",
      "              precision    recall  f1-score   support\n",
      "\n",
      "       Anger     0.0000    0.0000    0.0000       176\n",
      "        Fear     0.0000    0.0000    0.0000       147\n",
      "         Joy     0.0000    0.0000    0.0000       177\n",
      "        Love     0.0000    0.0000    0.0000       115\n",
      "     Neutral     0.2809    1.0000    0.4386       298\n",
      "         Sad     0.0000    0.0000    0.0000       149\n",
      "\n",
      "    accuracy                         0.2806      1062\n",
      "   macro avg     0.0468    0.1667    0.0731      1062\n",
      "weighted avg     0.0788    0.2806    0.1231      1062\n",
      "\n"
     ]
    },
    {
     "name": "stderr",
     "output_type": "stream",
     "text": [
      "/home/jupyter-145230403/.conda/envs/conda_env_2/lib/python3.9/site-packages/sklearn/metrics/_classification.py:1334: UndefinedMetricWarning: Precision and F-score are ill-defined and being set to 0.0 in labels with no predicted samples. Use `zero_division` parameter to control this behavior.\n",
      "  _warn_prf(average, modifier, msg_start, len(result))\n",
      "/home/jupyter-145230403/.conda/envs/conda_env_2/lib/python3.9/site-packages/sklearn/metrics/_classification.py:1334: UndefinedMetricWarning: Precision and F-score are ill-defined and being set to 0.0 in labels with no predicted samples. Use `zero_division` parameter to control this behavior.\n",
      "  _warn_prf(average, modifier, msg_start, len(result))\n",
      "/home/jupyter-145230403/.conda/envs/conda_env_2/lib/python3.9/site-packages/sklearn/metrics/_classification.py:1334: UndefinedMetricWarning: Precision and F-score are ill-defined and being set to 0.0 in labels with no predicted samples. Use `zero_division` parameter to control this behavior.\n",
      "  _warn_prf(average, modifier, msg_start, len(result))\n",
      "/home/jupyter-145230403/.conda/envs/conda_env_2/lib/python3.9/site-packages/sklearn/metrics/_classification.py:1334: UndefinedMetricWarning: Precision is ill-defined and being set to 0.0 in labels with no predicted samples. Use `zero_division` parameter to control this behavior.\n",
      "  _warn_prf(average, modifier, msg_start, len(result))\n",
      "Saving model checkpoint to p-emotcls-bert-base/checkpoint-39\n",
      "Trainer.model is not a `PreTrainedModel`, only saving its state dict.\n",
      "tokenizer config file saved in p-emotcls-bert-base/checkpoint-39/tokenizer_config.json\n",
      "Special tokens file saved in p-emotcls-bert-base/checkpoint-39/special_tokens_map.json\n",
      "Deleting older checkpoint [p-emotcls-bert-base/checkpoint-117] due to args.save_total_limit\n",
      "/home/jupyter-145230403/.conda/envs/conda_env_2/lib/python3.9/site-packages/torch/nn/parallel/_functions.py:68: UserWarning: Was asked to gather along dimension 0, but all input tensors were scalars; will instead unsqueeze and return a vector.\n",
      "  warnings.warn('Was asked to gather along dimension 0, but all '\n",
      "The following columns in the evaluation set don't have a corresponding argument in `PeftModelForSequenceClassification.forward` and have been ignored: tweet, index, token_type_ids. If tweet, index, token_type_ids are not expected by `PeftModelForSequenceClassification.forward`,  you can safely ignore this message.\n",
      "***** Running Evaluation *****\n",
      "  Num examples = 1062\n",
      "  Batch size = 128\n"
     ]
    },
    {
     "name": "stdout",
     "output_type": "stream",
     "text": [
      "Classification Report:\n",
      "              precision    recall  f1-score   support\n",
      "\n",
      "       Anger     0.2333    0.1989    0.2147       176\n",
      "        Fear     0.5000    0.0068    0.0134       147\n",
      "         Joy     0.4000    0.1017    0.1622       177\n",
      "        Love     0.0000    0.0000    0.0000       115\n",
      "     Neutral     0.3113    0.8993    0.4625       298\n",
      "         Sad     0.7500    0.0201    0.0392       149\n",
      "\n",
      "    accuracy                         0.3060      1062\n",
      "   macro avg     0.3658    0.2045    0.1487      1062\n",
      "weighted avg     0.3671    0.3060    0.1997      1062\n",
      "\n"
     ]
    },
    {
     "name": "stderr",
     "output_type": "stream",
     "text": [
      "/home/jupyter-145230403/.conda/envs/conda_env_2/lib/python3.9/site-packages/sklearn/metrics/_classification.py:1334: UndefinedMetricWarning: Precision and F-score are ill-defined and being set to 0.0 in labels with no predicted samples. Use `zero_division` parameter to control this behavior.\n",
      "  _warn_prf(average, modifier, msg_start, len(result))\n",
      "/home/jupyter-145230403/.conda/envs/conda_env_2/lib/python3.9/site-packages/sklearn/metrics/_classification.py:1334: UndefinedMetricWarning: Precision and F-score are ill-defined and being set to 0.0 in labels with no predicted samples. Use `zero_division` parameter to control this behavior.\n",
      "  _warn_prf(average, modifier, msg_start, len(result))\n",
      "/home/jupyter-145230403/.conda/envs/conda_env_2/lib/python3.9/site-packages/sklearn/metrics/_classification.py:1334: UndefinedMetricWarning: Precision and F-score are ill-defined and being set to 0.0 in labels with no predicted samples. Use `zero_division` parameter to control this behavior.\n",
      "  _warn_prf(average, modifier, msg_start, len(result))\n",
      "/home/jupyter-145230403/.conda/envs/conda_env_2/lib/python3.9/site-packages/sklearn/metrics/_classification.py:1334: UndefinedMetricWarning: Precision is ill-defined and being set to 0.0 in labels with no predicted samples. Use `zero_division` parameter to control this behavior.\n",
      "  _warn_prf(average, modifier, msg_start, len(result))\n",
      "Saving model checkpoint to p-emotcls-bert-base/checkpoint-78\n",
      "Trainer.model is not a `PreTrainedModel`, only saving its state dict.\n",
      "tokenizer config file saved in p-emotcls-bert-base/checkpoint-78/tokenizer_config.json\n",
      "Special tokens file saved in p-emotcls-bert-base/checkpoint-78/special_tokens_map.json\n",
      "Deleting older checkpoint [p-emotcls-bert-base/checkpoint-39] due to args.save_total_limit\n",
      "/home/jupyter-145230403/.conda/envs/conda_env_2/lib/python3.9/site-packages/torch/nn/parallel/_functions.py:68: UserWarning: Was asked to gather along dimension 0, but all input tensors were scalars; will instead unsqueeze and return a vector.\n",
      "  warnings.warn('Was asked to gather along dimension 0, but all '\n",
      "The following columns in the evaluation set don't have a corresponding argument in `PeftModelForSequenceClassification.forward` and have been ignored: tweet, index, token_type_ids. If tweet, index, token_type_ids are not expected by `PeftModelForSequenceClassification.forward`,  you can safely ignore this message.\n",
      "***** Running Evaluation *****\n",
      "  Num examples = 1062\n",
      "  Batch size = 128\n"
     ]
    },
    {
     "name": "stdout",
     "output_type": "stream",
     "text": [
      "Classification Report:\n",
      "              precision    recall  f1-score   support\n",
      "\n",
      "       Anger     0.2500    0.1477    0.1857       176\n",
      "        Fear     0.3333    0.1224    0.1791       147\n",
      "         Joy     0.2977    0.5198    0.3786       177\n",
      "        Love     0.0000    0.0000    0.0000       115\n",
      "     Neutral     0.4080    0.7886    0.5378       298\n",
      "         Sad     0.6316    0.0805    0.1429       149\n",
      "\n",
      "    accuracy                         0.3606      1062\n",
      "   macro avg     0.3201    0.2765    0.2373      1062\n",
      "weighted avg     0.3403    0.3606    0.2896      1062\n",
      "\n"
     ]
    },
    {
     "name": "stderr",
     "output_type": "stream",
     "text": [
      "/home/jupyter-145230403/.conda/envs/conda_env_2/lib/python3.9/site-packages/sklearn/metrics/_classification.py:1334: UndefinedMetricWarning: Precision and F-score are ill-defined and being set to 0.0 in labels with no predicted samples. Use `zero_division` parameter to control this behavior.\n",
      "  _warn_prf(average, modifier, msg_start, len(result))\n",
      "/home/jupyter-145230403/.conda/envs/conda_env_2/lib/python3.9/site-packages/sklearn/metrics/_classification.py:1334: UndefinedMetricWarning: Precision and F-score are ill-defined and being set to 0.0 in labels with no predicted samples. Use `zero_division` parameter to control this behavior.\n",
      "  _warn_prf(average, modifier, msg_start, len(result))\n",
      "/home/jupyter-145230403/.conda/envs/conda_env_2/lib/python3.9/site-packages/sklearn/metrics/_classification.py:1334: UndefinedMetricWarning: Precision and F-score are ill-defined and being set to 0.0 in labels with no predicted samples. Use `zero_division` parameter to control this behavior.\n",
      "  _warn_prf(average, modifier, msg_start, len(result))\n",
      "/home/jupyter-145230403/.conda/envs/conda_env_2/lib/python3.9/site-packages/sklearn/metrics/_classification.py:1334: UndefinedMetricWarning: Precision is ill-defined and being set to 0.0 in labels with no predicted samples. Use `zero_division` parameter to control this behavior.\n",
      "  _warn_prf(average, modifier, msg_start, len(result))\n",
      "Saving model checkpoint to p-emotcls-bert-base/checkpoint-117\n",
      "Trainer.model is not a `PreTrainedModel`, only saving its state dict.\n",
      "tokenizer config file saved in p-emotcls-bert-base/checkpoint-117/tokenizer_config.json\n",
      "Special tokens file saved in p-emotcls-bert-base/checkpoint-117/special_tokens_map.json\n",
      "Deleting older checkpoint [p-emotcls-bert-base/checkpoint-78] due to args.save_total_limit\n",
      "/home/jupyter-145230403/.conda/envs/conda_env_2/lib/python3.9/site-packages/torch/nn/parallel/_functions.py:68: UserWarning: Was asked to gather along dimension 0, but all input tensors were scalars; will instead unsqueeze and return a vector.\n",
      "  warnings.warn('Was asked to gather along dimension 0, but all '\n",
      "The following columns in the evaluation set don't have a corresponding argument in `PeftModelForSequenceClassification.forward` and have been ignored: tweet, index, token_type_ids. If tweet, index, token_type_ids are not expected by `PeftModelForSequenceClassification.forward`,  you can safely ignore this message.\n",
      "***** Running Evaluation *****\n",
      "  Num examples = 1062\n",
      "  Batch size = 128\n"
     ]
    },
    {
     "name": "stdout",
     "output_type": "stream",
     "text": [
      "Classification Report:\n",
      "              precision    recall  f1-score   support\n",
      "\n",
      "       Anger     0.2486    0.2557    0.2521       176\n",
      "        Fear     0.3662    0.1769    0.2385       147\n",
      "         Joy     0.4719    0.4746    0.4732       177\n",
      "        Love     0.0000    0.0000    0.0000       115\n",
      "     Neutral     0.4087    0.8188    0.5453       298\n",
      "         Sad     0.6286    0.1477    0.2391       149\n",
      "\n",
      "    accuracy                         0.3964      1062\n",
      "   macro avg     0.3540    0.3123    0.2914      1062\n",
      "weighted avg     0.3734    0.3964    0.3402      1062\n",
      "\n"
     ]
    },
    {
     "name": "stderr",
     "output_type": "stream",
     "text": [
      "/home/jupyter-145230403/.conda/envs/conda_env_2/lib/python3.9/site-packages/sklearn/metrics/_classification.py:1334: UndefinedMetricWarning: Precision and F-score are ill-defined and being set to 0.0 in labels with no predicted samples. Use `zero_division` parameter to control this behavior.\n",
      "  _warn_prf(average, modifier, msg_start, len(result))\n",
      "/home/jupyter-145230403/.conda/envs/conda_env_2/lib/python3.9/site-packages/sklearn/metrics/_classification.py:1334: UndefinedMetricWarning: Precision and F-score are ill-defined and being set to 0.0 in labels with no predicted samples. Use `zero_division` parameter to control this behavior.\n",
      "  _warn_prf(average, modifier, msg_start, len(result))\n",
      "/home/jupyter-145230403/.conda/envs/conda_env_2/lib/python3.9/site-packages/sklearn/metrics/_classification.py:1334: UndefinedMetricWarning: Precision and F-score are ill-defined and being set to 0.0 in labels with no predicted samples. Use `zero_division` parameter to control this behavior.\n",
      "  _warn_prf(average, modifier, msg_start, len(result))\n",
      "/home/jupyter-145230403/.conda/envs/conda_env_2/lib/python3.9/site-packages/sklearn/metrics/_classification.py:1334: UndefinedMetricWarning: Precision is ill-defined and being set to 0.0 in labels with no predicted samples. Use `zero_division` parameter to control this behavior.\n",
      "  _warn_prf(average, modifier, msg_start, len(result))\n",
      "Saving model checkpoint to p-emotcls-bert-base/checkpoint-156\n",
      "Trainer.model is not a `PreTrainedModel`, only saving its state dict.\n",
      "tokenizer config file saved in p-emotcls-bert-base/checkpoint-156/tokenizer_config.json\n",
      "Special tokens file saved in p-emotcls-bert-base/checkpoint-156/special_tokens_map.json\n",
      "Deleting older checkpoint [p-emotcls-bert-base/checkpoint-117] due to args.save_total_limit\n",
      "/home/jupyter-145230403/.conda/envs/conda_env_2/lib/python3.9/site-packages/torch/nn/parallel/_functions.py:68: UserWarning: Was asked to gather along dimension 0, but all input tensors were scalars; will instead unsqueeze and return a vector.\n",
      "  warnings.warn('Was asked to gather along dimension 0, but all '\n",
      "The following columns in the evaluation set don't have a corresponding argument in `PeftModelForSequenceClassification.forward` and have been ignored: tweet, index, token_type_ids. If tweet, index, token_type_ids are not expected by `PeftModelForSequenceClassification.forward`,  you can safely ignore this message.\n",
      "***** Running Evaluation *****\n",
      "  Num examples = 1062\n",
      "  Batch size = 128\n"
     ]
    },
    {
     "name": "stdout",
     "output_type": "stream",
     "text": [
      "Classification Report:\n",
      "              precision    recall  f1-score   support\n",
      "\n",
      "       Anger     0.2737    0.2955    0.2842       176\n",
      "        Fear     0.3543    0.3061    0.3285       147\n",
      "         Joy     0.5054    0.5254    0.5152       177\n",
      "        Love     0.0000    0.0000    0.0000       115\n",
      "     Neutral     0.4657    0.7517    0.5751       298\n",
      "         Sad     0.4625    0.2483    0.3231       149\n",
      "\n",
      "    accuracy                         0.4247      1062\n",
      "   macro avg     0.3436    0.3545    0.3377      1062\n",
      "weighted avg     0.3742    0.4247    0.3851      1062\n",
      "\n"
     ]
    },
    {
     "name": "stderr",
     "output_type": "stream",
     "text": [
      "/home/jupyter-145230403/.conda/envs/conda_env_2/lib/python3.9/site-packages/sklearn/metrics/_classification.py:1334: UndefinedMetricWarning: Precision and F-score are ill-defined and being set to 0.0 in labels with no predicted samples. Use `zero_division` parameter to control this behavior.\n",
      "  _warn_prf(average, modifier, msg_start, len(result))\n",
      "/home/jupyter-145230403/.conda/envs/conda_env_2/lib/python3.9/site-packages/sklearn/metrics/_classification.py:1334: UndefinedMetricWarning: Precision and F-score are ill-defined and being set to 0.0 in labels with no predicted samples. Use `zero_division` parameter to control this behavior.\n",
      "  _warn_prf(average, modifier, msg_start, len(result))\n",
      "/home/jupyter-145230403/.conda/envs/conda_env_2/lib/python3.9/site-packages/sklearn/metrics/_classification.py:1334: UndefinedMetricWarning: Precision and F-score are ill-defined and being set to 0.0 in labels with no predicted samples. Use `zero_division` parameter to control this behavior.\n",
      "  _warn_prf(average, modifier, msg_start, len(result))\n",
      "/home/jupyter-145230403/.conda/envs/conda_env_2/lib/python3.9/site-packages/sklearn/metrics/_classification.py:1334: UndefinedMetricWarning: Precision is ill-defined and being set to 0.0 in labels with no predicted samples. Use `zero_division` parameter to control this behavior.\n",
      "  _warn_prf(average, modifier, msg_start, len(result))\n",
      "Saving model checkpoint to p-emotcls-bert-base/checkpoint-195\n",
      "Trainer.model is not a `PreTrainedModel`, only saving its state dict.\n",
      "tokenizer config file saved in p-emotcls-bert-base/checkpoint-195/tokenizer_config.json\n",
      "Special tokens file saved in p-emotcls-bert-base/checkpoint-195/special_tokens_map.json\n",
      "Deleting older checkpoint [p-emotcls-bert-base/checkpoint-156] due to args.save_total_limit\n",
      "/home/jupyter-145230403/.conda/envs/conda_env_2/lib/python3.9/site-packages/torch/nn/parallel/_functions.py:68: UserWarning: Was asked to gather along dimension 0, but all input tensors were scalars; will instead unsqueeze and return a vector.\n",
      "  warnings.warn('Was asked to gather along dimension 0, but all '\n",
      "The following columns in the evaluation set don't have a corresponding argument in `PeftModelForSequenceClassification.forward` and have been ignored: tweet, index, token_type_ids. If tweet, index, token_type_ids are not expected by `PeftModelForSequenceClassification.forward`,  you can safely ignore this message.\n",
      "***** Running Evaluation *****\n",
      "  Num examples = 1062\n",
      "  Batch size = 128\n"
     ]
    },
    {
     "name": "stdout",
     "output_type": "stream",
     "text": [
      "Classification Report:\n",
      "              precision    recall  f1-score   support\n",
      "\n",
      "       Anger     0.2635    0.2216    0.2407       176\n",
      "        Fear     0.4000    0.3673    0.3830       147\n",
      "         Joy     0.4643    0.5876    0.5187       177\n",
      "        Love     1.0000    0.0174    0.0342       115\n",
      "     Neutral     0.4678    0.7550    0.5777       298\n",
      "         Sad     0.5833    0.2819    0.3801       149\n",
      "\n",
      "    accuracy                         0.4388      1062\n",
      "   macro avg     0.5298    0.3718    0.3557      1062\n",
      "weighted avg     0.4978    0.4388    0.3985      1062\n",
      "\n"
     ]
    },
    {
     "name": "stderr",
     "output_type": "stream",
     "text": [
      "Saving model checkpoint to p-emotcls-bert-base/checkpoint-234\n",
      "Trainer.model is not a `PreTrainedModel`, only saving its state dict.\n",
      "tokenizer config file saved in p-emotcls-bert-base/checkpoint-234/tokenizer_config.json\n",
      "Special tokens file saved in p-emotcls-bert-base/checkpoint-234/special_tokens_map.json\n",
      "Deleting older checkpoint [p-emotcls-bert-base/checkpoint-195] due to args.save_total_limit\n",
      "/home/jupyter-145230403/.conda/envs/conda_env_2/lib/python3.9/site-packages/torch/nn/parallel/_functions.py:68: UserWarning: Was asked to gather along dimension 0, but all input tensors were scalars; will instead unsqueeze and return a vector.\n",
      "  warnings.warn('Was asked to gather along dimension 0, but all '\n",
      "The following columns in the evaluation set don't have a corresponding argument in `PeftModelForSequenceClassification.forward` and have been ignored: tweet, index, token_type_ids. If tweet, index, token_type_ids are not expected by `PeftModelForSequenceClassification.forward`,  you can safely ignore this message.\n",
      "***** Running Evaluation *****\n",
      "  Num examples = 1062\n",
      "  Batch size = 128\n"
     ]
    },
    {
     "name": "stdout",
     "output_type": "stream",
     "text": [
      "Classification Report:\n",
      "              precision    recall  f1-score   support\n",
      "\n",
      "       Anger     0.2774    0.2443    0.2598       176\n",
      "        Fear     0.4766    0.3469    0.4016       147\n",
      "         Joy     0.5161    0.5424    0.5289       177\n",
      "        Love     0.7500    0.0261    0.0504       115\n",
      "     Neutral     0.4521    0.7919    0.5756       298\n",
      "         Sad     0.5568    0.3289    0.4135       149\n",
      "\n",
      "    accuracy                         0.4501      1062\n",
      "   macro avg     0.5049    0.3801    0.3716      1062\n",
      "weighted avg     0.4842    0.4501    0.4118      1062\n",
      "\n"
     ]
    },
    {
     "name": "stderr",
     "output_type": "stream",
     "text": [
      "Saving model checkpoint to p-emotcls-bert-base/checkpoint-273\n",
      "Trainer.model is not a `PreTrainedModel`, only saving its state dict.\n",
      "tokenizer config file saved in p-emotcls-bert-base/checkpoint-273/tokenizer_config.json\n",
      "Special tokens file saved in p-emotcls-bert-base/checkpoint-273/special_tokens_map.json\n",
      "Deleting older checkpoint [p-emotcls-bert-base/checkpoint-234] due to args.save_total_limit\n",
      "/home/jupyter-145230403/.conda/envs/conda_env_2/lib/python3.9/site-packages/torch/nn/parallel/_functions.py:68: UserWarning: Was asked to gather along dimension 0, but all input tensors were scalars; will instead unsqueeze and return a vector.\n",
      "  warnings.warn('Was asked to gather along dimension 0, but all '\n",
      "The following columns in the evaluation set don't have a corresponding argument in `PeftModelForSequenceClassification.forward` and have been ignored: tweet, index, token_type_ids. If tweet, index, token_type_ids are not expected by `PeftModelForSequenceClassification.forward`,  you can safely ignore this message.\n",
      "***** Running Evaluation *****\n",
      "  Num examples = 1062\n",
      "  Batch size = 128\n"
     ]
    },
    {
     "name": "stdout",
     "output_type": "stream",
     "text": [
      "Classification Report:\n",
      "              precision    recall  f1-score   support\n",
      "\n",
      "       Anger     0.3012    0.2841    0.2924       176\n",
      "        Fear     0.4493    0.4218    0.4351       147\n",
      "         Joy     0.5303    0.5932    0.5600       177\n",
      "        Love     0.5000    0.0870    0.1481       115\n",
      "     Neutral     0.5261    0.7450    0.6167       298\n",
      "         Sad     0.5254    0.4161    0.4644       149\n",
      "\n",
      "    accuracy                         0.4812      1062\n",
      "   macro avg     0.4720    0.4245    0.4195      1062\n",
      "weighted avg     0.4760    0.4812    0.4563      1062\n",
      "\n"
     ]
    },
    {
     "name": "stderr",
     "output_type": "stream",
     "text": [
      "Saving model checkpoint to p-emotcls-bert-base/checkpoint-312\n",
      "Trainer.model is not a `PreTrainedModel`, only saving its state dict.\n",
      "tokenizer config file saved in p-emotcls-bert-base/checkpoint-312/tokenizer_config.json\n",
      "Special tokens file saved in p-emotcls-bert-base/checkpoint-312/special_tokens_map.json\n",
      "Deleting older checkpoint [p-emotcls-bert-base/checkpoint-273] due to args.save_total_limit\n",
      "/home/jupyter-145230403/.conda/envs/conda_env_2/lib/python3.9/site-packages/torch/nn/parallel/_functions.py:68: UserWarning: Was asked to gather along dimension 0, but all input tensors were scalars; will instead unsqueeze and return a vector.\n",
      "  warnings.warn('Was asked to gather along dimension 0, but all '\n",
      "The following columns in the evaluation set don't have a corresponding argument in `PeftModelForSequenceClassification.forward` and have been ignored: tweet, index, token_type_ids. If tweet, index, token_type_ids are not expected by `PeftModelForSequenceClassification.forward`,  you can safely ignore this message.\n",
      "***** Running Evaluation *****\n",
      "  Num examples = 1062\n",
      "  Batch size = 128\n"
     ]
    },
    {
     "name": "stdout",
     "output_type": "stream",
     "text": [
      "Classification Report:\n",
      "              precision    recall  f1-score   support\n",
      "\n",
      "       Anger     0.3306    0.2330    0.2733       176\n",
      "        Fear     0.4481    0.4694    0.4585       147\n",
      "         Joy     0.5674    0.5706    0.5690       177\n",
      "        Love     0.6316    0.1043    0.1791       115\n",
      "     Neutral     0.5044    0.7685    0.6090       298\n",
      "         Sad     0.4962    0.4430    0.4681       149\n",
      "\n",
      "    accuracy                         0.4878      1062\n",
      "   macro avg     0.4964    0.4315    0.4262      1062\n",
      "weighted avg     0.4909    0.4878    0.4596      1062\n",
      "\n"
     ]
    },
    {
     "name": "stderr",
     "output_type": "stream",
     "text": [
      "Saving model checkpoint to p-emotcls-bert-base/checkpoint-351\n",
      "Trainer.model is not a `PreTrainedModel`, only saving its state dict.\n",
      "tokenizer config file saved in p-emotcls-bert-base/checkpoint-351/tokenizer_config.json\n",
      "Special tokens file saved in p-emotcls-bert-base/checkpoint-351/special_tokens_map.json\n",
      "Deleting older checkpoint [p-emotcls-bert-base/checkpoint-312] due to args.save_total_limit\n",
      "/home/jupyter-145230403/.conda/envs/conda_env_2/lib/python3.9/site-packages/torch/nn/parallel/_functions.py:68: UserWarning: Was asked to gather along dimension 0, but all input tensors were scalars; will instead unsqueeze and return a vector.\n",
      "  warnings.warn('Was asked to gather along dimension 0, but all '\n",
      "The following columns in the evaluation set don't have a corresponding argument in `PeftModelForSequenceClassification.forward` and have been ignored: tweet, index, token_type_ids. If tweet, index, token_type_ids are not expected by `PeftModelForSequenceClassification.forward`,  you can safely ignore this message.\n",
      "***** Running Evaluation *****\n",
      "  Num examples = 1062\n",
      "  Batch size = 128\n"
     ]
    },
    {
     "name": "stdout",
     "output_type": "stream",
     "text": [
      "Classification Report:\n",
      "              precision    recall  f1-score   support\n",
      "\n",
      "       Anger     0.3143    0.2500    0.2785       176\n",
      "        Fear     0.4697    0.4218    0.4444       147\n",
      "         Joy     0.5417    0.5876    0.5637       177\n",
      "        Love     0.6190    0.1130    0.1912       115\n",
      "     Neutral     0.4946    0.7685    0.6018       298\n",
      "         Sad     0.5439    0.4161    0.4715       149\n",
      "\n",
      "    accuracy                         0.4840      1062\n",
      "   macro avg     0.4972    0.4262    0.4252      1062\n",
      "weighted avg     0.4895    0.4840    0.4573      1062\n",
      "\n"
     ]
    },
    {
     "name": "stderr",
     "output_type": "stream",
     "text": [
      "Saving model checkpoint to p-emotcls-bert-base/checkpoint-390\n",
      "Trainer.model is not a `PreTrainedModel`, only saving its state dict.\n",
      "tokenizer config file saved in p-emotcls-bert-base/checkpoint-390/tokenizer_config.json\n",
      "Special tokens file saved in p-emotcls-bert-base/checkpoint-390/special_tokens_map.json\n",
      "Deleting older checkpoint [p-emotcls-bert-base/checkpoint-351] due to args.save_total_limit\n",
      "\n",
      "\n",
      "Training completed. Do not forget to share your model on huggingface.co/models =)\n",
      "\n",
      "\n",
      "Loading best model from p-emotcls-bert-base/checkpoint-390 (score: 1.4115222692489624).\n",
      "Saving model checkpoint to p-emotcls-bert-base\n",
      "Trainer.model is not a `PreTrainedModel`, only saving its state dict.\n",
      "tokenizer config file saved in p-emotcls-bert-base/tokenizer_config.json\n",
      "Special tokens file saved in p-emotcls-bert-base/special_tokens_map.json\n",
      "The following columns in the evaluation set don't have a corresponding argument in `PeftModelForSequenceClassification.forward` and have been ignored: tweet, index, token_type_ids. If tweet, index, token_type_ids are not expected by `PeftModelForSequenceClassification.forward`,  you can safely ignore this message.\n",
      "***** Running Evaluation *****\n",
      "  Num examples = 1062\n",
      "  Batch size = 128\n",
      "/home/jupyter-145230403/.conda/envs/conda_env_2/lib/python3.9/site-packages/torch/nn/parallel/_functions.py:68: UserWarning: Was asked to gather along dimension 0, but all input tensors were scalars; will instead unsqueeze and return a vector.\n",
      "  warnings.warn('Was asked to gather along dimension 0, but all '\n"
     ]
    },
    {
     "data": {
      "text/html": [],
      "text/plain": [
       "<IPython.core.display.HTML object>"
      ]
     },
     "metadata": {},
     "output_type": "display_data"
    },
    {
     "name": "stderr",
     "output_type": "stream",
     "text": [
      "The following columns in the test set don't have a corresponding argument in `PeftModelForSequenceClassification.forward` and have been ignored: tweet, index, token_type_ids. If tweet, index, token_type_ids are not expected by `PeftModelForSequenceClassification.forward`,  you can safely ignore this message.\n",
      "***** Running Prediction *****\n",
      "  Num examples = 1062\n",
      "  Batch size = 128\n"
     ]
    },
    {
     "name": "stdout",
     "output_type": "stream",
     "text": [
      "Classification Report:\n",
      "              precision    recall  f1-score   support\n",
      "\n",
      "       Anger     0.3358    0.2556    0.2902       180\n",
      "        Fear     0.4403    0.4403    0.4403       134\n",
      "         Joy     0.6215    0.6394    0.6303       208\n",
      "        Love     0.6000    0.1485    0.2381       101\n",
      "     Neutral     0.4855    0.7457    0.5881       291\n",
      "         Sad     0.4762    0.3378    0.3953       148\n",
      "\n",
      "    accuracy                         0.4896      1062\n",
      "   macro avg     0.4932    0.4279    0.4304      1062\n",
      "weighted avg     0.4906    0.4896    0.4671      1062\n",
      "\n",
      "{'eval_loss': 1.3804205656051636, 'eval_accuracy': 0.4896421845574388, 'eval_precision': 0.4932015578481703, 'eval_recall': 0.4278890494363761, 'eval_f1': 0.4303798528427594, 'eval_runtime': 3.8669, 'eval_samples_per_second': 274.64, 'eval_steps_per_second': 2.327, 'epoch': 10.0}\n"
     ]
    },
    {
     "name": "stderr",
     "output_type": "stream",
     "text": [
      "/home/jupyter-145230403/.conda/envs/conda_env_2/lib/python3.9/site-packages/torch/nn/parallel/_functions.py:68: UserWarning: Was asked to gather along dimension 0, but all input tensors were scalars; will instead unsqueeze and return a vector.\n",
      "  warnings.warn('Was asked to gather along dimension 0, but all '\n"
     ]
    },
    {
     "name": "stdout",
     "output_type": "stream",
     "text": [
      "Classification Report:\n",
      "              precision    recall  f1-score   support\n",
      "\n",
      "       Anger     0.3358    0.2556    0.2902       180\n",
      "        Fear     0.4403    0.4403    0.4403       134\n",
      "         Joy     0.6215    0.6394    0.6303       208\n",
      "        Love     0.6000    0.1485    0.2381       101\n",
      "     Neutral     0.4855    0.7457    0.5881       291\n",
      "         Sad     0.4762    0.3378    0.3953       148\n",
      "\n",
      "    accuracy                         0.4896      1062\n",
      "   macro avg     0.4932    0.4279    0.4304      1062\n",
      "weighted avg     0.4906    0.4896    0.4671      1062\n",
      "\n"
     ]
    },
    {
     "data": {
      "image/png": "[encoded data removed]",
      "text/plain": [
       "<Figure size 576x432 with 2 Axes>"
      ]
     },
     "metadata": {
      "needs_background": "light"
     },
     "output_type": "display_data"
    },
    {
     "name": "stdout",
     "output_type": "stream",
     "text": [
      "Training finished!\n"
     ]
    },
    {
     "data": {
      "image/png": "[encoded data removed]",
      "text/plain": [
       "<Figure size 432x288 with 1 Axes>"
      ]
     },
     "metadata": {},
     "output_type": "display_data"
    },
    {
     "name": "stdout",
     "output_type": "stream",
     "text": [
      "Total time: 5.800148745377858 minutes\n"
     ]
    }
   ],
   "source": [
    "#4 google-bert/bert-base-multilingual-cased peft\n",
    "\n",
    "main(\n",
    "    model_name = 'google-bert/bert-base-multilingual-cased',\n",
    "    output_dir = 'p-emotcls-bert-base',\n",
    "    best_params = 'best_params/p-mbert.json'\n",
    ")"
   ]
  },
  {
   "cell_type": "code",
   "execution_count": null,
   "id": "710ae2d7",
   "metadata": {},
   "outputs": [],
   "source": []
  }
 ],
 "metadata": {
  "kernelspec": {
   "display_name": "conda_env_2",
   "language": "python",
   "name": "conda_env_2"
  },
  "language_info": {
   "codemirror_mode": {
    "name": "ipython",
    "version": 3
   },
   "file_extension": ".py",
   "mimetype": "text/x-python",
   "name": "python",
   "nbconvert_exporter": "python",
   "pygments_lexer": "ipython3",
   "version": "3.9.16"
  }
 },
 "nbformat": 4,
 "nbformat_minor": 5
}
