{
 "cells": [
  {
   "cell_type": "code",
   "execution_count": 1,
   "id": "bebc8721",
   "metadata": {},
   "outputs": [],
   "source": [
    "import pandas as pd"
   ]
  },
  {
   "cell_type": "code",
   "execution_count": 3,
   "id": "b87f7245",
   "metadata": {},
   "outputs": [],
   "source": [
    "df = pd.read_csv('all_data.csv')\n",
    "train_data = pd.read_csv('train.csv')\n",
    "val_data = pd.read_csv('val.csv')\n",
    "test_data = pd.read_csv('test.csv')"
   ]
  },
  {
   "cell_type": "code",
   "execution_count": 9,
   "id": "8dca0c51",
   "metadata": {},
   "outputs": [
    {
     "data": {
      "text/plain": [
       "label\n",
       "Neutral    2001\n",
       "Joy        1275\n",
       "Anger      1130\n",
       "Sad        1003\n",
       "Fear        911\n",
       "Love        760\n",
       "Name: count, dtype: int64"
      ]
     },
     "execution_count": 9,
     "metadata": {},
     "output_type": "execute_result"
    }
   ],
   "source": [
    "df['label'].value_counts()"
   ]
  },
  {
   "cell_type": "code",
   "execution_count": 6,
   "id": "267d83c3",
   "metadata": {},
   "outputs": [
    {
     "data": {
      "text/plain": [
       "label\n",
       "Neutral    1412\n",
       "Joy         890\n",
       "Anger       774\n",
       "Sad         706\n",
       "Fear        630\n",
       "Love        544\n",
       "Name: count, dtype: int64"
      ]
     },
     "execution_count": 6,
     "metadata": {},
     "output_type": "execute_result"
    }
   ],
   "source": [
    "train_data['label'].value_counts()"
   ]
  },
  {
   "cell_type": "code",
   "execution_count": 7,
   "id": "cb60f0ba",
   "metadata": {},
   "outputs": [
    {
     "data": {
      "text/plain": [
       "label\n",
       "Neutral    298\n",
       "Joy        177\n",
       "Anger      176\n",
       "Sad        149\n",
       "Fear       147\n",
       "Love       115\n",
       "Name: count, dtype: int64"
      ]
     },
     "execution_count": 7,
     "metadata": {},
     "output_type": "execute_result"
    }
   ],
   "source": [
    "val_data['label'].value_counts()"
   ]
  },
  {
   "cell_type": "code",
   "execution_count": 8,
   "id": "30dcb383",
   "metadata": {},
   "outputs": [
    {
     "data": {
      "text/plain": [
       "label\n",
       "Neutral    291\n",
       "Joy        208\n",
       "Anger      180\n",
       "Sad        148\n",
       "Fear       134\n",
       "Love       101\n",
       "Name: count, dtype: int64"
      ]
     },
     "execution_count": 8,
     "metadata": {},
     "output_type": "execute_result"
    }
   ],
   "source": [
    "test_data['label'].value_counts()"
   ]
  },
  {
   "cell_type": "code",
   "execution_count": 10,
   "id": "81e8f558",
   "metadata": {},
   "outputs": [
    {
     "data": {
      "image/png": "[encoded data removed]",
      "text/plain": [
       "<Figure size 1296x432 with 3 Axes>"
      ]
     },
     "metadata": {
      "needs_background": "light"
     },
     "output_type": "display_data"
    }
   ],
   "source": [
    "import matplotlib.pyplot as plt\n",
    "\n",
    "# Data\n",
    "categories = ['Neutral', 'Joy', 'Anger', 'Sad', 'Fear', 'Love']\n",
    "train_counts = [1412, 890, 774, 706, 630, 544]\n",
    "val_counts = [298, 177, 176, 149, 147, 115]\n",
    "test_counts = [291, 208, 180, 148, 134, 101]\n",
    "\n",
    "# Create subplots\n",
    "fig, axes = plt.subplots(1, 3, figsize=(18, 6))\n",
    "\n",
    "# Train Bar Chart\n",
    "axes[0].bar(categories, train_counts, color='blue')\n",
    "axes[0].set_title('Train Data Distribution')\n",
    "axes[0].set_xlabel('Emotion')\n",
    "axes[0].set_ylabel('Count')\n",
    "\n",
    "# Validation Bar Chart\n",
    "axes[1].bar(categories, val_counts, color='green')\n",
    "axes[1].set_title('Validation Data Distribution')\n",
    "axes[1].set_xlabel('Emotion')\n",
    "axes[1].set_ylabel('Count')\n",
    "\n",
    "# Test Bar Chart\n",
    "axes[2].bar(categories, test_counts, color='red')\n",
    "axes[2].set_title('Test Data Distribution')\n",
    "axes[2].set_xlabel('Emotion')\n",
    "axes[2].set_ylabel('Count')\n",
    "\n",
    "# Display the plots\n",
    "plt.tight_layout()\n",
    "plt.show()"
   ]
  },
  {
   "cell_type": "code",
   "execution_count": null,
   "id": "f1332d4e",
   "metadata": {},
   "outputs": [],
   "source": []
  }
 ],
 "metadata": {
  "kernelspec": {
   "display_name": "conda_env_2",
   "language": "python",
   "name": "conda_env_2"
  },
  "language_info": {
   "codemirror_mode": {
    "name": "ipython",
    "version": 3
   },
   "file_extension": ".py",
   "mimetype": "text/x-python",
   "name": "python",
   "nbconvert_exporter": "python",
   "pygments_lexer": "ipython3",
   "version": "3.9.16"
  }
 },
 "nbformat": 4,
 "nbformat_minor": 5
}
