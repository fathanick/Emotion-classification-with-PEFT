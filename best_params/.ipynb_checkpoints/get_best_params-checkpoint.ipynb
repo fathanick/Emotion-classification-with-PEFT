{
 "cells": [
  {
   "cell_type": "code",
   "execution_count": 1,
   "id": "65f0d237",
   "metadata": {},
   "outputs": [],
   "source": [
    "import json\n",
    "import glob\n",
    "import os\n",
    "import pandas as pd"
   ]
  },
  {
   "cell_type": "code",
   "execution_count": null,
   "id": "664c850c",
   "metadata": {},
   "outputs": [],
   "source": [
    "def get_params(folder_path):\n",
    "    pattern = '*.json'\n",
    "\n",
    "    # Create an empty list to store DataFrames\n",
    "    dfs = []\n",
    "\n",
    "    # Use glob to get a list of JSON file paths\n",
    "    json_files = glob.glob(os.path.join(folder_path, pattern))\n",
    "\n",
    "    # Loop through JSON files\n",
    "    for json_file_path in json_files:\n",
    "        with open(json_file_path, 'r') as file:\n",
    "            data = json.load(file)\n",
    "\n",
    "            # Split the string by \"/\" and get the last part\n",
    "            last_part = json_file_path.split(\"/\")[-1]\n",
    "\n",
    "            # Remove the \".json\" extension to get the model name\n",
    "            model_name = last_part.replace(\".json\", \"\")\n",
    "\n",
    "            # Extract parameters from the JSON data\n",
    "            \n",
    "            num_train_epochs = data.get(\"num_train_epochs\", \"\")\n",
    "            learning_rate = data.get(\"learning_rate\", \"\")\n",
    "            per_device_train_batch_size = data.get(\"per_device_train_batch_size\", \"\")\n",
    "            per_device_eval_batch_size = data.get(\"per_device_eval_batch_size\", \"\")\n",
    "            weight_decay = data.get(\"weight_decay\", \"\")\n",
    "            \n",
    "            # Create a DataFrame for the current model's parameters\n",
    "            df = pd.DataFrame({\"Model\": model_name, \n",
    "                               \"num_train_epochs\": num_train_epochs,\n",
    "                               \"learning_rate\": learning_rate,\n",
    "                               \"per_device_train_batch_size\": per_device_train_batch_size,\n",
    "                               \"per_device_eval_batch_size\": per_device_eval_batch_size},\n",
    "                               \"weight_decay\": weight_decay,\n",
    "                                index=[0])\n",
    "\n",
    "            # Append the DataFrame to the list\n",
    "            dfs.append(df)\n",
    "\n",
    "    # Concatenate all DataFrames in the list\n",
    "    result_df = pd.concat(dfs, ignore_index=True)\n",
    "\n",
    "    return result_df"
   ]
  }
 ],
 "metadata": {
  "kernelspec": {
   "display_name": "conda_env_2",
   "language": "python",
   "name": "conda_env_2"
  },
  "language_info": {
   "codemirror_mode": {
    "name": "ipython",
    "version": 3
   },
   "file_extension": ".py",
   "mimetype": "text/x-python",
   "name": "python",
   "nbconvert_exporter": "python",
   "pygments_lexer": "ipython3",
   "version": "3.9.16"
  }
 },
 "nbformat": 4,
 "nbformat_minor": 5
}
