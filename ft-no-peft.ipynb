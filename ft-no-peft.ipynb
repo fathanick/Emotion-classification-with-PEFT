{
 "cells": [
  {
   "cell_type": "code",
   "execution_count": 1,
   "id": "62b189b9",
   "metadata": {},
   "outputs": [
    {
     "name": "stderr",
     "output_type": "stream",
     "text": [
      "2024-08-12 16:20:49.344389: I tensorflow/core/platform/cpu_feature_guard.cc:193] This TensorFlow binary is optimized with oneAPI Deep Neural Network Library (oneDNN) to use the following CPU instructions in performance-critical operations:  AVX2 AVX512F FMA\n",
      "To enable them in other operations, rebuild TensorFlow with the appropriate compiler flags.\n",
      "2024-08-12 16:20:51.328818: W tensorflow/compiler/xla/stream_executor/platform/default/dso_loader.cc:64] Could not load dynamic library 'libnvinfer.so.7'; dlerror: libnvinfer.so.7: cannot open shared object file: No such file or directory\n",
      "2024-08-12 16:20:51.329044: W tensorflow/compiler/xla/stream_executor/platform/default/dso_loader.cc:64] Could not load dynamic library 'libnvinfer_plugin.so.7'; dlerror: libnvinfer_plugin.so.7: cannot open shared object file: No such file or directory\n",
      "2024-08-12 16:20:51.329064: W tensorflow/compiler/tf2tensorrt/utils/py_utils.cc:38] TF-TRT Warning: Cannot dlopen some TensorRT libraries. If you would like to use Nvidia GPU with TensorRT, please make sure the missing libraries mentioned above are installed properly.\n"
     ]
    }
   ],
   "source": [
    "import pandas as pd\n",
    "import numpy as np\n",
    "import os\n",
    "import torch\n",
    "import time\n",
    "import json\n",
    "\n",
    "\n",
    "from datasets import Dataset\n",
    "from sklearn.metrics import accuracy_score, f1_score, precision_score, recall_score, classification_report\n",
    "from sklearn.metrics import confusion_matrix\n",
    "import seaborn as sns\n",
    "import matplotlib.pyplot as plt\n",
    "from transformers import (\n",
    "    AutoTokenizer,\n",
    "    AutoModelForSequenceClassification,\n",
    "    DataCollatorWithPadding,\n",
    "    TrainingArguments,\n",
    "    Trainer,\n",
    ")\n",
    "\n",
    "os.environ[\"TOKENIZERS_PARALLELISM\"] = \"false\"\n",
    "use_cuda = torch.cuda.is_available()"
   ]
  },
  {
   "cell_type": "code",
   "execution_count": 2,
   "id": "081a5d36",
   "metadata": {},
   "outputs": [
    {
     "name": "stdout",
     "output_type": "stream",
     "text": [
      "Train:  4956\n",
      "Val:  1062\n",
      "Test:  1062\n"
     ]
    }
   ],
   "source": [
    "df = pd.read_csv('dataset/all_data.csv')\n",
    "train_data = pd.read_csv('dataset/train.csv')\n",
    "val_data = pd.read_csv('dataset/val.csv')\n",
    "test_data = pd.read_csv('dataset/test.csv')\n",
    "\n",
    "# Length train, val, and test\n",
    "print(\"Train: \",len(train_data))\n",
    "print(\"Val: \",len(val_data))\n",
    "print(\"Test: \",len(test_data))"
   ]
  },
  {
   "cell_type": "code",
   "execution_count": 3,
   "id": "b3bbea9c",
   "metadata": {},
   "outputs": [],
   "source": [
    "tags = np.unique(df['label'])\n",
    "num_labels = len(tags)\n",
    "max_length = 128\n",
    "label2id = {t: i for i, t in enumerate(tags)}\n",
    "id2label = {i: t for i, t in enumerate(tags)}"
   ]
  },
  {
   "cell_type": "code",
   "execution_count": 4,
   "id": "cb77b0b0",
   "metadata": {},
   "outputs": [
    {
     "data": {
      "text/plain": [
       "{'Anger': 0, 'Fear': 1, 'Joy': 2, 'Love': 3, 'Neutral': 4, 'Sad': 5}"
      ]
     },
     "execution_count": 4,
     "metadata": {},
     "output_type": "execute_result"
    }
   ],
   "source": [
    "label2id"
   ]
  },
  {
   "cell_type": "code",
   "execution_count": 5,
   "id": "026f83bd",
   "metadata": {},
   "outputs": [],
   "source": [
    "# model initialization\n",
    "max_length = 128\n",
    "\n",
    "def model_init(model_name):\n",
    "    global tokenizer\n",
    "    global data_collator\n",
    "    global tr_model\n",
    "\n",
    "    model = AutoModelForSequenceClassification.from_pretrained(\n",
    "        model_name,\n",
    "        num_labels=num_labels,\n",
    "        id2label=id2label,\n",
    "        label2id=label2id\n",
    "    )\n",
    "    tokenizer = AutoTokenizer.from_pretrained(model_name, model_max_length=max_length)\n",
    "    \n",
    "    return model, tokenizer"
   ]
  },
  {
   "cell_type": "code",
   "execution_count": 6,
   "id": "34727fb9",
   "metadata": {},
   "outputs": [],
   "source": [
    "def model_init(model_name):\n",
    "    global tokenizer\n",
    "    global data_collator\n",
    "    global tr_model\n",
    "\n",
    "    model = AutoModelForSequenceClassification.from_pretrained(\n",
    "        model_name,\n",
    "        num_labels=num_labels,\n",
    "        id2label=id2label,\n",
    "        label2id=label2id\n",
    "    )\n",
    "    tokenizer = AutoTokenizer.from_pretrained(model_name, model_max_length=128)\n",
    "    \n",
    "    return model, tokenizer\n",
    "\n",
    "\n",
    "def tokenize_function(examples):\n",
    "    # process the input sequence\n",
    "    tokenized_input = tokenizer(examples[\"tweet\"], \n",
    "                                truncation=True, \n",
    "                                padding='max_length', \n",
    "                                max_length=max_length)\n",
    "    # process the labels\n",
    "    tokenized_input['label'] = [label2id[lb] for lb in examples['label']]\n",
    "    \n",
    "    return tokenized_input\n",
    "\n",
    "\n",
    "def preprocessing():\n",
    "    X_train = Dataset.from_pandas(train_data)\n",
    "    X_val = Dataset.from_pandas(val_data)\n",
    "    X_test = Dataset.from_pandas(test_data)\n",
    "    \n",
    "    tokenized_train_data = X_train.map(tokenize_function, batched=True)\n",
    "    tokenized_val_data = X_val.map(tokenize_function, batched=True)\n",
    "    tokenized_test_data = X_test.map(tokenize_function, batched=True)\n",
    "    \n",
    "    return tokenized_train_data, tokenized_val_data, tokenized_test_data\n",
    "\n",
    "\n",
    "def compute_metrics(p):\n",
    "    pred, labels = p\n",
    "    pred = np.argmax(pred, axis=1)\n",
    "    \n",
    "    true_labels = [tags[l] for l in labels] \n",
    "    true_predictions = [tags[pr] for pr in pred]\n",
    "\n",
    "    report = classification_report(true_labels, true_predictions, digits=4)\n",
    "    acc = accuracy_score(y_true=true_labels, y_pred=true_predictions)\n",
    "    rec = recall_score(y_true=true_labels, y_pred=true_predictions, average=\"macro\")\n",
    "    prec = precision_score(y_true=true_labels, y_pred=true_predictions, average=\"macro\")\n",
    "    f1 = f1_score(y_true=true_labels, y_pred=true_predictions, average=\"macro\", zero_division=1.0)\n",
    "\n",
    "    print(\"Classification Report:\\n{}\".format(report))\n",
    "    return {\"accuracy\": acc, \"precision\": prec, \"recall\": rec, \"f1\": f1}"
   ]
  },
  {
   "cell_type": "code",
   "execution_count": 7,
   "id": "2fd48fd4",
   "metadata": {},
   "outputs": [],
   "source": [
    "# to generate the confusion matrix\n",
    "\n",
    "from sklearn.metrics import confusion_matrix\n",
    "import matplotlib.pyplot as plt\n",
    "import seaborn as sns \n",
    "\n",
    "def generate_confusion_matrix(true_labels, pred_labels, num_labels):\n",
    "    cm = confusion_matrix(true_labels, pred_labels)\n",
    "    labels = [id2label[i] for i in range(num_labels)]\n",
    "    plt.figure(figsize=(8, 6))\n",
    "    sns.set(font_scale=1.5)\n",
    "    sns.heatmap(cm, \n",
    "                annot=True, \n",
    "                fmt=\"d\", \n",
    "                cmap=\"Blues\", \n",
    "                xticklabels=labels, \n",
    "                yticklabels=labels)\n",
    "    plt.xlabel(\"Predicted\")\n",
    "    plt.ylabel(\"Actual\")\n",
    "    plt.yticks(rotation=0)\n",
    "    plt.show()"
   ]
  },
  {
   "cell_type": "code",
   "execution_count": 8,
   "id": "e9e7bc77",
   "metadata": {},
   "outputs": [],
   "source": [
    "def train_model(model_name, output_dir, learning_rate, train_batch_size, eval_batch_size, num_epochs, weight_decay):\n",
    "\n",
    "    model, tokenizer = model_init(model_name)\n",
    "    train_tokenized, val_tokenized, test_tokenized = preprocessing()\n",
    "    \n",
    "    training_args = TrainingArguments(\n",
    "        output_dir=output_dir,\n",
    "        logging_strategy=\"epoch\",\n",
    "        evaluation_strategy=\"epoch\",\n",
    "        save_strategy=\"epoch\",\n",
    "        save_total_limit = 1,\n",
    "        learning_rate=learning_rate,\n",
    "        num_train_epochs=num_epochs,\n",
    "        per_device_train_batch_size=train_batch_size,\n",
    "        per_device_eval_batch_size=eval_batch_size,\n",
    "        weight_decay=weight_decay,\n",
    "        load_best_model_at_end=True,\n",
    "        #push_to_hub=True, # to push to hub during the training\n",
    "    )\n",
    "\n",
    "    trainer = Trainer(\n",
    "        model=model,\n",
    "        args=training_args,\n",
    "        train_dataset=train_tokenized,\n",
    "        eval_dataset=val_tokenized,\n",
    "        tokenizer=tokenizer,\n",
    "        compute_metrics=compute_metrics,\n",
    "    )\n",
    "    \n",
    "    trainer.train()\n",
    "    trainer.save_model(output_dir)\n",
    "    #trainer.push_to_hub(commit_message=\"Training complete\")\n",
    "    \n",
    "    # Get the evaluation results\n",
    "    trainer.eval_dataset=test_tokenized\n",
    "    evaluation_results = trainer.evaluate()\n",
    "    print(evaluation_results)\n",
    "    \n",
    "    # make prediction on the test set\n",
    "    predictions = trainer.predict(test_tokenized)\n",
    "    pred_labels = np.argmax(predictions.predictions, axis=1)\n",
    "    true_labels = test_tokenized[\"label\"]\n",
    "    \n",
    "    # Generate confusion matrix\n",
    "    generate_confusion_matrix(true_labels, pred_labels, num_labels)\n",
    "    \n",
    "    return trainer"
   ]
  },
  {
   "cell_type": "code",
   "execution_count": 9,
   "id": "a6f79d01",
   "metadata": {},
   "outputs": [],
   "source": [
    "def show_log_history(trainer):\n",
    "    log_history = pd.DataFrame(trainer.state.log_history)\n",
    "    log_history = log_history.fillna(0)\n",
    "    log_history = log_history.groupby([\"epoch\"]).sum()\n",
    "    \n",
    "    log_history[[\"loss\", \"eval_loss\"]].plot()\n",
    "    plt.show()"
   ]
  },
  {
   "cell_type": "code",
   "execution_count": 10,
   "id": "7c5624e4",
   "metadata": {},
   "outputs": [],
   "source": [
    "def main(model_name, output_dir, best_params):\n",
    "    start = time.time()\n",
    "     # load json file containing best params\n",
    "    best_params = best_params\n",
    "\n",
    "    with open(best_params, 'r') as js:\n",
    "        data = json.load(js)\n",
    "\n",
    "    print(data)\n",
    "\n",
    "    # define best params\n",
    "    num_train_epochs = data['num_train_epochs']\n",
    "    learning_rate = data['learning_rate']\n",
    "    train_batch_size = data['per_device_train_batch_size']\n",
    "    eval_batch_size = data['per_device_eval_batch_size']\n",
    "    weight_decay = data['weight_decay']\n",
    "\n",
    "    # training\n",
    "    tr_model = train_model(model_name=model_name, \n",
    "                           output_dir=output_dir,\n",
    "                           learning_rate=learning_rate,\n",
    "                           train_batch_size=train_batch_size,\n",
    "                           eval_batch_size=eval_batch_size,\n",
    "                           num_epochs=num_train_epochs,\n",
    "                           weight_decay=weight_decay)\n",
    "\n",
    "    print('Training finished!')\n",
    "    \n",
    "    show_log_history(tr_model)\n",
    "\n",
    "    \n",
    "    end = time.time()\n",
    "    exec_time = (end - start) / 60\n",
    "    print(f'Total time: {exec_time} minutes')"
   ]
  },
  {
   "cell_type": "code",
   "execution_count": 11,
   "id": "9814ddbc",
   "metadata": {},
   "outputs": [
    {
     "name": "stdout",
     "output_type": "stream",
     "text": [
      "{'num_train_epochs': 8, 'learning_rate': 0.0001, 'per_device_train_batch_size': 64, 'per_device_eval_batch_size': 8, 'weight_decay': 0.018518823014582186}\n"
     ]
    },
    {
     "name": "stderr",
     "output_type": "stream",
     "text": [
      "Some weights of the model checkpoint at indolem/indobertweet-base-uncased were not used when initializing BertForSequenceClassification: ['cls.predictions.transform.dense.weight', 'cls.predictions.decoder.weight', 'cls.predictions.transform.dense.bias', 'cls.predictions.transform.LayerNorm.bias', 'cls.predictions.transform.LayerNorm.weight', 'cls.predictions.bias', 'cls.predictions.decoder.bias']\n",
      "- This IS expected if you are initializing BertForSequenceClassification from the checkpoint of a model trained on another task or with another architecture (e.g. initializing a BertForSequenceClassification model from a BertForPreTraining model).\n",
      "- This IS NOT expected if you are initializing BertForSequenceClassification from the checkpoint of a model that you expect to be exactly identical (initializing a BertForSequenceClassification model from a BertForSequenceClassification model).\n",
      "Some weights of BertForSequenceClassification were not initialized from the model checkpoint at indolem/indobertweet-base-uncased and are newly initialized: ['classifier.bias', 'classifier.weight']\n",
      "You should probably TRAIN this model on a down-stream task to be able to use it for predictions and inference.\n"
     ]
    },
    {
     "data": {
      "application/vnd.jupyter.widget-view+json": {
       "model_id": "168a81c8680a4612a4978e5a68191451",
       "version_major": 2,
       "version_minor": 0
      },
      "text/plain": [
       "  0%|          | 0/5 [00:00<?, ?ba/s]"
      ]
     },
     "metadata": {},
     "output_type": "display_data"
    },
    {
     "data": {
      "application/vnd.jupyter.widget-view+json": {
       "model_id": "db48556e62824ee48413d8909b3178f1",
       "version_major": 2,
       "version_minor": 0
      },
      "text/plain": [
       "  0%|          | 0/2 [00:00<?, ?ba/s]"
      ]
     },
     "metadata": {},
     "output_type": "display_data"
    },
    {
     "data": {
      "application/vnd.jupyter.widget-view+json": {
       "model_id": "7fef86180a4847cd805f3a9d2921f670",
       "version_major": 2,
       "version_minor": 0
      },
      "text/plain": [
       "  0%|          | 0/2 [00:00<?, ?ba/s]"
      ]
     },
     "metadata": {},
     "output_type": "display_data"
    },
    {
     "name": "stderr",
     "output_type": "stream",
     "text": [
      "The following columns in the training set don't have a corresponding argument in `BertForSequenceClassification.forward` and have been ignored: tweet, index. If tweet, index are not expected by `BertForSequenceClassification.forward`,  you can safely ignore this message.\n",
      "/home/jupyter-145230403/.conda/envs/conda_env_2/lib/python3.9/site-packages/transformers/optimization.py:306: FutureWarning: This implementation of AdamW is deprecated and will be removed in a future version. Use the PyTorch implementation torch.optim.AdamW instead, or set `no_deprecation_warning=True` to disable this warning\n",
      "  warnings.warn(\n",
      "***** Running training *****\n",
      "  Num examples = 4956\n",
      "  Num Epochs = 8\n",
      "  Instantaneous batch size per device = 64\n",
      "  Total train batch size (w. parallel, distributed & accumulation) = 256\n",
      "  Gradient Accumulation steps = 1\n",
      "  Total optimization steps = 160\n",
      "  Number of trainable parameters = 110562822\n",
      "Automatic Weights & Biases logging enabled, to disable set os.environ[\"WANDB_DISABLED\"] = \"true\"\n",
      "Failed to detect the name of this notebook, you can set it manually with the WANDB_NOTEBOOK_NAME environment variable to enable code saving.\n",
      "\u001b[34m\u001b[1mwandb\u001b[0m: Currently logged in as: \u001b[33mfathanel\u001b[0m (\u001b[33mfathanick_lab\u001b[0m). Use \u001b[1m`wandb login --relogin`\u001b[0m to force relogin\n"
     ]
    },
    {
     "data": {
      "text/html": [
       "wandb version 0.17.6 is available!  To upgrade, please run:\n",
       " $ pip install wandb --upgrade"
      ],
      "text/plain": [
       "<IPython.core.display.HTML object>"
      ]
     },
     "metadata": {},
     "output_type": "display_data"
    },
    {
     "data": {
      "text/html": [
       "Tracking run with wandb version 0.17.5"
      ],
      "text/plain": [
       "<IPython.core.display.HTML object>"
      ]
     },
     "metadata": {},
     "output_type": "display_data"
    },
    {
     "data": {
      "text/html": [
       "Run data is saved locally in <code>/home/jupyter-145230403/01-RESEARCH COLLABORATION/EMOTION CLASSIFICATION/wandb/run-20240812_162123-is7vowwl</code>"
      ],
      "text/plain": [
       "<IPython.core.display.HTML object>"
      ]
     },
     "metadata": {},
     "output_type": "display_data"
    },
    {
     "data": {
      "text/html": [
       "Syncing run <strong><a href='https://wandb.ai/fathanick_lab/huggingface/runs/is7vowwl' target=\"_blank\">zesty-dust-203</a></strong> to <a href='https://wandb.ai/fathanick_lab/huggingface' target=\"_blank\">Weights & Biases</a> (<a href='https://wandb.me/run' target=\"_blank\">docs</a>)<br/>"
      ],
      "text/plain": [
       "<IPython.core.display.HTML object>"
      ]
     },
     "metadata": {},
     "output_type": "display_data"
    },
    {
     "data": {
      "text/html": [
       " View project at <a href='https://wandb.ai/fathanick_lab/huggingface' target=\"_blank\">https://wandb.ai/fathanick_lab/huggingface</a>"
      ],
      "text/plain": [
       "<IPython.core.display.HTML object>"
      ]
     },
     "metadata": {},
     "output_type": "display_data"
    },
    {
     "data": {
      "text/html": [
       " View run at <a href='https://wandb.ai/fathanick_lab/huggingface/runs/is7vowwl' target=\"_blank\">https://wandb.ai/fathanick_lab/huggingface/runs/is7vowwl</a>"
      ],
      "text/plain": [
       "<IPython.core.display.HTML object>"
      ]
     },
     "metadata": {},
     "output_type": "display_data"
    },
    {
     "name": "stderr",
     "output_type": "stream",
     "text": [
      "You're using a BertTokenizerFast tokenizer. Please note that with a fast tokenizer, using the `__call__` method is faster than using a method to encode the text followed by a call to the `pad` method to get a padded encoding.\n",
      "/home/jupyter-145230403/.conda/envs/conda_env_2/lib/python3.9/site-packages/torch/nn/parallel/_functions.py:68: UserWarning: Was asked to gather along dimension 0, but all input tensors were scalars; will instead unsqueeze and return a vector.\n",
      "  warnings.warn('Was asked to gather along dimension 0, but all '\n"
     ]
    },
    {
     "data": {
      "text/html": [
       "\n",
       "    <div>\n",
       "      \n",
       "      <progress value='160' max='160' style='width:300px; height:20px; vertical-align: middle;'></progress>\n",
       "      [160/160 03:59, Epoch 8/8]\n",
       "    </div>\n",
       "    <table border=\"1\" class=\"dataframe\">\n",
       "  <thead>\n",
       " <tr style=\"text-align: left;\">\n",
       "      <th>Epoch</th>\n",
       "      <th>Training Loss</th>\n",
       "      <th>Validation Loss</th>\n",
       "      <th>Accuracy</th>\n",
       "      <th>Precision</th>\n",
       "      <th>Recall</th>\n",
       "      <th>F1</th>\n",
       "    </tr>\n",
       "  </thead>\n",
       "  <tbody>\n",
       "    <tr>\n",
       "      <td>1</td>\n",
       "      <td>1.161500</td>\n",
       "      <td>0.673742</td>\n",
       "      <td>0.777778</td>\n",
       "      <td>0.786248</td>\n",
       "      <td>0.783880</td>\n",
       "      <td>0.783113</td>\n",
       "    </tr>\n",
       "    <tr>\n",
       "      <td>2</td>\n",
       "      <td>0.564100</td>\n",
       "      <td>0.617615</td>\n",
       "      <td>0.783427</td>\n",
       "      <td>0.794316</td>\n",
       "      <td>0.791844</td>\n",
       "      <td>0.789300</td>\n",
       "    </tr>\n",
       "    <tr>\n",
       "      <td>3</td>\n",
       "      <td>0.355900</td>\n",
       "      <td>0.666869</td>\n",
       "      <td>0.782486</td>\n",
       "      <td>0.787170</td>\n",
       "      <td>0.797063</td>\n",
       "      <td>0.790377</td>\n",
       "    </tr>\n",
       "    <tr>\n",
       "      <td>4</td>\n",
       "      <td>0.229400</td>\n",
       "      <td>0.743215</td>\n",
       "      <td>0.776836</td>\n",
       "      <td>0.776245</td>\n",
       "      <td>0.795177</td>\n",
       "      <td>0.783238</td>\n",
       "    </tr>\n",
       "    <tr>\n",
       "      <td>5</td>\n",
       "      <td>0.132200</td>\n",
       "      <td>0.781307</td>\n",
       "      <td>0.779661</td>\n",
       "      <td>0.781986</td>\n",
       "      <td>0.793688</td>\n",
       "      <td>0.787243</td>\n",
       "    </tr>\n",
       "    <tr>\n",
       "      <td>6</td>\n",
       "      <td>0.079800</td>\n",
       "      <td>0.819904</td>\n",
       "      <td>0.787194</td>\n",
       "      <td>0.793283</td>\n",
       "      <td>0.798238</td>\n",
       "      <td>0.795533</td>\n",
       "    </tr>\n",
       "    <tr>\n",
       "      <td>7</td>\n",
       "      <td>0.050800</td>\n",
       "      <td>0.872630</td>\n",
       "      <td>0.782486</td>\n",
       "      <td>0.785986</td>\n",
       "      <td>0.794655</td>\n",
       "      <td>0.789378</td>\n",
       "    </tr>\n",
       "    <tr>\n",
       "      <td>8</td>\n",
       "      <td>0.037300</td>\n",
       "      <td>0.875891</td>\n",
       "      <td>0.782486</td>\n",
       "      <td>0.786586</td>\n",
       "      <td>0.796090</td>\n",
       "      <td>0.790830</td>\n",
       "    </tr>\n",
       "  </tbody>\n",
       "</table><p>"
      ],
      "text/plain": [
       "<IPython.core.display.HTML object>"
      ]
     },
     "metadata": {},
     "output_type": "display_data"
    },
    {
     "name": "stderr",
     "output_type": "stream",
     "text": [
      "The following columns in the evaluation set don't have a corresponding argument in `BertForSequenceClassification.forward` and have been ignored: tweet, index. If tweet, index are not expected by `BertForSequenceClassification.forward`,  you can safely ignore this message.\n",
      "***** Running Evaluation *****\n",
      "  Num examples = 1062\n",
      "  Batch size = 32\n"
     ]
    },
    {
     "name": "stdout",
     "output_type": "stream",
     "text": [
      "Classification Report:\n",
      "              precision    recall  f1-score   support\n",
      "\n",
      "       Anger     0.7937    0.8523    0.8219       176\n",
      "        Fear     0.8767    0.8707    0.8737       147\n",
      "         Joy     0.8403    0.6836    0.7539       177\n",
      "        Love     0.7188    0.8000    0.7572       115\n",
      "     Neutral     0.7226    0.7517    0.7368       298\n",
      "         Sad     0.7655    0.7450    0.7551       149\n",
      "\n",
      "    accuracy                         0.7778      1062\n",
      "   macro avg     0.7862    0.7839    0.7831      1062\n",
      "weighted avg     0.7809    0.7778    0.7775      1062\n",
      "\n"
     ]
    },
    {
     "name": "stderr",
     "output_type": "stream",
     "text": [
      "Saving model checkpoint to emotcls-indobertweet-base/checkpoint-20\n",
      "Configuration saved in emotcls-indobertweet-base/checkpoint-20/config.json\n",
      "Model weights saved in emotcls-indobertweet-base/checkpoint-20/pytorch_model.bin\n",
      "tokenizer config file saved in emotcls-indobertweet-base/checkpoint-20/tokenizer_config.json\n",
      "Special tokens file saved in emotcls-indobertweet-base/checkpoint-20/special_tokens_map.json\n",
      "/home/jupyter-145230403/.conda/envs/conda_env_2/lib/python3.9/site-packages/torch/nn/parallel/_functions.py:68: UserWarning: Was asked to gather along dimension 0, but all input tensors were scalars; will instead unsqueeze and return a vector.\n",
      "  warnings.warn('Was asked to gather along dimension 0, but all '\n",
      "The following columns in the evaluation set don't have a corresponding argument in `BertForSequenceClassification.forward` and have been ignored: tweet, index. If tweet, index are not expected by `BertForSequenceClassification.forward`,  you can safely ignore this message.\n",
      "***** Running Evaluation *****\n",
      "  Num examples = 1062\n",
      "  Batch size = 32\n"
     ]
    },
    {
     "name": "stdout",
     "output_type": "stream",
     "text": [
      "Classification Report:\n",
      "              precision    recall  f1-score   support\n",
      "\n",
      "       Anger     0.7760    0.8466    0.8098       176\n",
      "        Fear     0.8658    0.8776    0.8716       147\n",
      "         Joy     0.8741    0.6667    0.7564       177\n",
      "        Love     0.7080    0.8435    0.7698       115\n",
      "     Neutral     0.7290    0.7584    0.7434       298\n",
      "         Sad     0.8129    0.7584    0.7847       149\n",
      "\n",
      "    accuracy                         0.7834      1062\n",
      "   macro avg     0.7943    0.7918    0.7893      1062\n",
      "weighted avg     0.7894    0.7834    0.7830      1062\n",
      "\n"
     ]
    },
    {
     "name": "stderr",
     "output_type": "stream",
     "text": [
      "Saving model checkpoint to emotcls-indobertweet-base/checkpoint-40\n",
      "Configuration saved in emotcls-indobertweet-base/checkpoint-40/config.json\n",
      "Model weights saved in emotcls-indobertweet-base/checkpoint-40/pytorch_model.bin\n",
      "tokenizer config file saved in emotcls-indobertweet-base/checkpoint-40/tokenizer_config.json\n",
      "Special tokens file saved in emotcls-indobertweet-base/checkpoint-40/special_tokens_map.json\n",
      "Deleting older checkpoint [emotcls-indobertweet-base/checkpoint-20] due to args.save_total_limit\n",
      "/home/jupyter-145230403/.conda/envs/conda_env_2/lib/python3.9/site-packages/torch/nn/parallel/_functions.py:68: UserWarning: Was asked to gather along dimension 0, but all input tensors were scalars; will instead unsqueeze and return a vector.\n",
      "  warnings.warn('Was asked to gather along dimension 0, but all '\n",
      "The following columns in the evaluation set don't have a corresponding argument in `BertForSequenceClassification.forward` and have been ignored: tweet, index. If tweet, index are not expected by `BertForSequenceClassification.forward`,  you can safely ignore this message.\n",
      "***** Running Evaluation *****\n",
      "  Num examples = 1062\n",
      "  Batch size = 32\n"
     ]
    },
    {
     "name": "stdout",
     "output_type": "stream",
     "text": [
      "Classification Report:\n",
      "              precision    recall  f1-score   support\n",
      "\n",
      "       Anger     0.7784    0.8182    0.7978       176\n",
      "        Fear     0.8971    0.8299    0.8622       147\n",
      "         Joy     0.7627    0.7627    0.7627       177\n",
      "        Love     0.7214    0.8783    0.7922       115\n",
      "     Neutral     0.7634    0.7148    0.7383       298\n",
      "         Sad     0.8000    0.7785    0.7891       149\n",
      "\n",
      "    accuracy                         0.7825      1062\n",
      "   macro avg     0.7872    0.7971    0.7904      1062\n",
      "weighted avg     0.7849    0.7825    0.7823      1062\n",
      "\n"
     ]
    },
    {
     "name": "stderr",
     "output_type": "stream",
     "text": [
      "Saving model checkpoint to emotcls-indobertweet-base/checkpoint-60\n",
      "Configuration saved in emotcls-indobertweet-base/checkpoint-60/config.json\n",
      "Model weights saved in emotcls-indobertweet-base/checkpoint-60/pytorch_model.bin\n",
      "tokenizer config file saved in emotcls-indobertweet-base/checkpoint-60/tokenizer_config.json\n",
      "Special tokens file saved in emotcls-indobertweet-base/checkpoint-60/special_tokens_map.json\n",
      "/home/jupyter-145230403/.conda/envs/conda_env_2/lib/python3.9/site-packages/torch/nn/parallel/_functions.py:68: UserWarning: Was asked to gather along dimension 0, but all input tensors were scalars; will instead unsqueeze and return a vector.\n",
      "  warnings.warn('Was asked to gather along dimension 0, but all '\n",
      "The following columns in the evaluation set don't have a corresponding argument in `BertForSequenceClassification.forward` and have been ignored: tweet, index. If tweet, index are not expected by `BertForSequenceClassification.forward`,  you can safely ignore this message.\n",
      "***** Running Evaluation *****\n",
      "  Num examples = 1062\n",
      "  Batch size = 32\n"
     ]
    },
    {
     "name": "stdout",
     "output_type": "stream",
     "text": [
      "Classification Report:\n",
      "              precision    recall  f1-score   support\n",
      "\n",
      "       Anger     0.7831    0.8409    0.8110       176\n",
      "        Fear     0.8232    0.9184    0.8682       147\n",
      "         Joy     0.7302    0.7797    0.7541       177\n",
      "        Love     0.7197    0.8261    0.7692       115\n",
      "     Neutral     0.7866    0.6678    0.7223       298\n",
      "         Sad     0.8148    0.7383    0.7746       149\n",
      "\n",
      "    accuracy                         0.7768      1062\n",
      "   macro avg     0.7762    0.7952    0.7832      1062\n",
      "weighted avg     0.7784    0.7768    0.7749      1062\n",
      "\n"
     ]
    },
    {
     "name": "stderr",
     "output_type": "stream",
     "text": [
      "Saving model checkpoint to emotcls-indobertweet-base/checkpoint-80\n",
      "Configuration saved in emotcls-indobertweet-base/checkpoint-80/config.json\n",
      "Model weights saved in emotcls-indobertweet-base/checkpoint-80/pytorch_model.bin\n",
      "tokenizer config file saved in emotcls-indobertweet-base/checkpoint-80/tokenizer_config.json\n",
      "Special tokens file saved in emotcls-indobertweet-base/checkpoint-80/special_tokens_map.json\n",
      "Deleting older checkpoint [emotcls-indobertweet-base/checkpoint-60] due to args.save_total_limit\n",
      "/home/jupyter-145230403/.conda/envs/conda_env_2/lib/python3.9/site-packages/torch/nn/parallel/_functions.py:68: UserWarning: Was asked to gather along dimension 0, but all input tensors were scalars; will instead unsqueeze and return a vector.\n",
      "  warnings.warn('Was asked to gather along dimension 0, but all '\n",
      "The following columns in the evaluation set don't have a corresponding argument in `BertForSequenceClassification.forward` and have been ignored: tweet, index. If tweet, index are not expected by `BertForSequenceClassification.forward`,  you can safely ignore this message.\n",
      "***** Running Evaluation *****\n",
      "  Num examples = 1062\n",
      "  Batch size = 32\n"
     ]
    },
    {
     "name": "stdout",
     "output_type": "stream",
     "text": [
      "Classification Report:\n",
      "              precision    recall  f1-score   support\n",
      "\n",
      "       Anger     0.7594    0.8068    0.7824       176\n",
      "        Fear     0.8442    0.8844    0.8638       147\n",
      "         Joy     0.7816    0.7684    0.7749       177\n",
      "        Love     0.7661    0.8261    0.7950       115\n",
      "     Neutral     0.7636    0.7047    0.7330       298\n",
      "         Sad     0.7770    0.7718    0.7744       149\n",
      "\n",
      "    accuracy                         0.7797      1062\n",
      "   macro avg     0.7820    0.7937    0.7872      1062\n",
      "weighted avg     0.7792    0.7797    0.7788      1062\n",
      "\n"
     ]
    },
    {
     "name": "stderr",
     "output_type": "stream",
     "text": [
      "Saving model checkpoint to emotcls-indobertweet-base/checkpoint-100\n",
      "Configuration saved in emotcls-indobertweet-base/checkpoint-100/config.json\n",
      "Model weights saved in emotcls-indobertweet-base/checkpoint-100/pytorch_model.bin\n",
      "tokenizer config file saved in emotcls-indobertweet-base/checkpoint-100/tokenizer_config.json\n",
      "Special tokens file saved in emotcls-indobertweet-base/checkpoint-100/special_tokens_map.json\n",
      "Deleting older checkpoint [emotcls-indobertweet-base/checkpoint-80] due to args.save_total_limit\n",
      "/home/jupyter-145230403/.conda/envs/conda_env_2/lib/python3.9/site-packages/torch/nn/parallel/_functions.py:68: UserWarning: Was asked to gather along dimension 0, but all input tensors were scalars; will instead unsqueeze and return a vector.\n",
      "  warnings.warn('Was asked to gather along dimension 0, but all '\n",
      "The following columns in the evaluation set don't have a corresponding argument in `BertForSequenceClassification.forward` and have been ignored: tweet, index. If tweet, index are not expected by `BertForSequenceClassification.forward`,  you can safely ignore this message.\n",
      "***** Running Evaluation *****\n",
      "  Num examples = 1062\n",
      "  Batch size = 32\n"
     ]
    },
    {
     "name": "stdout",
     "output_type": "stream",
     "text": [
      "Classification Report:\n",
      "              precision    recall  f1-score   support\n",
      "\n",
      "       Anger     0.7784    0.8182    0.7978       176\n",
      "        Fear     0.8658    0.8776    0.8716       147\n",
      "         Joy     0.7624    0.7797    0.7709       177\n",
      "        Love     0.7966    0.8174    0.8069       115\n",
      "     Neutral     0.7579    0.7248    0.7410       298\n",
      "         Sad     0.7986    0.7718    0.7850       149\n",
      "\n",
      "    accuracy                         0.7872      1062\n",
      "   macro avg     0.7933    0.7982    0.7955      1062\n",
      "weighted avg     0.7869    0.7872    0.7868      1062\n",
      "\n"
     ]
    },
    {
     "name": "stderr",
     "output_type": "stream",
     "text": [
      "Saving model checkpoint to emotcls-indobertweet-base/checkpoint-120\n",
      "Configuration saved in emotcls-indobertweet-base/checkpoint-120/config.json\n",
      "Model weights saved in emotcls-indobertweet-base/checkpoint-120/pytorch_model.bin\n",
      "tokenizer config file saved in emotcls-indobertweet-base/checkpoint-120/tokenizer_config.json\n",
      "Special tokens file saved in emotcls-indobertweet-base/checkpoint-120/special_tokens_map.json\n",
      "Deleting older checkpoint [emotcls-indobertweet-base/checkpoint-100] due to args.save_total_limit\n",
      "/home/jupyter-145230403/.conda/envs/conda_env_2/lib/python3.9/site-packages/torch/nn/parallel/_functions.py:68: UserWarning: Was asked to gather along dimension 0, but all input tensors were scalars; will instead unsqueeze and return a vector.\n",
      "  warnings.warn('Was asked to gather along dimension 0, but all '\n",
      "The following columns in the evaluation set don't have a corresponding argument in `BertForSequenceClassification.forward` and have been ignored: tweet, index. If tweet, index are not expected by `BertForSequenceClassification.forward`,  you can safely ignore this message.\n",
      "***** Running Evaluation *****\n",
      "  Num examples = 1062\n",
      "  Batch size = 32\n"
     ]
    },
    {
     "name": "stdout",
     "output_type": "stream",
     "text": [
      "Classification Report:\n",
      "              precision    recall  f1-score   support\n",
      "\n",
      "       Anger     0.7437    0.8409    0.7893       176\n",
      "        Fear     0.8344    0.8912    0.8618       147\n",
      "         Joy     0.7759    0.7627    0.7692       177\n",
      "        Love     0.8000    0.8000    0.8000       115\n",
      "     Neutral     0.7757    0.7081    0.7404       298\n",
      "         Sad     0.7862    0.7651    0.7755       149\n",
      "\n",
      "    accuracy                         0.7825      1062\n",
      "   macro avg     0.7860    0.7947    0.7894      1062\n",
      "weighted avg     0.7827    0.7825    0.7815      1062\n",
      "\n"
     ]
    },
    {
     "name": "stderr",
     "output_type": "stream",
     "text": [
      "Saving model checkpoint to emotcls-indobertweet-base/checkpoint-140\n",
      "Configuration saved in emotcls-indobertweet-base/checkpoint-140/config.json\n",
      "Model weights saved in emotcls-indobertweet-base/checkpoint-140/pytorch_model.bin\n",
      "tokenizer config file saved in emotcls-indobertweet-base/checkpoint-140/tokenizer_config.json\n",
      "Special tokens file saved in emotcls-indobertweet-base/checkpoint-140/special_tokens_map.json\n",
      "Deleting older checkpoint [emotcls-indobertweet-base/checkpoint-120] due to args.save_total_limit\n",
      "/home/jupyter-145230403/.conda/envs/conda_env_2/lib/python3.9/site-packages/torch/nn/parallel/_functions.py:68: UserWarning: Was asked to gather along dimension 0, but all input tensors were scalars; will instead unsqueeze and return a vector.\n",
      "  warnings.warn('Was asked to gather along dimension 0, but all '\n",
      "The following columns in the evaluation set don't have a corresponding argument in `BertForSequenceClassification.forward` and have been ignored: tweet, index. If tweet, index are not expected by `BertForSequenceClassification.forward`,  you can safely ignore this message.\n",
      "***** Running Evaluation *****\n",
      "  Num examples = 1062\n",
      "  Batch size = 32\n"
     ]
    },
    {
     "name": "stdout",
     "output_type": "stream",
     "text": [
      "Classification Report:\n",
      "              precision    recall  f1-score   support\n",
      "\n",
      "       Anger     0.7660    0.8182    0.7912       176\n",
      "        Fear     0.8333    0.8844    0.8581       147\n",
      "         Joy     0.7714    0.7627    0.7670       177\n",
      "        Love     0.8000    0.8348    0.8170       115\n",
      "     Neutral     0.7626    0.7114    0.7361       298\n",
      "         Sad     0.7862    0.7651    0.7755       149\n",
      "\n",
      "    accuracy                         0.7825      1062\n",
      "   macro avg     0.7866    0.7961    0.7908      1062\n",
      "weighted avg     0.7818    0.7825    0.7816      1062\n",
      "\n"
     ]
    },
    {
     "name": "stderr",
     "output_type": "stream",
     "text": [
      "Saving model checkpoint to emotcls-indobertweet-base/checkpoint-160\n",
      "Configuration saved in emotcls-indobertweet-base/checkpoint-160/config.json\n",
      "Model weights saved in emotcls-indobertweet-base/checkpoint-160/pytorch_model.bin\n",
      "tokenizer config file saved in emotcls-indobertweet-base/checkpoint-160/tokenizer_config.json\n",
      "Special tokens file saved in emotcls-indobertweet-base/checkpoint-160/special_tokens_map.json\n",
      "Deleting older checkpoint [emotcls-indobertweet-base/checkpoint-140] due to args.save_total_limit\n",
      "\n",
      "\n",
      "Training completed. Do not forget to share your model on huggingface.co/models =)\n",
      "\n",
      "\n",
      "Loading best model from emotcls-indobertweet-base/checkpoint-40 (score: 0.6176153421401978).\n",
      "Deleting older checkpoint [emotcls-indobertweet-base/checkpoint-160] due to args.save_total_limit\n",
      "Saving model checkpoint to emotcls-indobertweet-base\n",
      "Configuration saved in emotcls-indobertweet-base/config.json\n",
      "Model weights saved in emotcls-indobertweet-base/pytorch_model.bin\n",
      "tokenizer config file saved in emotcls-indobertweet-base/tokenizer_config.json\n",
      "Special tokens file saved in emotcls-indobertweet-base/special_tokens_map.json\n",
      "The following columns in the evaluation set don't have a corresponding argument in `BertForSequenceClassification.forward` and have been ignored: tweet, index. If tweet, index are not expected by `BertForSequenceClassification.forward`,  you can safely ignore this message.\n",
      "***** Running Evaluation *****\n",
      "  Num examples = 1062\n",
      "  Batch size = 32\n",
      "/home/jupyter-145230403/.conda/envs/conda_env_2/lib/python3.9/site-packages/torch/nn/parallel/_functions.py:68: UserWarning: Was asked to gather along dimension 0, but all input tensors were scalars; will instead unsqueeze and return a vector.\n",
      "  warnings.warn('Was asked to gather along dimension 0, but all '\n"
     ]
    },
    {
     "data": {
      "text/html": [],
      "text/plain": [
       "<IPython.core.display.HTML object>"
      ]
     },
     "metadata": {},
     "output_type": "display_data"
    },
    {
     "name": "stderr",
     "output_type": "stream",
     "text": [
      "The following columns in the test set don't have a corresponding argument in `BertForSequenceClassification.forward` and have been ignored: tweet, index. If tweet, index are not expected by `BertForSequenceClassification.forward`,  you can safely ignore this message.\n",
      "***** Running Prediction *****\n",
      "  Num examples = 1062\n",
      "  Batch size = 32\n"
     ]
    },
    {
     "name": "stdout",
     "output_type": "stream",
     "text": [
      "Classification Report:\n",
      "              precision    recall  f1-score   support\n",
      "\n",
      "       Anger     0.8042    0.8444    0.8238       180\n",
      "        Fear     0.8151    0.8881    0.8500       134\n",
      "         Joy     0.9096    0.7740    0.8364       208\n",
      "        Love     0.6947    0.9010    0.7845       101\n",
      "     Neutral     0.7509    0.7251    0.7378       291\n",
      "         Sad     0.7681    0.7162    0.7413       148\n",
      "\n",
      "    accuracy                         0.7910      1062\n",
      "   macro avg     0.7904    0.8081    0.7956      1062\n",
      "weighted avg     0.7962    0.7910    0.7908      1062\n",
      "\n",
      "{'eval_loss': 0.5712935328483582, 'eval_accuracy': 0.7909604519774012, 'eval_precision': 0.7904279879085677, 'eval_recall': 0.8081391388924134, 'eval_f1': 0.7956192687479483, 'eval_runtime': 8.9302, 'eval_samples_per_second': 118.922, 'eval_steps_per_second': 3.807, 'epoch': 8.0}\n"
     ]
    },
    {
     "name": "stderr",
     "output_type": "stream",
     "text": [
      "/home/jupyter-145230403/.conda/envs/conda_env_2/lib/python3.9/site-packages/torch/nn/parallel/_functions.py:68: UserWarning: Was asked to gather along dimension 0, but all input tensors were scalars; will instead unsqueeze and return a vector.\n",
      "  warnings.warn('Was asked to gather along dimension 0, but all '\n"
     ]
    },
    {
     "name": "stdout",
     "output_type": "stream",
     "text": [
      "Classification Report:\n",
      "              precision    recall  f1-score   support\n",
      "\n",
      "       Anger     0.8042    0.8444    0.8238       180\n",
      "        Fear     0.8151    0.8881    0.8500       134\n",
      "         Joy     0.9096    0.7740    0.8364       208\n",
      "        Love     0.6947    0.9010    0.7845       101\n",
      "     Neutral     0.7509    0.7251    0.7378       291\n",
      "         Sad     0.7681    0.7162    0.7413       148\n",
      "\n",
      "    accuracy                         0.7910      1062\n",
      "   macro avg     0.7904    0.8081    0.7956      1062\n",
      "weighted avg     0.7962    0.7910    0.7908      1062\n",
      "\n"
     ]
    },
    {
     "data": {
      "image/png": "[encoded data removed]",
      "text/plain": [
       "<Figure size 576x432 with 2 Axes>"
      ]
     },
     "metadata": {
      "needs_background": "light"
     },
     "output_type": "display_data"
    },
    {
     "name": "stdout",
     "output_type": "stream",
     "text": [
      "Training finished!\n"
     ]
    },
    {
     "data": {
      "image/png": "[encoded data removed]",
      "text/plain": [
       "<Figure size 432x288 with 1 Axes>"
      ]
     },
     "metadata": {},
     "output_type": "display_data"
    },
    {
     "name": "stdout",
     "output_type": "stream",
     "text": [
      "Total time: 5.338036366303762 minutes\n"
     ]
    }
   ],
   "source": [
    "#1 IndoBERTweet\n",
    "\n",
    "main(\n",
    "    model_name = 'indolem/indobertweet-base-uncased',\n",
    "    output_dir = 'emotcls-indobertweet-base',\n",
    "    best_params = 'best_params/indobertweet.json'\n",
    ")"
   ]
  },
  {
   "cell_type": "code",
   "execution_count": 13,
   "id": "83a586e1",
   "metadata": {},
   "outputs": [
    {
     "name": "stdout",
     "output_type": "stream",
     "text": [
      "{'num_train_epochs': 8, 'learning_rate': 3e-05, 'per_device_train_batch_size': 8, 'per_device_eval_batch_size': 16, 'weight_decay': 0.0538653814961811}\n"
     ]
    },
    {
     "name": "stderr",
     "output_type": "stream",
     "text": [
      "loading configuration file config.json from cache at /home/jupyter-145230403/.cache/huggingface/hub/models--FacebookAI--xlm-roberta-large/snapshots/c23d21b0620b635a76227c604d44e43a9f0ee389/config.json\n",
      "Model config XLMRobertaConfig {\n",
      "  \"_name_or_path\": \"FacebookAI/xlm-roberta-large\",\n",
      "  \"architectures\": [\n",
      "    \"XLMRobertaForMaskedLM\"\n",
      "  ],\n",
      "  \"attention_probs_dropout_prob\": 0.1,\n",
      "  \"bos_token_id\": 0,\n",
      "  \"classifier_dropout\": null,\n",
      "  \"eos_token_id\": 2,\n",
      "  \"hidden_act\": \"gelu\",\n",
      "  \"hidden_dropout_prob\": 0.1,\n",
      "  \"hidden_size\": 1024,\n",
      "  \"id2label\": {\n",
      "    \"0\": \"Anger\",\n",
      "    \"1\": \"Fear\",\n",
      "    \"2\": \"Joy\",\n",
      "    \"3\": \"Love\",\n",
      "    \"4\": \"Neutral\",\n",
      "    \"5\": \"Sad\"\n",
      "  },\n",
      "  \"initializer_range\": 0.02,\n",
      "  \"intermediate_size\": 4096,\n",
      "  \"label2id\": {\n",
      "    \"Anger\": 0,\n",
      "    \"Fear\": 1,\n",
      "    \"Joy\": 2,\n",
      "    \"Love\": 3,\n",
      "    \"Neutral\": 4,\n",
      "    \"Sad\": 5\n",
      "  },\n",
      "  \"layer_norm_eps\": 1e-05,\n",
      "  \"max_position_embeddings\": 514,\n",
      "  \"model_type\": \"xlm-roberta\",\n",
      "  \"num_attention_heads\": 16,\n",
      "  \"num_hidden_layers\": 24,\n",
      "  \"output_past\": true,\n",
      "  \"pad_token_id\": 1,\n",
      "  \"position_embedding_type\": \"absolute\",\n",
      "  \"transformers_version\": \"4.26.1\",\n",
      "  \"type_vocab_size\": 1,\n",
      "  \"use_cache\": true,\n",
      "  \"vocab_size\": 250002\n",
      "}\n",
      "\n",
      "loading weights file model.safetensors from cache at /home/jupyter-145230403/.cache/huggingface/hub/models--FacebookAI--xlm-roberta-large/snapshots/c23d21b0620b635a76227c604d44e43a9f0ee389/model.safetensors\n",
      "Some weights of the model checkpoint at FacebookAI/xlm-roberta-large were not used when initializing XLMRobertaForSequenceClassification: ['roberta.pooler.dense.bias', 'lm_head.dense.weight', 'roberta.pooler.dense.weight', 'lm_head.dense.bias', 'lm_head.layer_norm.bias', 'lm_head.layer_norm.weight', 'lm_head.bias']\n",
      "- This IS expected if you are initializing XLMRobertaForSequenceClassification from the checkpoint of a model trained on another task or with another architecture (e.g. initializing a BertForSequenceClassification model from a BertForPreTraining model).\n",
      "- This IS NOT expected if you are initializing XLMRobertaForSequenceClassification from the checkpoint of a model that you expect to be exactly identical (initializing a BertForSequenceClassification model from a BertForSequenceClassification model).\n",
      "Some weights of XLMRobertaForSequenceClassification were not initialized from the model checkpoint at FacebookAI/xlm-roberta-large and are newly initialized: ['classifier.dense.weight', 'classifier.out_proj.bias', 'classifier.dense.bias', 'classifier.out_proj.weight']\n",
      "You should probably TRAIN this model on a down-stream task to be able to use it for predictions and inference.\n",
      "loading configuration file config.json from cache at /home/jupyter-145230403/.cache/huggingface/hub/models--FacebookAI--xlm-roberta-large/snapshots/c23d21b0620b635a76227c604d44e43a9f0ee389/config.json\n",
      "Model config XLMRobertaConfig {\n",
      "  \"_name_or_path\": \"FacebookAI/xlm-roberta-large\",\n",
      "  \"architectures\": [\n",
      "    \"XLMRobertaForMaskedLM\"\n",
      "  ],\n",
      "  \"attention_probs_dropout_prob\": 0.1,\n",
      "  \"bos_token_id\": 0,\n",
      "  \"classifier_dropout\": null,\n",
      "  \"eos_token_id\": 2,\n",
      "  \"hidden_act\": \"gelu\",\n",
      "  \"hidden_dropout_prob\": 0.1,\n",
      "  \"hidden_size\": 1024,\n",
      "  \"initializer_range\": 0.02,\n",
      "  \"intermediate_size\": 4096,\n",
      "  \"layer_norm_eps\": 1e-05,\n",
      "  \"max_position_embeddings\": 514,\n",
      "  \"model_type\": \"xlm-roberta\",\n",
      "  \"num_attention_heads\": 16,\n",
      "  \"num_hidden_layers\": 24,\n",
      "  \"output_past\": true,\n",
      "  \"pad_token_id\": 1,\n",
      "  \"position_embedding_type\": \"absolute\",\n",
      "  \"transformers_version\": \"4.26.1\",\n",
      "  \"type_vocab_size\": 1,\n",
      "  \"use_cache\": true,\n",
      "  \"vocab_size\": 250002\n",
      "}\n",
      "\n",
      "loading file sentencepiece.bpe.model from cache at /home/jupyter-145230403/.cache/huggingface/hub/models--FacebookAI--xlm-roberta-large/snapshots/c23d21b0620b635a76227c604d44e43a9f0ee389/sentencepiece.bpe.model\n",
      "loading file tokenizer.json from cache at /home/jupyter-145230403/.cache/huggingface/hub/models--FacebookAI--xlm-roberta-large/snapshots/c23d21b0620b635a76227c604d44e43a9f0ee389/tokenizer.json\n",
      "loading file added_tokens.json from cache at None\n",
      "loading file special_tokens_map.json from cache at None\n",
      "loading file tokenizer_config.json from cache at /home/jupyter-145230403/.cache/huggingface/hub/models--FacebookAI--xlm-roberta-large/snapshots/c23d21b0620b635a76227c604d44e43a9f0ee389/tokenizer_config.json\n",
      "loading configuration file config.json from cache at /home/jupyter-145230403/.cache/huggingface/hub/models--FacebookAI--xlm-roberta-large/snapshots/c23d21b0620b635a76227c604d44e43a9f0ee389/config.json\n",
      "Model config XLMRobertaConfig {\n",
      "  \"_name_or_path\": \"FacebookAI/xlm-roberta-large\",\n",
      "  \"architectures\": [\n",
      "    \"XLMRobertaForMaskedLM\"\n",
      "  ],\n",
      "  \"attention_probs_dropout_prob\": 0.1,\n",
      "  \"bos_token_id\": 0,\n",
      "  \"classifier_dropout\": null,\n",
      "  \"eos_token_id\": 2,\n",
      "  \"hidden_act\": \"gelu\",\n",
      "  \"hidden_dropout_prob\": 0.1,\n",
      "  \"hidden_size\": 1024,\n",
      "  \"initializer_range\": 0.02,\n",
      "  \"intermediate_size\": 4096,\n",
      "  \"layer_norm_eps\": 1e-05,\n",
      "  \"max_position_embeddings\": 514,\n",
      "  \"model_type\": \"xlm-roberta\",\n",
      "  \"num_attention_heads\": 16,\n",
      "  \"num_hidden_layers\": 24,\n",
      "  \"output_past\": true,\n",
      "  \"pad_token_id\": 1,\n",
      "  \"position_embedding_type\": \"absolute\",\n",
      "  \"transformers_version\": \"4.26.1\",\n",
      "  \"type_vocab_size\": 1,\n",
      "  \"use_cache\": true,\n",
      "  \"vocab_size\": 250002\n",
      "}\n",
      "\n"
     ]
    },
    {
     "data": {
      "application/vnd.jupyter.widget-view+json": {
       "model_id": "6eba9ab6724048489cae4ea47b6d706f",
       "version_major": 2,
       "version_minor": 0
      },
      "text/plain": [
       "  0%|          | 0/5 [00:00<?, ?ba/s]"
      ]
     },
     "metadata": {},
     "output_type": "display_data"
    },
    {
     "data": {
      "application/vnd.jupyter.widget-view+json": {
       "model_id": "c06667195b0e4f11a47bc14cb21200aa",
       "version_major": 2,
       "version_minor": 0
      },
      "text/plain": [
       "  0%|          | 0/2 [00:00<?, ?ba/s]"
      ]
     },
     "metadata": {},
     "output_type": "display_data"
    },
    {
     "data": {
      "application/vnd.jupyter.widget-view+json": {
       "model_id": "2f27b1f23be1447ab64ab947d6acc970",
       "version_major": 2,
       "version_minor": 0
      },
      "text/plain": [
       "  0%|          | 0/2 [00:00<?, ?ba/s]"
      ]
     },
     "metadata": {},
     "output_type": "display_data"
    },
    {
     "name": "stderr",
     "output_type": "stream",
     "text": [
      "PyTorch: setting up devices\n",
      "The default value for the training argument `--report_to` will change in v5 (from all installed integrations to none). In v5, you will need to use `--report_to all` to get the same behavior as now. You should start updating your code and make this info disappear :-).\n",
      "The following columns in the training set don't have a corresponding argument in `XLMRobertaForSequenceClassification.forward` and have been ignored: tweet, index. If tweet, index are not expected by `XLMRobertaForSequenceClassification.forward`,  you can safely ignore this message.\n",
      "/home/jupyter-145230403/.conda/envs/conda_env_2/lib/python3.9/site-packages/transformers/optimization.py:306: FutureWarning: This implementation of AdamW is deprecated and will be removed in a future version. Use the PyTorch implementation torch.optim.AdamW instead, or set `no_deprecation_warning=True` to disable this warning\n",
      "  warnings.warn(\n",
      "***** Running training *****\n",
      "  Num examples = 4956\n",
      "  Num Epochs = 8\n",
      "  Instantaneous batch size per device = 8\n",
      "  Total train batch size (w. parallel, distributed & accumulation) = 32\n",
      "  Gradient Accumulation steps = 1\n",
      "  Total optimization steps = 1240\n",
      "  Number of trainable parameters = 559896582\n",
      "Automatic Weights & Biases logging enabled, to disable set os.environ[\"WANDB_DISABLED\"] = \"true\"\n",
      "You're using a XLMRobertaTokenizerFast tokenizer. Please note that with a fast tokenizer, using the `__call__` method is faster than using a method to encode the text followed by a call to the `pad` method to get a padded encoding.\n"
     ]
    },
    {
     "data": {
      "text/html": [
       "\n",
       "    <div>\n",
       "      \n",
       "      <progress value='1240' max='1240' style='width:300px; height:20px; vertical-align: middle;'></progress>\n",
       "      [1240/1240 21:28, Epoch 8/8]\n",
       "    </div>\n",
       "    <table border=\"1\" class=\"dataframe\">\n",
       "  <thead>\n",
       " <tr style=\"text-align: left;\">\n",
       "      <th>Epoch</th>\n",
       "      <th>Training Loss</th>\n",
       "      <th>Validation Loss</th>\n",
       "      <th>Accuracy</th>\n",
       "      <th>Precision</th>\n",
       "      <th>Recall</th>\n",
       "      <th>F1</th>\n",
       "    </tr>\n",
       "  </thead>\n",
       "  <tbody>\n",
       "    <tr>\n",
       "      <td>1</td>\n",
       "      <td>1.693500</td>\n",
       "      <td>1.458202</td>\n",
       "      <td>0.463277</td>\n",
       "      <td>0.538416</td>\n",
       "      <td>0.484458</td>\n",
       "      <td>0.429113</td>\n",
       "    </tr>\n",
       "    <tr>\n",
       "      <td>2</td>\n",
       "      <td>1.020200</td>\n",
       "      <td>0.775992</td>\n",
       "      <td>0.728814</td>\n",
       "      <td>0.746253</td>\n",
       "      <td>0.742878</td>\n",
       "      <td>0.738007</td>\n",
       "    </tr>\n",
       "    <tr>\n",
       "      <td>3</td>\n",
       "      <td>0.665200</td>\n",
       "      <td>0.717062</td>\n",
       "      <td>0.748588</td>\n",
       "      <td>0.755696</td>\n",
       "      <td>0.776843</td>\n",
       "      <td>0.757495</td>\n",
       "    </tr>\n",
       "    <tr>\n",
       "      <td>4</td>\n",
       "      <td>0.495100</td>\n",
       "      <td>0.655568</td>\n",
       "      <td>0.778719</td>\n",
       "      <td>0.785372</td>\n",
       "      <td>0.792292</td>\n",
       "      <td>0.785641</td>\n",
       "    </tr>\n",
       "    <tr>\n",
       "      <td>5</td>\n",
       "      <td>0.382400</td>\n",
       "      <td>0.699042</td>\n",
       "      <td>0.774011</td>\n",
       "      <td>0.779839</td>\n",
       "      <td>0.783729</td>\n",
       "      <td>0.780065</td>\n",
       "    </tr>\n",
       "    <tr>\n",
       "      <td>6</td>\n",
       "      <td>0.287700</td>\n",
       "      <td>0.760836</td>\n",
       "      <td>0.774953</td>\n",
       "      <td>0.791037</td>\n",
       "      <td>0.776158</td>\n",
       "      <td>0.781329</td>\n",
       "    </tr>\n",
       "    <tr>\n",
       "      <td>7</td>\n",
       "      <td>0.177400</td>\n",
       "      <td>0.851166</td>\n",
       "      <td>0.781544</td>\n",
       "      <td>0.780114</td>\n",
       "      <td>0.795755</td>\n",
       "      <td>0.785907</td>\n",
       "    </tr>\n",
       "    <tr>\n",
       "      <td>8</td>\n",
       "      <td>0.132200</td>\n",
       "      <td>0.866531</td>\n",
       "      <td>0.788136</td>\n",
       "      <td>0.788134</td>\n",
       "      <td>0.798554</td>\n",
       "      <td>0.792683</td>\n",
       "    </tr>\n",
       "  </tbody>\n",
       "</table><p>"
      ],
      "text/plain": [
       "<IPython.core.display.HTML object>"
      ]
     },
     "metadata": {},
     "output_type": "display_data"
    },
    {
     "name": "stderr",
     "output_type": "stream",
     "text": [
      "The following columns in the evaluation set don't have a corresponding argument in `XLMRobertaForSequenceClassification.forward` and have been ignored: tweet, index. If tweet, index are not expected by `XLMRobertaForSequenceClassification.forward`,  you can safely ignore this message.\n",
      "***** Running Evaluation *****\n",
      "  Num examples = 1062\n",
      "  Batch size = 64\n"
     ]
    },
    {
     "name": "stdout",
     "output_type": "stream",
     "text": [
      "Classification Report:\n",
      "              precision    recall  f1-score   support\n",
      "\n",
      "       Anger     0.4118    0.4773    0.4421       176\n",
      "        Fear     0.9167    0.0748    0.1384       147\n",
      "         Joy     0.4545    0.5932    0.5147       177\n",
      "        Love     0.4055    0.8957    0.5583       115\n",
      "     Neutral     0.6522    0.4027    0.4979       298\n",
      "         Sad     0.3898    0.4631    0.4233       149\n",
      "\n",
      "    accuracy                         0.4633      1062\n",
      "   macro avg     0.5384    0.4845    0.4291      1062\n",
      "weighted avg     0.5525    0.4633    0.4378      1062\n",
      "\n"
     ]
    },
    {
     "name": "stderr",
     "output_type": "stream",
     "text": [
      "Saving model checkpoint to emotcls-xlm-r-large/checkpoint-155\n",
      "Configuration saved in emotcls-xlm-r-large/checkpoint-155/config.json\n",
      "Model weights saved in emotcls-xlm-r-large/checkpoint-155/pytorch_model.bin\n",
      "tokenizer config file saved in emotcls-xlm-r-large/checkpoint-155/tokenizer_config.json\n",
      "Special tokens file saved in emotcls-xlm-r-large/checkpoint-155/special_tokens_map.json\n",
      "Deleting older checkpoint [emotcls-xlm-r-large/checkpoint-620] due to args.save_total_limit\n",
      "/home/jupyter-145230403/.conda/envs/conda_env_2/lib/python3.9/site-packages/torch/nn/parallel/_functions.py:68: UserWarning: Was asked to gather along dimension 0, but all input tensors were scalars; will instead unsqueeze and return a vector.\n",
      "  warnings.warn('Was asked to gather along dimension 0, but all '\n",
      "The following columns in the evaluation set don't have a corresponding argument in `XLMRobertaForSequenceClassification.forward` and have been ignored: tweet, index. If tweet, index are not expected by `XLMRobertaForSequenceClassification.forward`,  you can safely ignore this message.\n",
      "***** Running Evaluation *****\n",
      "  Num examples = 1062\n",
      "  Batch size = 64\n"
     ]
    },
    {
     "name": "stdout",
     "output_type": "stream",
     "text": [
      "Classification Report:\n",
      "              precision    recall  f1-score   support\n",
      "\n",
      "       Anger     0.7818    0.7330    0.7566       176\n",
      "        Fear     0.8400    0.7143    0.7721       147\n",
      "         Joy     0.7885    0.6949    0.7387       177\n",
      "        Love     0.6023    0.8957    0.7203       115\n",
      "     Neutral     0.6634    0.6879    0.6755       298\n",
      "         Sad     0.8015    0.7315    0.7649       149\n",
      "\n",
      "    accuracy                         0.7288      1062\n",
      "   macro avg     0.7463    0.7429    0.7380      1062\n",
      "weighted avg     0.7411    0.7288    0.7302      1062\n",
      "\n"
     ]
    },
    {
     "name": "stderr",
     "output_type": "stream",
     "text": [
      "Saving model checkpoint to emotcls-xlm-r-large/checkpoint-310\n",
      "Configuration saved in emotcls-xlm-r-large/checkpoint-310/config.json\n",
      "Model weights saved in emotcls-xlm-r-large/checkpoint-310/pytorch_model.bin\n",
      "tokenizer config file saved in emotcls-xlm-r-large/checkpoint-310/tokenizer_config.json\n",
      "Special tokens file saved in emotcls-xlm-r-large/checkpoint-310/special_tokens_map.json\n",
      "Deleting older checkpoint [emotcls-xlm-r-large/checkpoint-155] due to args.save_total_limit\n",
      "/home/jupyter-145230403/.conda/envs/conda_env_2/lib/python3.9/site-packages/torch/nn/parallel/_functions.py:68: UserWarning: Was asked to gather along dimension 0, but all input tensors were scalars; will instead unsqueeze and return a vector.\n",
      "  warnings.warn('Was asked to gather along dimension 0, but all '\n",
      "The following columns in the evaluation set don't have a corresponding argument in `XLMRobertaForSequenceClassification.forward` and have been ignored: tweet, index. If tweet, index are not expected by `XLMRobertaForSequenceClassification.forward`,  you can safely ignore this message.\n",
      "***** Running Evaluation *****\n",
      "  Num examples = 1062\n",
      "  Batch size = 64\n"
     ]
    },
    {
     "name": "stdout",
     "output_type": "stream",
     "text": [
      "Classification Report:\n",
      "              precision    recall  f1-score   support\n",
      "\n",
      "       Anger     0.6978    0.8920    0.7830       176\n",
      "        Fear     0.8692    0.7687    0.8159       147\n",
      "         Joy     0.7679    0.7288    0.7478       177\n",
      "        Love     0.6205    0.8957    0.7331       115\n",
      "     Neutral     0.7719    0.5906    0.6692       298\n",
      "         Sad     0.8069    0.7852    0.7959       149\n",
      "\n",
      "    accuracy                         0.7486      1062\n",
      "   macro avg     0.7557    0.7768    0.7575      1062\n",
      "weighted avg     0.7609    0.7486    0.7462      1062\n",
      "\n"
     ]
    },
    {
     "name": "stderr",
     "output_type": "stream",
     "text": [
      "Saving model checkpoint to emotcls-xlm-r-large/checkpoint-465\n",
      "Configuration saved in emotcls-xlm-r-large/checkpoint-465/config.json\n",
      "Model weights saved in emotcls-xlm-r-large/checkpoint-465/pytorch_model.bin\n",
      "tokenizer config file saved in emotcls-xlm-r-large/checkpoint-465/tokenizer_config.json\n",
      "Special tokens file saved in emotcls-xlm-r-large/checkpoint-465/special_tokens_map.json\n",
      "Deleting older checkpoint [emotcls-xlm-r-large/checkpoint-310] due to args.save_total_limit\n",
      "/home/jupyter-145230403/.conda/envs/conda_env_2/lib/python3.9/site-packages/torch/nn/parallel/_functions.py:68: UserWarning: Was asked to gather along dimension 0, but all input tensors were scalars; will instead unsqueeze and return a vector.\n",
      "  warnings.warn('Was asked to gather along dimension 0, but all '\n",
      "The following columns in the evaluation set don't have a corresponding argument in `XLMRobertaForSequenceClassification.forward` and have been ignored: tweet, index. If tweet, index are not expected by `XLMRobertaForSequenceClassification.forward`,  you can safely ignore this message.\n",
      "***** Running Evaluation *****\n",
      "  Num examples = 1062\n",
      "  Batch size = 64\n"
     ]
    },
    {
     "name": "stdout",
     "output_type": "stream",
     "text": [
      "Classification Report:\n",
      "              precision    recall  f1-score   support\n",
      "\n",
      "       Anger     0.7576    0.8523    0.8021       176\n",
      "        Fear     0.8806    0.8027    0.8399       147\n",
      "         Joy     0.7474    0.8023    0.7738       177\n",
      "        Love     0.6879    0.8435    0.7578       115\n",
      "     Neutral     0.7695    0.6946    0.7302       298\n",
      "         Sad     0.8692    0.7584    0.8100       149\n",
      "\n",
      "    accuracy                         0.7787      1062\n",
      "   macro avg     0.7854    0.7923    0.7856      1062\n",
      "weighted avg     0.7844    0.7787    0.7788      1062\n",
      "\n"
     ]
    },
    {
     "name": "stderr",
     "output_type": "stream",
     "text": [
      "Saving model checkpoint to emotcls-xlm-r-large/checkpoint-620\n",
      "Configuration saved in emotcls-xlm-r-large/checkpoint-620/config.json\n",
      "Model weights saved in emotcls-xlm-r-large/checkpoint-620/pytorch_model.bin\n",
      "tokenizer config file saved in emotcls-xlm-r-large/checkpoint-620/tokenizer_config.json\n",
      "Special tokens file saved in emotcls-xlm-r-large/checkpoint-620/special_tokens_map.json\n",
      "Deleting older checkpoint [emotcls-xlm-r-large/checkpoint-465] due to args.save_total_limit\n",
      "/home/jupyter-145230403/.conda/envs/conda_env_2/lib/python3.9/site-packages/torch/nn/parallel/_functions.py:68: UserWarning: Was asked to gather along dimension 0, but all input tensors were scalars; will instead unsqueeze and return a vector.\n",
      "  warnings.warn('Was asked to gather along dimension 0, but all '\n",
      "The following columns in the evaluation set don't have a corresponding argument in `XLMRobertaForSequenceClassification.forward` and have been ignored: tweet, index. If tweet, index are not expected by `XLMRobertaForSequenceClassification.forward`,  you can safely ignore this message.\n",
      "***** Running Evaluation *****\n",
      "  Num examples = 1062\n",
      "  Batch size = 64\n"
     ]
    },
    {
     "name": "stdout",
     "output_type": "stream",
     "text": [
      "Classification Report:\n",
      "              precision    recall  f1-score   support\n",
      "\n",
      "       Anger     0.8046    0.7955    0.8000       176\n",
      "        Fear     0.9015    0.8095    0.8530       147\n",
      "         Joy     0.7059    0.8136    0.7559       177\n",
      "        Love     0.7231    0.8174    0.7673       115\n",
      "     Neutral     0.7662    0.7148    0.7396       298\n",
      "         Sad     0.7778    0.7517    0.7645       149\n",
      "\n",
      "    accuracy                         0.7740      1062\n",
      "   macro avg     0.7798    0.7837    0.7801      1062\n",
      "weighted avg     0.7782    0.7740    0.7745      1062\n",
      "\n"
     ]
    },
    {
     "name": "stderr",
     "output_type": "stream",
     "text": [
      "Saving model checkpoint to emotcls-xlm-r-large/checkpoint-775\n",
      "Configuration saved in emotcls-xlm-r-large/checkpoint-775/config.json\n",
      "Model weights saved in emotcls-xlm-r-large/checkpoint-775/pytorch_model.bin\n",
      "tokenizer config file saved in emotcls-xlm-r-large/checkpoint-775/tokenizer_config.json\n",
      "Special tokens file saved in emotcls-xlm-r-large/checkpoint-775/special_tokens_map.json\n",
      "/home/jupyter-145230403/.conda/envs/conda_env_2/lib/python3.9/site-packages/torch/nn/parallel/_functions.py:68: UserWarning: Was asked to gather along dimension 0, but all input tensors were scalars; will instead unsqueeze and return a vector.\n",
      "  warnings.warn('Was asked to gather along dimension 0, but all '\n",
      "The following columns in the evaluation set don't have a corresponding argument in `XLMRobertaForSequenceClassification.forward` and have been ignored: tweet, index. If tweet, index are not expected by `XLMRobertaForSequenceClassification.forward`,  you can safely ignore this message.\n",
      "***** Running Evaluation *****\n",
      "  Num examples = 1062\n",
      "  Batch size = 64\n"
     ]
    },
    {
     "name": "stdout",
     "output_type": "stream",
     "text": [
      "Classification Report:\n",
      "              precision    recall  f1-score   support\n",
      "\n",
      "       Anger     0.8187    0.7443    0.7798       176\n",
      "        Fear     0.8824    0.8163    0.8481       147\n",
      "         Joy     0.7609    0.7910    0.7756       177\n",
      "        Love     0.7209    0.8087    0.7623       115\n",
      "     Neutral     0.7073    0.7785    0.7412       298\n",
      "         Sad     0.8560    0.7181    0.7810       149\n",
      "\n",
      "    accuracy                         0.7750      1062\n",
      "   macro avg     0.7910    0.7762    0.7813      1062\n",
      "weighted avg     0.7813    0.7750    0.7760      1062\n",
      "\n"
     ]
    },
    {
     "name": "stderr",
     "output_type": "stream",
     "text": [
      "Saving model checkpoint to emotcls-xlm-r-large/checkpoint-930\n",
      "Configuration saved in emotcls-xlm-r-large/checkpoint-930/config.json\n",
      "Model weights saved in emotcls-xlm-r-large/checkpoint-930/pytorch_model.bin\n",
      "tokenizer config file saved in emotcls-xlm-r-large/checkpoint-930/tokenizer_config.json\n",
      "Special tokens file saved in emotcls-xlm-r-large/checkpoint-930/special_tokens_map.json\n",
      "Deleting older checkpoint [emotcls-xlm-r-large/checkpoint-775] due to args.save_total_limit\n",
      "/home/jupyter-145230403/.conda/envs/conda_env_2/lib/python3.9/site-packages/torch/nn/parallel/_functions.py:68: UserWarning: Was asked to gather along dimension 0, but all input tensors were scalars; will instead unsqueeze and return a vector.\n",
      "  warnings.warn('Was asked to gather along dimension 0, but all '\n",
      "The following columns in the evaluation set don't have a corresponding argument in `XLMRobertaForSequenceClassification.forward` and have been ignored: tweet, index. If tweet, index are not expected by `XLMRobertaForSequenceClassification.forward`,  you can safely ignore this message.\n",
      "***** Running Evaluation *****\n",
      "  Num examples = 1062\n",
      "  Batch size = 64\n"
     ]
    },
    {
     "name": "stdout",
     "output_type": "stream",
     "text": [
      "Classification Report:\n",
      "              precision    recall  f1-score   support\n",
      "\n",
      "       Anger     0.7841    0.7841    0.7841       176\n",
      "        Fear     0.8681    0.8503    0.8591       147\n",
      "         Joy     0.7513    0.8192    0.7838       177\n",
      "        Love     0.7355    0.7739    0.7542       115\n",
      "     Neutral     0.8103    0.6879    0.7441       298\n",
      "         Sad     0.7314    0.8591    0.7901       149\n",
      "\n",
      "    accuracy                         0.7815      1062\n",
      "   macro avg     0.7801    0.7958    0.7859      1062\n",
      "weighted avg     0.7849    0.7815    0.7808      1062\n",
      "\n"
     ]
    },
    {
     "name": "stderr",
     "output_type": "stream",
     "text": [
      "Saving model checkpoint to emotcls-xlm-r-large/checkpoint-1085\n",
      "Configuration saved in emotcls-xlm-r-large/checkpoint-1085/config.json\n",
      "Model weights saved in emotcls-xlm-r-large/checkpoint-1085/pytorch_model.bin\n",
      "tokenizer config file saved in emotcls-xlm-r-large/checkpoint-1085/tokenizer_config.json\n",
      "Special tokens file saved in emotcls-xlm-r-large/checkpoint-1085/special_tokens_map.json\n",
      "Deleting older checkpoint [emotcls-xlm-r-large/checkpoint-930] due to args.save_total_limit\n",
      "/home/jupyter-145230403/.conda/envs/conda_env_2/lib/python3.9/site-packages/torch/nn/parallel/_functions.py:68: UserWarning: Was asked to gather along dimension 0, but all input tensors were scalars; will instead unsqueeze and return a vector.\n",
      "  warnings.warn('Was asked to gather along dimension 0, but all '\n",
      "The following columns in the evaluation set don't have a corresponding argument in `XLMRobertaForSequenceClassification.forward` and have been ignored: tweet, index. If tweet, index are not expected by `XLMRobertaForSequenceClassification.forward`,  you can safely ignore this message.\n",
      "***** Running Evaluation *****\n",
      "  Num examples = 1062\n",
      "  Batch size = 64\n"
     ]
    },
    {
     "name": "stdout",
     "output_type": "stream",
     "text": [
      "Classification Report:\n",
      "              precision    recall  f1-score   support\n",
      "\n",
      "       Anger     0.7790    0.8011    0.7899       176\n",
      "        Fear     0.8431    0.8776    0.8600       147\n",
      "         Joy     0.7688    0.8079    0.7879       177\n",
      "        Love     0.7280    0.7913    0.7583       115\n",
      "     Neutral     0.7847    0.7215    0.7517       298\n",
      "         Sad     0.8252    0.7919    0.8082       149\n",
      "\n",
      "    accuracy                         0.7881      1062\n",
      "   macro avg     0.7881    0.7986    0.7927      1062\n",
      "weighted avg     0.7887    0.7881    0.7877      1062\n",
      "\n"
     ]
    },
    {
     "name": "stderr",
     "output_type": "stream",
     "text": [
      "Saving model checkpoint to emotcls-xlm-r-large/checkpoint-1240\n",
      "Configuration saved in emotcls-xlm-r-large/checkpoint-1240/config.json\n",
      "Model weights saved in emotcls-xlm-r-large/checkpoint-1240/pytorch_model.bin\n",
      "tokenizer config file saved in emotcls-xlm-r-large/checkpoint-1240/tokenizer_config.json\n",
      "Special tokens file saved in emotcls-xlm-r-large/checkpoint-1240/special_tokens_map.json\n",
      "Deleting older checkpoint [emotcls-xlm-r-large/checkpoint-1085] due to args.save_total_limit\n",
      "\n",
      "\n",
      "Training completed. Do not forget to share your model on huggingface.co/models =)\n",
      "\n",
      "\n",
      "Loading best model from emotcls-xlm-r-large/checkpoint-620 (score: 0.6555681824684143).\n",
      "Deleting older checkpoint [emotcls-xlm-r-large/checkpoint-1240] due to args.save_total_limit\n",
      "Saving model checkpoint to emotcls-xlm-r-large\n",
      "Configuration saved in emotcls-xlm-r-large/config.json\n",
      "Model weights saved in emotcls-xlm-r-large/pytorch_model.bin\n",
      "tokenizer config file saved in emotcls-xlm-r-large/tokenizer_config.json\n",
      "Special tokens file saved in emotcls-xlm-r-large/special_tokens_map.json\n",
      "The following columns in the evaluation set don't have a corresponding argument in `XLMRobertaForSequenceClassification.forward` and have been ignored: tweet, index. If tweet, index are not expected by `XLMRobertaForSequenceClassification.forward`,  you can safely ignore this message.\n",
      "***** Running Evaluation *****\n",
      "  Num examples = 1062\n",
      "  Batch size = 64\n",
      "/home/jupyter-145230403/.conda/envs/conda_env_2/lib/python3.9/site-packages/torch/nn/parallel/_functions.py:68: UserWarning: Was asked to gather along dimension 0, but all input tensors were scalars; will instead unsqueeze and return a vector.\n",
      "  warnings.warn('Was asked to gather along dimension 0, but all '\n"
     ]
    },
    {
     "data": {
      "text/html": [],
      "text/plain": [
       "<IPython.core.display.HTML object>"
      ]
     },
     "metadata": {},
     "output_type": "display_data"
    },
    {
     "name": "stderr",
     "output_type": "stream",
     "text": [
      "The following columns in the test set don't have a corresponding argument in `XLMRobertaForSequenceClassification.forward` and have been ignored: tweet, index. If tweet, index are not expected by `XLMRobertaForSequenceClassification.forward`,  you can safely ignore this message.\n",
      "***** Running Prediction *****\n",
      "  Num examples = 1062\n",
      "  Batch size = 64\n"
     ]
    },
    {
     "name": "stdout",
     "output_type": "stream",
     "text": [
      "Classification Report:\n",
      "              precision    recall  f1-score   support\n",
      "\n",
      "       Anger     0.7720    0.8278    0.7989       180\n",
      "        Fear     0.8485    0.8358    0.8421       134\n",
      "         Joy     0.8294    0.8413    0.8353       208\n",
      "        Love     0.7097    0.8713    0.7822       101\n",
      "     Neutral     0.7576    0.6873    0.7207       291\n",
      "         Sad     0.8188    0.7635    0.7902       148\n",
      "\n",
      "    accuracy                         0.7881      1062\n",
      "   macro avg     0.7893    0.8045    0.7949      1062\n",
      "weighted avg     0.7895    0.7881    0.7873      1062\n",
      "\n",
      "{'eval_loss': 0.6203622817993164, 'eval_accuracy': 0.788135593220339, 'eval_precision': 0.7893305361283525, 'eval_recall': 0.8045051154567336, 'eval_f1': 0.7949179676592838, 'eval_runtime': 9.3372, 'eval_samples_per_second': 113.739, 'eval_steps_per_second': 1.821, 'epoch': 8.0}\n"
     ]
    },
    {
     "name": "stderr",
     "output_type": "stream",
     "text": [
      "/home/jupyter-145230403/.conda/envs/conda_env_2/lib/python3.9/site-packages/torch/nn/parallel/_functions.py:68: UserWarning: Was asked to gather along dimension 0, but all input tensors were scalars; will instead unsqueeze and return a vector.\n",
      "  warnings.warn('Was asked to gather along dimension 0, but all '\n"
     ]
    },
    {
     "name": "stdout",
     "output_type": "stream",
     "text": [
      "Classification Report:\n",
      "              precision    recall  f1-score   support\n",
      "\n",
      "       Anger     0.7720    0.8278    0.7989       180\n",
      "        Fear     0.8485    0.8358    0.8421       134\n",
      "         Joy     0.8294    0.8413    0.8353       208\n",
      "        Love     0.7097    0.8713    0.7822       101\n",
      "     Neutral     0.7576    0.6873    0.7207       291\n",
      "         Sad     0.8188    0.7635    0.7902       148\n",
      "\n",
      "    accuracy                         0.7881      1062\n",
      "   macro avg     0.7893    0.8045    0.7949      1062\n",
      "weighted avg     0.7895    0.7881    0.7873      1062\n",
      "\n"
     ]
    },
    {
     "data": {
      "image/png": "[encoded data removed]",
      "text/plain": [
       "<Figure size 576x432 with 2 Axes>"
      ]
     },
     "metadata": {},
     "output_type": "display_data"
    },
    {
     "name": "stdout",
     "output_type": "stream",
     "text": [
      "Training finished!\n"
     ]
    },
    {
     "data": {
      "image/png": "[encoded data removed]",
      "text/plain": [
       "<Figure size 432x288 with 1 Axes>"
      ]
     },
     "metadata": {},
     "output_type": "display_data"
    },
    {
     "name": "stdout",
     "output_type": "stream",
     "text": [
      "Total time: 22.312350459893544 minutes\n"
     ]
    }
   ],
   "source": [
    "#2 FacebookAI/xlm-roberta-large\n",
    "\n",
    "main(\n",
    "    model_name = 'FacebookAI/xlm-roberta-large',\n",
    "    output_dir = 'emotcls-xlm-r-large',\n",
    "    best_params = 'best_params/xlm-r-large.json'\n",
    ")"
   ]
  },
  {
   "cell_type": "code",
   "execution_count": 14,
   "id": "a45d93b4",
   "metadata": {},
   "outputs": [
    {
     "name": "stdout",
     "output_type": "stream",
     "text": [
      "{'num_train_epochs': 6, 'learning_rate': 5e-05, 'per_device_train_batch_size': 16, 'per_device_eval_batch_size': 8, 'weight_decay': 0.03202288065105585}\n"
     ]
    },
    {
     "name": "stderr",
     "output_type": "stream",
     "text": [
      "loading configuration file config.json from cache at /home/jupyter-145230403/.cache/huggingface/hub/models--FacebookAI--xlm-roberta-base/snapshots/e73636d4f797dec63c3081bb6ed5c7b0bb3f2089/config.json\n",
      "Model config XLMRobertaConfig {\n",
      "  \"_name_or_path\": \"FacebookAI/xlm-roberta-base\",\n",
      "  \"architectures\": [\n",
      "    \"XLMRobertaForMaskedLM\"\n",
      "  ],\n",
      "  \"attention_probs_dropout_prob\": 0.1,\n",
      "  \"bos_token_id\": 0,\n",
      "  \"classifier_dropout\": null,\n",
      "  \"eos_token_id\": 2,\n",
      "  \"hidden_act\": \"gelu\",\n",
      "  \"hidden_dropout_prob\": 0.1,\n",
      "  \"hidden_size\": 768,\n",
      "  \"id2label\": {\n",
      "    \"0\": \"Anger\",\n",
      "    \"1\": \"Fear\",\n",
      "    \"2\": \"Joy\",\n",
      "    \"3\": \"Love\",\n",
      "    \"4\": \"Neutral\",\n",
      "    \"5\": \"Sad\"\n",
      "  },\n",
      "  \"initializer_range\": 0.02,\n",
      "  \"intermediate_size\": 3072,\n",
      "  \"label2id\": {\n",
      "    \"Anger\": 0,\n",
      "    \"Fear\": 1,\n",
      "    \"Joy\": 2,\n",
      "    \"Love\": 3,\n",
      "    \"Neutral\": 4,\n",
      "    \"Sad\": 5\n",
      "  },\n",
      "  \"layer_norm_eps\": 1e-05,\n",
      "  \"max_position_embeddings\": 514,\n",
      "  \"model_type\": \"xlm-roberta\",\n",
      "  \"num_attention_heads\": 12,\n",
      "  \"num_hidden_layers\": 12,\n",
      "  \"output_past\": true,\n",
      "  \"pad_token_id\": 1,\n",
      "  \"position_embedding_type\": \"absolute\",\n",
      "  \"transformers_version\": \"4.26.1\",\n",
      "  \"type_vocab_size\": 1,\n",
      "  \"use_cache\": true,\n",
      "  \"vocab_size\": 250002\n",
      "}\n",
      "\n",
      "loading weights file model.safetensors from cache at /home/jupyter-145230403/.cache/huggingface/hub/models--FacebookAI--xlm-roberta-base/snapshots/e73636d4f797dec63c3081bb6ed5c7b0bb3f2089/model.safetensors\n",
      "Some weights of the model checkpoint at FacebookAI/xlm-roberta-base were not used when initializing XLMRobertaForSequenceClassification: ['lm_head.dense.weight', 'roberta.pooler.dense.bias', 'roberta.pooler.dense.weight', 'lm_head.dense.bias', 'lm_head.layer_norm.bias', 'lm_head.layer_norm.weight', 'lm_head.bias']\n",
      "- This IS expected if you are initializing XLMRobertaForSequenceClassification from the checkpoint of a model trained on another task or with another architecture (e.g. initializing a BertForSequenceClassification model from a BertForPreTraining model).\n",
      "- This IS NOT expected if you are initializing XLMRobertaForSequenceClassification from the checkpoint of a model that you expect to be exactly identical (initializing a BertForSequenceClassification model from a BertForSequenceClassification model).\n",
      "Some weights of XLMRobertaForSequenceClassification were not initialized from the model checkpoint at FacebookAI/xlm-roberta-base and are newly initialized: ['classifier.dense.weight', 'classifier.out_proj.bias', 'classifier.dense.bias', 'classifier.out_proj.weight']\n",
      "You should probably TRAIN this model on a down-stream task to be able to use it for predictions and inference.\n",
      "loading configuration file config.json from cache at /home/jupyter-145230403/.cache/huggingface/hub/models--FacebookAI--xlm-roberta-base/snapshots/e73636d4f797dec63c3081bb6ed5c7b0bb3f2089/config.json\n",
      "Model config XLMRobertaConfig {\n",
      "  \"_name_or_path\": \"FacebookAI/xlm-roberta-base\",\n",
      "  \"architectures\": [\n",
      "    \"XLMRobertaForMaskedLM\"\n",
      "  ],\n",
      "  \"attention_probs_dropout_prob\": 0.1,\n",
      "  \"bos_token_id\": 0,\n",
      "  \"classifier_dropout\": null,\n",
      "  \"eos_token_id\": 2,\n",
      "  \"hidden_act\": \"gelu\",\n",
      "  \"hidden_dropout_prob\": 0.1,\n",
      "  \"hidden_size\": 768,\n",
      "  \"initializer_range\": 0.02,\n",
      "  \"intermediate_size\": 3072,\n",
      "  \"layer_norm_eps\": 1e-05,\n",
      "  \"max_position_embeddings\": 514,\n",
      "  \"model_type\": \"xlm-roberta\",\n",
      "  \"num_attention_heads\": 12,\n",
      "  \"num_hidden_layers\": 12,\n",
      "  \"output_past\": true,\n",
      "  \"pad_token_id\": 1,\n",
      "  \"position_embedding_type\": \"absolute\",\n",
      "  \"transformers_version\": \"4.26.1\",\n",
      "  \"type_vocab_size\": 1,\n",
      "  \"use_cache\": true,\n",
      "  \"vocab_size\": 250002\n",
      "}\n",
      "\n",
      "loading file sentencepiece.bpe.model from cache at /home/jupyter-145230403/.cache/huggingface/hub/models--FacebookAI--xlm-roberta-base/snapshots/e73636d4f797dec63c3081bb6ed5c7b0bb3f2089/sentencepiece.bpe.model\n",
      "loading file tokenizer.json from cache at /home/jupyter-145230403/.cache/huggingface/hub/models--FacebookAI--xlm-roberta-base/snapshots/e73636d4f797dec63c3081bb6ed5c7b0bb3f2089/tokenizer.json\n",
      "loading file added_tokens.json from cache at None\n",
      "loading file special_tokens_map.json from cache at None\n",
      "loading file tokenizer_config.json from cache at /home/jupyter-145230403/.cache/huggingface/hub/models--FacebookAI--xlm-roberta-base/snapshots/e73636d4f797dec63c3081bb6ed5c7b0bb3f2089/tokenizer_config.json\n",
      "loading configuration file config.json from cache at /home/jupyter-145230403/.cache/huggingface/hub/models--FacebookAI--xlm-roberta-base/snapshots/e73636d4f797dec63c3081bb6ed5c7b0bb3f2089/config.json\n",
      "Model config XLMRobertaConfig {\n",
      "  \"_name_or_path\": \"FacebookAI/xlm-roberta-base\",\n",
      "  \"architectures\": [\n",
      "    \"XLMRobertaForMaskedLM\"\n",
      "  ],\n",
      "  \"attention_probs_dropout_prob\": 0.1,\n",
      "  \"bos_token_id\": 0,\n",
      "  \"classifier_dropout\": null,\n",
      "  \"eos_token_id\": 2,\n",
      "  \"hidden_act\": \"gelu\",\n",
      "  \"hidden_dropout_prob\": 0.1,\n",
      "  \"hidden_size\": 768,\n",
      "  \"initializer_range\": 0.02,\n",
      "  \"intermediate_size\": 3072,\n",
      "  \"layer_norm_eps\": 1e-05,\n",
      "  \"max_position_embeddings\": 514,\n",
      "  \"model_type\": \"xlm-roberta\",\n",
      "  \"num_attention_heads\": 12,\n",
      "  \"num_hidden_layers\": 12,\n",
      "  \"output_past\": true,\n",
      "  \"pad_token_id\": 1,\n",
      "  \"position_embedding_type\": \"absolute\",\n",
      "  \"transformers_version\": \"4.26.1\",\n",
      "  \"type_vocab_size\": 1,\n",
      "  \"use_cache\": true,\n",
      "  \"vocab_size\": 250002\n",
      "}\n",
      "\n"
     ]
    },
    {
     "data": {
      "application/vnd.jupyter.widget-view+json": {
       "model_id": "4041ac25807a451fb84c85928bcc4332",
       "version_major": 2,
       "version_minor": 0
      },
      "text/plain": [
       "  0%|          | 0/5 [00:00<?, ?ba/s]"
      ]
     },
     "metadata": {},
     "output_type": "display_data"
    },
    {
     "data": {
      "application/vnd.jupyter.widget-view+json": {
       "model_id": "a07ebd69bd9e419f83c9403802e67288",
       "version_major": 2,
       "version_minor": 0
      },
      "text/plain": [
       "  0%|          | 0/2 [00:00<?, ?ba/s]"
      ]
     },
     "metadata": {},
     "output_type": "display_data"
    },
    {
     "data": {
      "application/vnd.jupyter.widget-view+json": {
       "model_id": "be79746650d247ad91b2741e6dc64a31",
       "version_major": 2,
       "version_minor": 0
      },
      "text/plain": [
       "  0%|          | 0/2 [00:00<?, ?ba/s]"
      ]
     },
     "metadata": {},
     "output_type": "display_data"
    },
    {
     "name": "stderr",
     "output_type": "stream",
     "text": [
      "PyTorch: setting up devices\n",
      "The default value for the training argument `--report_to` will change in v5 (from all installed integrations to none). In v5, you will need to use `--report_to all` to get the same behavior as now. You should start updating your code and make this info disappear :-).\n",
      "The following columns in the training set don't have a corresponding argument in `XLMRobertaForSequenceClassification.forward` and have been ignored: tweet, index. If tweet, index are not expected by `XLMRobertaForSequenceClassification.forward`,  you can safely ignore this message.\n",
      "/home/jupyter-145230403/.conda/envs/conda_env_2/lib/python3.9/site-packages/transformers/optimization.py:306: FutureWarning: This implementation of AdamW is deprecated and will be removed in a future version. Use the PyTorch implementation torch.optim.AdamW instead, or set `no_deprecation_warning=True` to disable this warning\n",
      "  warnings.warn(\n",
      "***** Running training *****\n",
      "  Num examples = 4956\n",
      "  Num Epochs = 6\n",
      "  Instantaneous batch size per device = 16\n",
      "  Total train batch size (w. parallel, distributed & accumulation) = 64\n",
      "  Gradient Accumulation steps = 1\n",
      "  Total optimization steps = 468\n",
      "  Number of trainable parameters = 278048262\n",
      "Automatic Weights & Biases logging enabled, to disable set os.environ[\"WANDB_DISABLED\"] = \"true\"\n",
      "You're using a XLMRobertaTokenizerFast tokenizer. Please note that with a fast tokenizer, using the `__call__` method is faster than using a method to encode the text followed by a call to the `pad` method to get a padded encoding.\n",
      "/home/jupyter-145230403/.conda/envs/conda_env_2/lib/python3.9/site-packages/torch/nn/parallel/_functions.py:68: UserWarning: Was asked to gather along dimension 0, but all input tensors were scalars; will instead unsqueeze and return a vector.\n",
      "  warnings.warn('Was asked to gather along dimension 0, but all '\n"
     ]
    },
    {
     "data": {
      "text/html": [
       "\n",
       "    <div>\n",
       "      \n",
       "      <progress value='468' max='468' style='width:300px; height:20px; vertical-align: middle;'></progress>\n",
       "      [468/468 05:50, Epoch 6/6]\n",
       "    </div>\n",
       "    <table border=\"1\" class=\"dataframe\">\n",
       "  <thead>\n",
       " <tr style=\"text-align: left;\">\n",
       "      <th>Epoch</th>\n",
       "      <th>Training Loss</th>\n",
       "      <th>Validation Loss</th>\n",
       "      <th>Accuracy</th>\n",
       "      <th>Precision</th>\n",
       "      <th>Recall</th>\n",
       "      <th>F1</th>\n",
       "    </tr>\n",
       "  </thead>\n",
       "  <tbody>\n",
       "    <tr>\n",
       "      <td>1</td>\n",
       "      <td>1.321600</td>\n",
       "      <td>0.805724</td>\n",
       "      <td>0.717514</td>\n",
       "      <td>0.724186</td>\n",
       "      <td>0.738374</td>\n",
       "      <td>0.726367</td>\n",
       "    </tr>\n",
       "    <tr>\n",
       "      <td>2</td>\n",
       "      <td>0.726200</td>\n",
       "      <td>0.816596</td>\n",
       "      <td>0.727872</td>\n",
       "      <td>0.733943</td>\n",
       "      <td>0.767569</td>\n",
       "      <td>0.737622</td>\n",
       "    </tr>\n",
       "    <tr>\n",
       "      <td>3</td>\n",
       "      <td>0.561000</td>\n",
       "      <td>0.740903</td>\n",
       "      <td>0.751412</td>\n",
       "      <td>0.756408</td>\n",
       "      <td>0.773339</td>\n",
       "      <td>0.758374</td>\n",
       "    </tr>\n",
       "    <tr>\n",
       "      <td>4</td>\n",
       "      <td>0.436800</td>\n",
       "      <td>0.761752</td>\n",
       "      <td>0.747646</td>\n",
       "      <td>0.760119</td>\n",
       "      <td>0.763192</td>\n",
       "      <td>0.754314</td>\n",
       "    </tr>\n",
       "    <tr>\n",
       "      <td>5</td>\n",
       "      <td>0.340900</td>\n",
       "      <td>0.805529</td>\n",
       "      <td>0.750471</td>\n",
       "      <td>0.752257</td>\n",
       "      <td>0.773450</td>\n",
       "      <td>0.758300</td>\n",
       "    </tr>\n",
       "    <tr>\n",
       "      <td>6</td>\n",
       "      <td>0.262800</td>\n",
       "      <td>0.786088</td>\n",
       "      <td>0.773070</td>\n",
       "      <td>0.775448</td>\n",
       "      <td>0.791609</td>\n",
       "      <td>0.781120</td>\n",
       "    </tr>\n",
       "  </tbody>\n",
       "</table><p>"
      ],
      "text/plain": [
       "<IPython.core.display.HTML object>"
      ]
     },
     "metadata": {},
     "output_type": "display_data"
    },
    {
     "name": "stderr",
     "output_type": "stream",
     "text": [
      "The following columns in the evaluation set don't have a corresponding argument in `XLMRobertaForSequenceClassification.forward` and have been ignored: tweet, index. If tweet, index are not expected by `XLMRobertaForSequenceClassification.forward`,  you can safely ignore this message.\n",
      "***** Running Evaluation *****\n",
      "  Num examples = 1062\n",
      "  Batch size = 32\n"
     ]
    },
    {
     "name": "stdout",
     "output_type": "stream",
     "text": [
      "Classification Report:\n",
      "              precision    recall  f1-score   support\n",
      "\n",
      "       Anger     0.6483    0.8693    0.7427       176\n",
      "        Fear     0.7838    0.7891    0.7864       147\n",
      "         Joy     0.6963    0.7514    0.7228       177\n",
      "        Love     0.7345    0.7217    0.7281       115\n",
      "     Neutral     0.7389    0.5604    0.6374       298\n",
      "         Sad     0.7432    0.7383    0.7407       149\n",
      "\n",
      "    accuracy                         0.7175      1062\n",
      "   macro avg     0.7242    0.7384    0.7264      1062\n",
      "weighted avg     0.7231    0.7175    0.7140      1062\n",
      "\n"
     ]
    },
    {
     "name": "stderr",
     "output_type": "stream",
     "text": [
      "Saving model checkpoint to emotcls-xlm-r-base/checkpoint-78\n",
      "Configuration saved in emotcls-xlm-r-base/checkpoint-78/config.json\n",
      "Model weights saved in emotcls-xlm-r-base/checkpoint-78/pytorch_model.bin\n",
      "tokenizer config file saved in emotcls-xlm-r-base/checkpoint-78/tokenizer_config.json\n",
      "Special tokens file saved in emotcls-xlm-r-base/checkpoint-78/special_tokens_map.json\n",
      "/home/jupyter-145230403/.conda/envs/conda_env_2/lib/python3.9/site-packages/torch/nn/parallel/_functions.py:68: UserWarning: Was asked to gather along dimension 0, but all input tensors were scalars; will instead unsqueeze and return a vector.\n",
      "  warnings.warn('Was asked to gather along dimension 0, but all '\n",
      "The following columns in the evaluation set don't have a corresponding argument in `XLMRobertaForSequenceClassification.forward` and have been ignored: tweet, index. If tweet, index are not expected by `XLMRobertaForSequenceClassification.forward`,  you can safely ignore this message.\n",
      "***** Running Evaluation *****\n",
      "  Num examples = 1062\n",
      "  Batch size = 32\n"
     ]
    },
    {
     "name": "stdout",
     "output_type": "stream",
     "text": [
      "Classification Report:\n",
      "              precision    recall  f1-score   support\n",
      "\n",
      "       Anger     0.6681    0.8920    0.7640       176\n",
      "        Fear     0.8309    0.7687    0.7986       147\n",
      "         Joy     0.7128    0.7571    0.7342       177\n",
      "        Love     0.6358    0.8957    0.7437       115\n",
      "     Neutral     0.8077    0.4933    0.6125       298\n",
      "         Sad     0.7484    0.7987    0.7727       149\n",
      "\n",
      "    accuracy                         0.7279      1062\n",
      "   macro avg     0.7339    0.7676    0.7376      1062\n",
      "weighted avg     0.7450    0.7279    0.7203      1062\n",
      "\n"
     ]
    },
    {
     "name": "stderr",
     "output_type": "stream",
     "text": [
      "Saving model checkpoint to emotcls-xlm-r-base/checkpoint-156\n",
      "Configuration saved in emotcls-xlm-r-base/checkpoint-156/config.json\n",
      "Model weights saved in emotcls-xlm-r-base/checkpoint-156/pytorch_model.bin\n",
      "tokenizer config file saved in emotcls-xlm-r-base/checkpoint-156/tokenizer_config.json\n",
      "Special tokens file saved in emotcls-xlm-r-base/checkpoint-156/special_tokens_map.json\n",
      "/home/jupyter-145230403/.conda/envs/conda_env_2/lib/python3.9/site-packages/torch/nn/parallel/_functions.py:68: UserWarning: Was asked to gather along dimension 0, but all input tensors were scalars; will instead unsqueeze and return a vector.\n",
      "  warnings.warn('Was asked to gather along dimension 0, but all '\n",
      "The following columns in the evaluation set don't have a corresponding argument in `XLMRobertaForSequenceClassification.forward` and have been ignored: tweet, index. If tweet, index are not expected by `XLMRobertaForSequenceClassification.forward`,  you can safely ignore this message.\n",
      "***** Running Evaluation *****\n",
      "  Num examples = 1062\n",
      "  Batch size = 32\n"
     ]
    },
    {
     "name": "stdout",
     "output_type": "stream",
     "text": [
      "Classification Report:\n",
      "              precision    recall  f1-score   support\n",
      "\n",
      "       Anger     0.7988    0.7670    0.7826       176\n",
      "        Fear     0.8571    0.7755    0.8143       147\n",
      "         Joy     0.7529    0.7401    0.7464       177\n",
      "        Love     0.5909    0.9043    0.7148       115\n",
      "     Neutral     0.7558    0.6544    0.7014       298\n",
      "         Sad     0.7829    0.7987    0.7907       149\n",
      "\n",
      "    accuracy                         0.7514      1062\n",
      "   macro avg     0.7564    0.7733    0.7584      1062\n",
      "weighted avg     0.7624    0.7514    0.7520      1062\n",
      "\n"
     ]
    },
    {
     "name": "stderr",
     "output_type": "stream",
     "text": [
      "Saving model checkpoint to emotcls-xlm-r-base/checkpoint-234\n",
      "Configuration saved in emotcls-xlm-r-base/checkpoint-234/config.json\n",
      "Model weights saved in emotcls-xlm-r-base/checkpoint-234/pytorch_model.bin\n",
      "tokenizer config file saved in emotcls-xlm-r-base/checkpoint-234/tokenizer_config.json\n",
      "Special tokens file saved in emotcls-xlm-r-base/checkpoint-234/special_tokens_map.json\n",
      "Deleting older checkpoint [emotcls-xlm-r-base/checkpoint-78] due to args.save_total_limit\n",
      "Deleting older checkpoint [emotcls-xlm-r-base/checkpoint-156] due to args.save_total_limit\n",
      "/home/jupyter-145230403/.conda/envs/conda_env_2/lib/python3.9/site-packages/torch/nn/parallel/_functions.py:68: UserWarning: Was asked to gather along dimension 0, but all input tensors were scalars; will instead unsqueeze and return a vector.\n",
      "  warnings.warn('Was asked to gather along dimension 0, but all '\n",
      "The following columns in the evaluation set don't have a corresponding argument in `XLMRobertaForSequenceClassification.forward` and have been ignored: tweet, index. If tweet, index are not expected by `XLMRobertaForSequenceClassification.forward`,  you can safely ignore this message.\n",
      "***** Running Evaluation *****\n",
      "  Num examples = 1062\n",
      "  Batch size = 32\n"
     ]
    },
    {
     "name": "stdout",
     "output_type": "stream",
     "text": [
      "Classification Report:\n",
      "              precision    recall  f1-score   support\n",
      "\n",
      "       Anger     0.6881    0.8523    0.7614       176\n",
      "        Fear     0.8682    0.7619    0.8116       147\n",
      "         Joy     0.7128    0.7853    0.7473       177\n",
      "        Love     0.6644    0.8609    0.7500       115\n",
      "     Neutral     0.7588    0.6544    0.7027       298\n",
      "         Sad     0.8684    0.6644    0.7529       149\n",
      "\n",
      "    accuracy                         0.7476      1062\n",
      "   macro avg     0.7601    0.7632    0.7543      1062\n",
      "weighted avg     0.7597    0.7476    0.7471      1062\n",
      "\n"
     ]
    },
    {
     "name": "stderr",
     "output_type": "stream",
     "text": [
      "Saving model checkpoint to emotcls-xlm-r-base/checkpoint-312\n",
      "Configuration saved in emotcls-xlm-r-base/checkpoint-312/config.json\n",
      "Model weights saved in emotcls-xlm-r-base/checkpoint-312/pytorch_model.bin\n",
      "tokenizer config file saved in emotcls-xlm-r-base/checkpoint-312/tokenizer_config.json\n",
      "Special tokens file saved in emotcls-xlm-r-base/checkpoint-312/special_tokens_map.json\n",
      "/home/jupyter-145230403/.conda/envs/conda_env_2/lib/python3.9/site-packages/torch/nn/parallel/_functions.py:68: UserWarning: Was asked to gather along dimension 0, but all input tensors were scalars; will instead unsqueeze and return a vector.\n",
      "  warnings.warn('Was asked to gather along dimension 0, but all '\n",
      "The following columns in the evaluation set don't have a corresponding argument in `XLMRobertaForSequenceClassification.forward` and have been ignored: tweet, index. If tweet, index are not expected by `XLMRobertaForSequenceClassification.forward`,  you can safely ignore this message.\n",
      "***** Running Evaluation *****\n",
      "  Num examples = 1062\n",
      "  Batch size = 32\n"
     ]
    },
    {
     "name": "stdout",
     "output_type": "stream",
     "text": [
      "Classification Report:\n",
      "              precision    recall  f1-score   support\n",
      "\n",
      "       Anger     0.7540    0.8011    0.7769       176\n",
      "        Fear     0.8582    0.7823    0.8185       147\n",
      "         Joy     0.7340    0.7797    0.7562       177\n",
      "        Love     0.6474    0.8783    0.7454       115\n",
      "     Neutral     0.7633    0.6275    0.6888       298\n",
      "         Sad     0.7566    0.7718    0.7641       149\n",
      "\n",
      "    accuracy                         0.7505      1062\n",
      "   macro avg     0.7523    0.7735    0.7583      1062\n",
      "weighted avg     0.7565    0.7505    0.7493      1062\n",
      "\n"
     ]
    },
    {
     "name": "stderr",
     "output_type": "stream",
     "text": [
      "Saving model checkpoint to emotcls-xlm-r-base/checkpoint-390\n",
      "Configuration saved in emotcls-xlm-r-base/checkpoint-390/config.json\n",
      "Model weights saved in emotcls-xlm-r-base/checkpoint-390/pytorch_model.bin\n",
      "tokenizer config file saved in emotcls-xlm-r-base/checkpoint-390/tokenizer_config.json\n",
      "Special tokens file saved in emotcls-xlm-r-base/checkpoint-390/special_tokens_map.json\n",
      "Deleting older checkpoint [emotcls-xlm-r-base/checkpoint-312] due to args.save_total_limit\n",
      "/home/jupyter-145230403/.conda/envs/conda_env_2/lib/python3.9/site-packages/torch/nn/parallel/_functions.py:68: UserWarning: Was asked to gather along dimension 0, but all input tensors were scalars; will instead unsqueeze and return a vector.\n",
      "  warnings.warn('Was asked to gather along dimension 0, but all '\n",
      "The following columns in the evaluation set don't have a corresponding argument in `XLMRobertaForSequenceClassification.forward` and have been ignored: tweet, index. If tweet, index are not expected by `XLMRobertaForSequenceClassification.forward`,  you can safely ignore this message.\n",
      "***** Running Evaluation *****\n",
      "  Num examples = 1062\n",
      "  Batch size = 32\n"
     ]
    },
    {
     "name": "stdout",
     "output_type": "stream",
     "text": [
      "Classification Report:\n",
      "              precision    recall  f1-score   support\n",
      "\n",
      "       Anger     0.7513    0.8239    0.7859       176\n",
      "        Fear     0.8552    0.8435    0.8493       147\n",
      "         Joy     0.7640    0.7684    0.7662       177\n",
      "        Love     0.6923    0.8609    0.7674       115\n",
      "     Neutral     0.7672    0.6745    0.7179       298\n",
      "         Sad     0.8227    0.7785    0.8000       149\n",
      "\n",
      "    accuracy                         0.7731      1062\n",
      "   macro avg     0.7754    0.7916    0.7811      1062\n",
      "weighted avg     0.7759    0.7731    0.7723      1062\n",
      "\n"
     ]
    },
    {
     "name": "stderr",
     "output_type": "stream",
     "text": [
      "Saving model checkpoint to emotcls-xlm-r-base/checkpoint-468\n",
      "Configuration saved in emotcls-xlm-r-base/checkpoint-468/config.json\n",
      "Model weights saved in emotcls-xlm-r-base/checkpoint-468/pytorch_model.bin\n",
      "tokenizer config file saved in emotcls-xlm-r-base/checkpoint-468/tokenizer_config.json\n",
      "Special tokens file saved in emotcls-xlm-r-base/checkpoint-468/special_tokens_map.json\n",
      "Deleting older checkpoint [emotcls-xlm-r-base/checkpoint-390] due to args.save_total_limit\n",
      "\n",
      "\n",
      "Training completed. Do not forget to share your model on huggingface.co/models =)\n",
      "\n",
      "\n",
      "Loading best model from emotcls-xlm-r-base/checkpoint-234 (score: 0.7409029603004456).\n",
      "Deleting older checkpoint [emotcls-xlm-r-base/checkpoint-468] due to args.save_total_limit\n",
      "Saving model checkpoint to emotcls-xlm-r-base\n",
      "Configuration saved in emotcls-xlm-r-base/config.json\n",
      "Model weights saved in emotcls-xlm-r-base/pytorch_model.bin\n",
      "tokenizer config file saved in emotcls-xlm-r-base/tokenizer_config.json\n",
      "Special tokens file saved in emotcls-xlm-r-base/special_tokens_map.json\n",
      "The following columns in the evaluation set don't have a corresponding argument in `XLMRobertaForSequenceClassification.forward` and have been ignored: tweet, index. If tweet, index are not expected by `XLMRobertaForSequenceClassification.forward`,  you can safely ignore this message.\n",
      "***** Running Evaluation *****\n",
      "  Num examples = 1062\n",
      "  Batch size = 32\n",
      "/home/jupyter-145230403/.conda/envs/conda_env_2/lib/python3.9/site-packages/torch/nn/parallel/_functions.py:68: UserWarning: Was asked to gather along dimension 0, but all input tensors were scalars; will instead unsqueeze and return a vector.\n",
      "  warnings.warn('Was asked to gather along dimension 0, but all '\n"
     ]
    },
    {
     "data": {
      "text/html": [],
      "text/plain": [
       "<IPython.core.display.HTML object>"
      ]
     },
     "metadata": {},
     "output_type": "display_data"
    },
    {
     "name": "stderr",
     "output_type": "stream",
     "text": [
      "The following columns in the test set don't have a corresponding argument in `XLMRobertaForSequenceClassification.forward` and have been ignored: tweet, index. If tweet, index are not expected by `XLMRobertaForSequenceClassification.forward`,  you can safely ignore this message.\n",
      "***** Running Prediction *****\n",
      "  Num examples = 1062\n",
      "  Batch size = 32\n"
     ]
    },
    {
     "name": "stdout",
     "output_type": "stream",
     "text": [
      "Classification Report:\n",
      "              precision    recall  f1-score   support\n",
      "\n",
      "       Anger     0.8250    0.7333    0.7765       180\n",
      "        Fear     0.8209    0.8209    0.8209       134\n",
      "         Joy     0.8316    0.7837    0.8069       208\n",
      "        Love     0.5796    0.9010    0.7054       101\n",
      "     Neutral     0.7610    0.6564    0.7048       291\n",
      "         Sad     0.7195    0.7973    0.7564       148\n",
      "\n",
      "    accuracy                         0.7580      1062\n",
      "   macro avg     0.7563    0.7821    0.7618      1062\n",
      "weighted avg     0.7702    0.7580    0.7589      1062\n",
      "\n",
      "{'eval_loss': 0.7084178924560547, 'eval_accuracy': 0.7580037664783428, 'eval_precision': 0.7562690633774909, 'eval_recall': 0.7820879144164313, 'eval_f1': 0.7618217441104239, 'eval_runtime': 9.0043, 'eval_samples_per_second': 117.943, 'eval_steps_per_second': 3.776, 'epoch': 6.0}\n"
     ]
    },
    {
     "name": "stderr",
     "output_type": "stream",
     "text": [
      "/home/jupyter-145230403/.conda/envs/conda_env_2/lib/python3.9/site-packages/torch/nn/parallel/_functions.py:68: UserWarning: Was asked to gather along dimension 0, but all input tensors were scalars; will instead unsqueeze and return a vector.\n",
      "  warnings.warn('Was asked to gather along dimension 0, but all '\n"
     ]
    },
    {
     "name": "stdout",
     "output_type": "stream",
     "text": [
      "Classification Report:\n",
      "              precision    recall  f1-score   support\n",
      "\n",
      "       Anger     0.8250    0.7333    0.7765       180\n",
      "        Fear     0.8209    0.8209    0.8209       134\n",
      "         Joy     0.8316    0.7837    0.8069       208\n",
      "        Love     0.5796    0.9010    0.7054       101\n",
      "     Neutral     0.7610    0.6564    0.7048       291\n",
      "         Sad     0.7195    0.7973    0.7564       148\n",
      "\n",
      "    accuracy                         0.7580      1062\n",
      "   macro avg     0.7563    0.7821    0.7618      1062\n",
      "weighted avg     0.7702    0.7580    0.7589      1062\n",
      "\n"
     ]
    },
    {
     "data": {
      "image/png": "[encoded data removed]",
      "text/plain": [
       "<Figure size 576x432 with 2 Axes>"
      ]
     },
     "metadata": {},
     "output_type": "display_data"
    },
    {
     "name": "stdout",
     "output_type": "stream",
     "text": [
      "Training finished!\n"
     ]
    },
    {
     "data": {
      "image/png": "[encoded data removed]",
      "text/plain": [
       "<Figure size 432x288 with 1 Axes>"
      ]
     },
     "metadata": {},
     "output_type": "display_data"
    },
    {
     "name": "stdout",
     "output_type": "stream",
     "text": [
      "Total time: 6.558300805091858 minutes\n"
     ]
    }
   ],
   "source": [
    "#3 FacebookAI/xlm-roberta-base\n",
    "\n",
    "main(\n",
    "    model_name = 'FacebookAI/xlm-roberta-base',\n",
    "    output_dir = 'emotcls-xlm-r-base',\n",
    "    best_params = 'best_params/xlm-r-base.json'\n",
    ")"
   ]
  },
  {
   "cell_type": "code",
   "execution_count": 15,
   "id": "cede133d",
   "metadata": {},
   "outputs": [
    {
     "name": "stdout",
     "output_type": "stream",
     "text": [
      "{'num_train_epochs': 9, 'learning_rate': 5e-05, 'per_device_train_batch_size': 16, 'per_device_eval_batch_size': 64, 'weight_decay': 0.007705240615613307}\n"
     ]
    },
    {
     "name": "stderr",
     "output_type": "stream",
     "text": [
      "loading configuration file config.json from cache at /home/jupyter-145230403/.cache/huggingface/hub/models--google-bert--bert-base-multilingual-cased/snapshots/3f076fdb1ab68d5b2880cb87a0886f315b8146f8/config.json\n",
      "Model config BertConfig {\n",
      "  \"_name_or_path\": \"google-bert/bert-base-multilingual-cased\",\n",
      "  \"architectures\": [\n",
      "    \"BertForMaskedLM\"\n",
      "  ],\n",
      "  \"attention_probs_dropout_prob\": 0.1,\n",
      "  \"classifier_dropout\": null,\n",
      "  \"directionality\": \"bidi\",\n",
      "  \"hidden_act\": \"gelu\",\n",
      "  \"hidden_dropout_prob\": 0.1,\n",
      "  \"hidden_size\": 768,\n",
      "  \"id2label\": {\n",
      "    \"0\": \"Anger\",\n",
      "    \"1\": \"Fear\",\n",
      "    \"2\": \"Joy\",\n",
      "    \"3\": \"Love\",\n",
      "    \"4\": \"Neutral\",\n",
      "    \"5\": \"Sad\"\n",
      "  },\n",
      "  \"initializer_range\": 0.02,\n",
      "  \"intermediate_size\": 3072,\n",
      "  \"label2id\": {\n",
      "    \"Anger\": 0,\n",
      "    \"Fear\": 1,\n",
      "    \"Joy\": 2,\n",
      "    \"Love\": 3,\n",
      "    \"Neutral\": 4,\n",
      "    \"Sad\": 5\n",
      "  },\n",
      "  \"layer_norm_eps\": 1e-12,\n",
      "  \"max_position_embeddings\": 512,\n",
      "  \"model_type\": \"bert\",\n",
      "  \"num_attention_heads\": 12,\n",
      "  \"num_hidden_layers\": 12,\n",
      "  \"pad_token_id\": 0,\n",
      "  \"pooler_fc_size\": 768,\n",
      "  \"pooler_num_attention_heads\": 12,\n",
      "  \"pooler_num_fc_layers\": 3,\n",
      "  \"pooler_size_per_head\": 128,\n",
      "  \"pooler_type\": \"first_token_transform\",\n",
      "  \"position_embedding_type\": \"absolute\",\n",
      "  \"transformers_version\": \"4.26.1\",\n",
      "  \"type_vocab_size\": 2,\n",
      "  \"use_cache\": true,\n",
      "  \"vocab_size\": 119547\n",
      "}\n",
      "\n",
      "loading weights file model.safetensors from cache at /home/jupyter-145230403/.cache/huggingface/hub/models--google-bert--bert-base-multilingual-cased/snapshots/3f076fdb1ab68d5b2880cb87a0886f315b8146f8/model.safetensors\n",
      "Some weights of the model checkpoint at google-bert/bert-base-multilingual-cased were not used when initializing BertForSequenceClassification: ['cls.seq_relationship.bias', 'cls.predictions.transform.dense.weight', 'cls.predictions.transform.dense.bias', 'cls.predictions.transform.LayerNorm.bias', 'cls.predictions.transform.LayerNorm.weight', 'cls.seq_relationship.weight', 'cls.predictions.bias']\n",
      "- This IS expected if you are initializing BertForSequenceClassification from the checkpoint of a model trained on another task or with another architecture (e.g. initializing a BertForSequenceClassification model from a BertForPreTraining model).\n",
      "- This IS NOT expected if you are initializing BertForSequenceClassification from the checkpoint of a model that you expect to be exactly identical (initializing a BertForSequenceClassification model from a BertForSequenceClassification model).\n",
      "Some weights of BertForSequenceClassification were not initialized from the model checkpoint at google-bert/bert-base-multilingual-cased and are newly initialized: ['classifier.bias', 'classifier.weight']\n",
      "You should probably TRAIN this model on a down-stream task to be able to use it for predictions and inference.\n",
      "loading configuration file config.json from cache at /home/jupyter-145230403/.cache/huggingface/hub/models--google-bert--bert-base-multilingual-cased/snapshots/3f076fdb1ab68d5b2880cb87a0886f315b8146f8/config.json\n",
      "Model config BertConfig {\n",
      "  \"_name_or_path\": \"google-bert/bert-base-multilingual-cased\",\n",
      "  \"architectures\": [\n",
      "    \"BertForMaskedLM\"\n",
      "  ],\n",
      "  \"attention_probs_dropout_prob\": 0.1,\n",
      "  \"classifier_dropout\": null,\n",
      "  \"directionality\": \"bidi\",\n",
      "  \"hidden_act\": \"gelu\",\n",
      "  \"hidden_dropout_prob\": 0.1,\n",
      "  \"hidden_size\": 768,\n",
      "  \"initializer_range\": 0.02,\n",
      "  \"intermediate_size\": 3072,\n",
      "  \"layer_norm_eps\": 1e-12,\n",
      "  \"max_position_embeddings\": 512,\n",
      "  \"model_type\": \"bert\",\n",
      "  \"num_attention_heads\": 12,\n",
      "  \"num_hidden_layers\": 12,\n",
      "  \"pad_token_id\": 0,\n",
      "  \"pooler_fc_size\": 768,\n",
      "  \"pooler_num_attention_heads\": 12,\n",
      "  \"pooler_num_fc_layers\": 3,\n",
      "  \"pooler_size_per_head\": 128,\n",
      "  \"pooler_type\": \"first_token_transform\",\n",
      "  \"position_embedding_type\": \"absolute\",\n",
      "  \"transformers_version\": \"4.26.1\",\n",
      "  \"type_vocab_size\": 2,\n",
      "  \"use_cache\": true,\n",
      "  \"vocab_size\": 119547\n",
      "}\n",
      "\n",
      "loading file vocab.txt from cache at /home/jupyter-145230403/.cache/huggingface/hub/models--google-bert--bert-base-multilingual-cased/snapshots/3f076fdb1ab68d5b2880cb87a0886f315b8146f8/vocab.txt\n",
      "loading file tokenizer.json from cache at /home/jupyter-145230403/.cache/huggingface/hub/models--google-bert--bert-base-multilingual-cased/snapshots/3f076fdb1ab68d5b2880cb87a0886f315b8146f8/tokenizer.json\n",
      "loading file added_tokens.json from cache at None\n",
      "loading file special_tokens_map.json from cache at None\n",
      "loading file tokenizer_config.json from cache at /home/jupyter-145230403/.cache/huggingface/hub/models--google-bert--bert-base-multilingual-cased/snapshots/3f076fdb1ab68d5b2880cb87a0886f315b8146f8/tokenizer_config.json\n",
      "loading configuration file config.json from cache at /home/jupyter-145230403/.cache/huggingface/hub/models--google-bert--bert-base-multilingual-cased/snapshots/3f076fdb1ab68d5b2880cb87a0886f315b8146f8/config.json\n",
      "Model config BertConfig {\n",
      "  \"_name_or_path\": \"google-bert/bert-base-multilingual-cased\",\n",
      "  \"architectures\": [\n",
      "    \"BertForMaskedLM\"\n",
      "  ],\n",
      "  \"attention_probs_dropout_prob\": 0.1,\n",
      "  \"classifier_dropout\": null,\n",
      "  \"directionality\": \"bidi\",\n",
      "  \"hidden_act\": \"gelu\",\n",
      "  \"hidden_dropout_prob\": 0.1,\n",
      "  \"hidden_size\": 768,\n",
      "  \"initializer_range\": 0.02,\n",
      "  \"intermediate_size\": 3072,\n",
      "  \"layer_norm_eps\": 1e-12,\n",
      "  \"max_position_embeddings\": 512,\n",
      "  \"model_type\": \"bert\",\n",
      "  \"num_attention_heads\": 12,\n",
      "  \"num_hidden_layers\": 12,\n",
      "  \"pad_token_id\": 0,\n",
      "  \"pooler_fc_size\": 768,\n",
      "  \"pooler_num_attention_heads\": 12,\n",
      "  \"pooler_num_fc_layers\": 3,\n",
      "  \"pooler_size_per_head\": 128,\n",
      "  \"pooler_type\": \"first_token_transform\",\n",
      "  \"position_embedding_type\": \"absolute\",\n",
      "  \"transformers_version\": \"4.26.1\",\n",
      "  \"type_vocab_size\": 2,\n",
      "  \"use_cache\": true,\n",
      "  \"vocab_size\": 119547\n",
      "}\n",
      "\n"
     ]
    },
    {
     "data": {
      "application/vnd.jupyter.widget-view+json": {
       "model_id": "d6abf36a535b4416a5ccd7973b6ab2d5",
       "version_major": 2,
       "version_minor": 0
      },
      "text/plain": [
       "  0%|          | 0/5 [00:00<?, ?ba/s]"
      ]
     },
     "metadata": {},
     "output_type": "display_data"
    },
    {
     "data": {
      "application/vnd.jupyter.widget-view+json": {
       "model_id": "4b0e6f2f1bb2434890e5e8ee03bb39f3",
       "version_major": 2,
       "version_minor": 0
      },
      "text/plain": [
       "  0%|          | 0/2 [00:00<?, ?ba/s]"
      ]
     },
     "metadata": {},
     "output_type": "display_data"
    },
    {
     "data": {
      "application/vnd.jupyter.widget-view+json": {
       "model_id": "0d8abe5dd8734fdd8eaa7360d628cfa5",
       "version_major": 2,
       "version_minor": 0
      },
      "text/plain": [
       "  0%|          | 0/2 [00:00<?, ?ba/s]"
      ]
     },
     "metadata": {},
     "output_type": "display_data"
    },
    {
     "name": "stderr",
     "output_type": "stream",
     "text": [
      "PyTorch: setting up devices\n",
      "The default value for the training argument `--report_to` will change in v5 (from all installed integrations to none). In v5, you will need to use `--report_to all` to get the same behavior as now. You should start updating your code and make this info disappear :-).\n",
      "The following columns in the training set don't have a corresponding argument in `BertForSequenceClassification.forward` and have been ignored: tweet, index. If tweet, index are not expected by `BertForSequenceClassification.forward`,  you can safely ignore this message.\n",
      "/home/jupyter-145230403/.conda/envs/conda_env_2/lib/python3.9/site-packages/transformers/optimization.py:306: FutureWarning: This implementation of AdamW is deprecated and will be removed in a future version. Use the PyTorch implementation torch.optim.AdamW instead, or set `no_deprecation_warning=True` to disable this warning\n",
      "  warnings.warn(\n",
      "***** Running training *****\n",
      "  Num examples = 4956\n",
      "  Num Epochs = 9\n",
      "  Instantaneous batch size per device = 16\n",
      "  Total train batch size (w. parallel, distributed & accumulation) = 64\n",
      "  Gradient Accumulation steps = 1\n",
      "  Total optimization steps = 702\n",
      "  Number of trainable parameters = 177858054\n",
      "Automatic Weights & Biases logging enabled, to disable set os.environ[\"WANDB_DISABLED\"] = \"true\"\n",
      "You're using a BertTokenizerFast tokenizer. Please note that with a fast tokenizer, using the `__call__` method is faster than using a method to encode the text followed by a call to the `pad` method to get a padded encoding.\n",
      "/home/jupyter-145230403/.conda/envs/conda_env_2/lib/python3.9/site-packages/torch/nn/parallel/_functions.py:68: UserWarning: Was asked to gather along dimension 0, but all input tensors were scalars; will instead unsqueeze and return a vector.\n",
      "  warnings.warn('Was asked to gather along dimension 0, but all '\n"
     ]
    },
    {
     "data": {
      "text/html": [
       "\n",
       "    <div>\n",
       "      \n",
       "      <progress value='702' max='702' style='width:300px; height:20px; vertical-align: middle;'></progress>\n",
       "      [702/702 06:42, Epoch 9/9]\n",
       "    </div>\n",
       "    <table border=\"1\" class=\"dataframe\">\n",
       "  <thead>\n",
       " <tr style=\"text-align: left;\">\n",
       "      <th>Epoch</th>\n",
       "      <th>Training Loss</th>\n",
       "      <th>Validation Loss</th>\n",
       "      <th>Accuracy</th>\n",
       "      <th>Precision</th>\n",
       "      <th>Recall</th>\n",
       "      <th>F1</th>\n",
       "    </tr>\n",
       "  </thead>\n",
       "  <tbody>\n",
       "    <tr>\n",
       "      <td>1</td>\n",
       "      <td>1.401900</td>\n",
       "      <td>0.957394</td>\n",
       "      <td>0.673258</td>\n",
       "      <td>0.677400</td>\n",
       "      <td>0.688485</td>\n",
       "      <td>0.679899</td>\n",
       "    </tr>\n",
       "    <tr>\n",
       "      <td>2</td>\n",
       "      <td>0.851900</td>\n",
       "      <td>0.809642</td>\n",
       "      <td>0.719397</td>\n",
       "      <td>0.717916</td>\n",
       "      <td>0.749779</td>\n",
       "      <td>0.725644</td>\n",
       "    </tr>\n",
       "    <tr>\n",
       "      <td>3</td>\n",
       "      <td>0.656500</td>\n",
       "      <td>0.852941</td>\n",
       "      <td>0.724105</td>\n",
       "      <td>0.754996</td>\n",
       "      <td>0.734563</td>\n",
       "      <td>0.731370</td>\n",
       "    </tr>\n",
       "    <tr>\n",
       "      <td>4</td>\n",
       "      <td>0.500000</td>\n",
       "      <td>0.848595</td>\n",
       "      <td>0.722222</td>\n",
       "      <td>0.737707</td>\n",
       "      <td>0.741964</td>\n",
       "      <td>0.733671</td>\n",
       "    </tr>\n",
       "    <tr>\n",
       "      <td>5</td>\n",
       "      <td>0.356400</td>\n",
       "      <td>0.942655</td>\n",
       "      <td>0.724105</td>\n",
       "      <td>0.727803</td>\n",
       "      <td>0.741267</td>\n",
       "      <td>0.730756</td>\n",
       "    </tr>\n",
       "    <tr>\n",
       "      <td>6</td>\n",
       "      <td>0.237600</td>\n",
       "      <td>0.956153</td>\n",
       "      <td>0.738230</td>\n",
       "      <td>0.746351</td>\n",
       "      <td>0.751289</td>\n",
       "      <td>0.748377</td>\n",
       "    </tr>\n",
       "    <tr>\n",
       "      <td>7</td>\n",
       "      <td>0.170700</td>\n",
       "      <td>1.031108</td>\n",
       "      <td>0.730697</td>\n",
       "      <td>0.732583</td>\n",
       "      <td>0.750789</td>\n",
       "      <td>0.739939</td>\n",
       "    </tr>\n",
       "    <tr>\n",
       "      <td>8</td>\n",
       "      <td>0.107400</td>\n",
       "      <td>1.068391</td>\n",
       "      <td>0.741996</td>\n",
       "      <td>0.746854</td>\n",
       "      <td>0.755390</td>\n",
       "      <td>0.750190</td>\n",
       "    </tr>\n",
       "    <tr>\n",
       "      <td>9</td>\n",
       "      <td>0.074500</td>\n",
       "      <td>1.109393</td>\n",
       "      <td>0.727872</td>\n",
       "      <td>0.736003</td>\n",
       "      <td>0.739804</td>\n",
       "      <td>0.737408</td>\n",
       "    </tr>\n",
       "  </tbody>\n",
       "</table><p>"
      ],
      "text/plain": [
       "<IPython.core.display.HTML object>"
      ]
     },
     "metadata": {},
     "output_type": "display_data"
    },
    {
     "name": "stderr",
     "output_type": "stream",
     "text": [
      "The following columns in the evaluation set don't have a corresponding argument in `BertForSequenceClassification.forward` and have been ignored: tweet, index. If tweet, index are not expected by `BertForSequenceClassification.forward`,  you can safely ignore this message.\n",
      "***** Running Evaluation *****\n",
      "  Num examples = 1062\n",
      "  Batch size = 256\n"
     ]
    },
    {
     "name": "stdout",
     "output_type": "stream",
     "text": [
      "Classification Report:\n",
      "              precision    recall  f1-score   support\n",
      "\n",
      "       Anger     0.6464    0.6648    0.6555       176\n",
      "        Fear     0.6962    0.7483    0.7213       147\n",
      "         Joy     0.7708    0.6271    0.6916       177\n",
      "        Love     0.6069    0.7652    0.6769       115\n",
      "     Neutral     0.6512    0.6141    0.6321       298\n",
      "         Sad     0.6928    0.7114    0.7020       149\n",
      "\n",
      "    accuracy                         0.6733      1062\n",
      "   macro avg     0.6774    0.6885    0.6799      1062\n",
      "weighted avg     0.6776    0.6733    0.6729      1062\n",
      "\n"
     ]
    },
    {
     "name": "stderr",
     "output_type": "stream",
     "text": [
      "Saving model checkpoint to emotcls-bert-base/checkpoint-78\n",
      "Configuration saved in emotcls-bert-base/checkpoint-78/config.json\n",
      "Model weights saved in emotcls-bert-base/checkpoint-78/pytorch_model.bin\n",
      "tokenizer config file saved in emotcls-bert-base/checkpoint-78/tokenizer_config.json\n",
      "Special tokens file saved in emotcls-bert-base/checkpoint-78/special_tokens_map.json\n",
      "/home/jupyter-145230403/.conda/envs/conda_env_2/lib/python3.9/site-packages/torch/nn/parallel/_functions.py:68: UserWarning: Was asked to gather along dimension 0, but all input tensors were scalars; will instead unsqueeze and return a vector.\n",
      "  warnings.warn('Was asked to gather along dimension 0, but all '\n",
      "The following columns in the evaluation set don't have a corresponding argument in `BertForSequenceClassification.forward` and have been ignored: tweet, index. If tweet, index are not expected by `BertForSequenceClassification.forward`,  you can safely ignore this message.\n",
      "***** Running Evaluation *****\n",
      "  Num examples = 1062\n",
      "  Batch size = 256\n"
     ]
    },
    {
     "name": "stdout",
     "output_type": "stream",
     "text": [
      "Classification Report:\n",
      "              precision    recall  f1-score   support\n",
      "\n",
      "       Anger     0.6976    0.8125    0.7507       176\n",
      "        Fear     0.7593    0.8367    0.7961       147\n",
      "         Joy     0.7056    0.7175    0.7115       177\n",
      "        Love     0.6220    0.8870    0.7312       115\n",
      "     Neutral     0.7840    0.5604    0.6536       298\n",
      "         Sad     0.7391    0.6846    0.7108       149\n",
      "\n",
      "    accuracy                         0.7194      1062\n",
      "   macro avg     0.7179    0.7498    0.7256      1062\n",
      "weighted avg     0.7293    0.7194    0.7155      1062\n",
      "\n"
     ]
    },
    {
     "name": "stderr",
     "output_type": "stream",
     "text": [
      "Saving model checkpoint to emotcls-bert-base/checkpoint-156\n",
      "Configuration saved in emotcls-bert-base/checkpoint-156/config.json\n",
      "Model weights saved in emotcls-bert-base/checkpoint-156/pytorch_model.bin\n",
      "tokenizer config file saved in emotcls-bert-base/checkpoint-156/tokenizer_config.json\n",
      "Special tokens file saved in emotcls-bert-base/checkpoint-156/special_tokens_map.json\n",
      "Deleting older checkpoint [emotcls-bert-base/checkpoint-78] due to args.save_total_limit\n",
      "/home/jupyter-145230403/.conda/envs/conda_env_2/lib/python3.9/site-packages/torch/nn/parallel/_functions.py:68: UserWarning: Was asked to gather along dimension 0, but all input tensors were scalars; will instead unsqueeze and return a vector.\n",
      "  warnings.warn('Was asked to gather along dimension 0, but all '\n",
      "The following columns in the evaluation set don't have a corresponding argument in `BertForSequenceClassification.forward` and have been ignored: tweet, index. If tweet, index are not expected by `BertForSequenceClassification.forward`,  you can safely ignore this message.\n",
      "***** Running Evaluation *****\n",
      "  Num examples = 1062\n",
      "  Batch size = 256\n"
     ]
    },
    {
     "name": "stdout",
     "output_type": "stream",
     "text": [
      "Classification Report:\n",
      "              precision    recall  f1-score   support\n",
      "\n",
      "       Anger     0.8322    0.7045    0.7631       176\n",
      "        Fear     0.8682    0.7619    0.8116       147\n",
      "         Joy     0.7756    0.6836    0.7267       177\n",
      "        Love     0.5436    0.9217    0.6839       115\n",
      "     Neutral     0.6585    0.7181    0.6870       298\n",
      "         Sad     0.8519    0.6174    0.7160       149\n",
      "\n",
      "    accuracy                         0.7241      1062\n",
      "   macro avg     0.7550    0.7346    0.7314      1062\n",
      "weighted avg     0.7505    0.7241    0.7272      1062\n",
      "\n"
     ]
    },
    {
     "name": "stderr",
     "output_type": "stream",
     "text": [
      "Saving model checkpoint to emotcls-bert-base/checkpoint-234\n",
      "Configuration saved in emotcls-bert-base/checkpoint-234/config.json\n",
      "Model weights saved in emotcls-bert-base/checkpoint-234/pytorch_model.bin\n",
      "tokenizer config file saved in emotcls-bert-base/checkpoint-234/tokenizer_config.json\n",
      "Special tokens file saved in emotcls-bert-base/checkpoint-234/special_tokens_map.json\n",
      "/home/jupyter-145230403/.conda/envs/conda_env_2/lib/python3.9/site-packages/torch/nn/parallel/_functions.py:68: UserWarning: Was asked to gather along dimension 0, but all input tensors were scalars; will instead unsqueeze and return a vector.\n",
      "  warnings.warn('Was asked to gather along dimension 0, but all '\n",
      "The following columns in the evaluation set don't have a corresponding argument in `BertForSequenceClassification.forward` and have been ignored: tweet, index. If tweet, index are not expected by `BertForSequenceClassification.forward`,  you can safely ignore this message.\n",
      "***** Running Evaluation *****\n",
      "  Num examples = 1062\n",
      "  Batch size = 256\n"
     ]
    },
    {
     "name": "stdout",
     "output_type": "stream",
     "text": [
      "Classification Report:\n",
      "              precision    recall  f1-score   support\n",
      "\n",
      "       Anger     0.7287    0.7784    0.7527       176\n",
      "        Fear     0.8571    0.7755    0.8143       147\n",
      "         Joy     0.6104    0.7966    0.6912       177\n",
      "        Love     0.6738    0.8261    0.7422       115\n",
      "     Neutral     0.7229    0.6040    0.6581       298\n",
      "         Sad     0.8333    0.6711    0.7435       149\n",
      "\n",
      "    accuracy                         0.7222      1062\n",
      "   macro avg     0.7377    0.7420    0.7337      1062\n",
      "weighted avg     0.7339    0.7222    0.7220      1062\n",
      "\n"
     ]
    },
    {
     "name": "stderr",
     "output_type": "stream",
     "text": [
      "Saving model checkpoint to emotcls-bert-base/checkpoint-312\n",
      "Configuration saved in emotcls-bert-base/checkpoint-312/config.json\n",
      "Model weights saved in emotcls-bert-base/checkpoint-312/pytorch_model.bin\n",
      "tokenizer config file saved in emotcls-bert-base/checkpoint-312/tokenizer_config.json\n",
      "Special tokens file saved in emotcls-bert-base/checkpoint-312/special_tokens_map.json\n",
      "Deleting older checkpoint [emotcls-bert-base/checkpoint-234] due to args.save_total_limit\n",
      "/home/jupyter-145230403/.conda/envs/conda_env_2/lib/python3.9/site-packages/torch/nn/parallel/_functions.py:68: UserWarning: Was asked to gather along dimension 0, but all input tensors were scalars; will instead unsqueeze and return a vector.\n",
      "  warnings.warn('Was asked to gather along dimension 0, but all '\n",
      "The following columns in the evaluation set don't have a corresponding argument in `BertForSequenceClassification.forward` and have been ignored: tweet, index. If tweet, index are not expected by `BertForSequenceClassification.forward`,  you can safely ignore this message.\n",
      "***** Running Evaluation *****\n",
      "  Num examples = 1062\n",
      "  Batch size = 256\n"
     ]
    },
    {
     "name": "stdout",
     "output_type": "stream",
     "text": [
      "Classification Report:\n",
      "              precision    recall  f1-score   support\n",
      "\n",
      "       Anger     0.6637    0.8523    0.7463       176\n",
      "        Fear     0.7500    0.8571    0.8000       147\n",
      "         Joy     0.7593    0.6949    0.7257       177\n",
      "        Love     0.7105    0.7043    0.7074       115\n",
      "     Neutral     0.7247    0.6007    0.6569       298\n",
      "         Sad     0.7586    0.7383    0.7483       149\n",
      "\n",
      "    accuracy                         0.7241      1062\n",
      "   macro avg     0.7278    0.7413    0.7308      1062\n",
      "weighted avg     0.7271    0.7241    0.7213      1062\n",
      "\n"
     ]
    },
    {
     "name": "stderr",
     "output_type": "stream",
     "text": [
      "Saving model checkpoint to emotcls-bert-base/checkpoint-390\n",
      "Configuration saved in emotcls-bert-base/checkpoint-390/config.json\n",
      "Model weights saved in emotcls-bert-base/checkpoint-390/pytorch_model.bin\n",
      "tokenizer config file saved in emotcls-bert-base/checkpoint-390/tokenizer_config.json\n",
      "Special tokens file saved in emotcls-bert-base/checkpoint-390/special_tokens_map.json\n",
      "Deleting older checkpoint [emotcls-bert-base/checkpoint-312] due to args.save_total_limit\n",
      "/home/jupyter-145230403/.conda/envs/conda_env_2/lib/python3.9/site-packages/torch/nn/parallel/_functions.py:68: UserWarning: Was asked to gather along dimension 0, but all input tensors were scalars; will instead unsqueeze and return a vector.\n",
      "  warnings.warn('Was asked to gather along dimension 0, but all '\n",
      "The following columns in the evaluation set don't have a corresponding argument in `BertForSequenceClassification.forward` and have been ignored: tweet, index. If tweet, index are not expected by `BertForSequenceClassification.forward`,  you can safely ignore this message.\n",
      "***** Running Evaluation *****\n",
      "  Num examples = 1062\n",
      "  Batch size = 256\n"
     ]
    },
    {
     "name": "stdout",
     "output_type": "stream",
     "text": [
      "Classification Report:\n",
      "              precision    recall  f1-score   support\n",
      "\n",
      "       Anger     0.7543    0.7500    0.7521       176\n",
      "        Fear     0.8243    0.8299    0.8271       147\n",
      "         Joy     0.7278    0.6949    0.7110       177\n",
      "        Love     0.7188    0.8000    0.7572       115\n",
      "     Neutral     0.6858    0.6812    0.6835       298\n",
      "         Sad     0.7671    0.7517    0.7593       149\n",
      "\n",
      "    accuracy                         0.7382      1062\n",
      "   macro avg     0.7464    0.7513    0.7484      1062\n",
      "weighted avg     0.7383    0.7382    0.7380      1062\n",
      "\n"
     ]
    },
    {
     "name": "stderr",
     "output_type": "stream",
     "text": [
      "Saving model checkpoint to emotcls-bert-base/checkpoint-468\n",
      "Configuration saved in emotcls-bert-base/checkpoint-468/config.json\n",
      "Model weights saved in emotcls-bert-base/checkpoint-468/pytorch_model.bin\n",
      "tokenizer config file saved in emotcls-bert-base/checkpoint-468/tokenizer_config.json\n",
      "Special tokens file saved in emotcls-bert-base/checkpoint-468/special_tokens_map.json\n",
      "Deleting older checkpoint [emotcls-bert-base/checkpoint-390] due to args.save_total_limit\n",
      "/home/jupyter-145230403/.conda/envs/conda_env_2/lib/python3.9/site-packages/torch/nn/parallel/_functions.py:68: UserWarning: Was asked to gather along dimension 0, but all input tensors were scalars; will instead unsqueeze and return a vector.\n",
      "  warnings.warn('Was asked to gather along dimension 0, but all '\n",
      "The following columns in the evaluation set don't have a corresponding argument in `BertForSequenceClassification.forward` and have been ignored: tweet, index. If tweet, index are not expected by `BertForSequenceClassification.forward`,  you can safely ignore this message.\n",
      "***** Running Evaluation *****\n",
      "  Num examples = 1062\n",
      "  Batch size = 256\n"
     ]
    },
    {
     "name": "stdout",
     "output_type": "stream",
     "text": [
      "Classification Report:\n",
      "              precision    recall  f1-score   support\n",
      "\n",
      "       Anger     0.7240    0.7898    0.7554       176\n",
      "        Fear     0.8112    0.7891    0.8000       147\n",
      "         Joy     0.7232    0.7232    0.7232       177\n",
      "        Love     0.6917    0.8000    0.7419       115\n",
      "     Neutral     0.7188    0.6174    0.6643       298\n",
      "         Sad     0.7267    0.7852    0.7548       149\n",
      "\n",
      "    accuracy                         0.7307      1062\n",
      "   macro avg     0.7326    0.7508    0.7399      1062\n",
      "weighted avg     0.7313    0.7307    0.7291      1062\n",
      "\n"
     ]
    },
    {
     "name": "stderr",
     "output_type": "stream",
     "text": [
      "Saving model checkpoint to emotcls-bert-base/checkpoint-546\n",
      "Configuration saved in emotcls-bert-base/checkpoint-546/config.json\n",
      "Model weights saved in emotcls-bert-base/checkpoint-546/pytorch_model.bin\n",
      "tokenizer config file saved in emotcls-bert-base/checkpoint-546/tokenizer_config.json\n",
      "Special tokens file saved in emotcls-bert-base/checkpoint-546/special_tokens_map.json\n",
      "Deleting older checkpoint [emotcls-bert-base/checkpoint-468] due to args.save_total_limit\n",
      "/home/jupyter-145230403/.conda/envs/conda_env_2/lib/python3.9/site-packages/torch/nn/parallel/_functions.py:68: UserWarning: Was asked to gather along dimension 0, but all input tensors were scalars; will instead unsqueeze and return a vector.\n",
      "  warnings.warn('Was asked to gather along dimension 0, but all '\n",
      "The following columns in the evaluation set don't have a corresponding argument in `BertForSequenceClassification.forward` and have been ignored: tweet, index. If tweet, index are not expected by `BertForSequenceClassification.forward`,  you can safely ignore this message.\n",
      "***** Running Evaluation *****\n",
      "  Num examples = 1062\n",
      "  Batch size = 256\n"
     ]
    },
    {
     "name": "stdout",
     "output_type": "stream",
     "text": [
      "Classification Report:\n",
      "              precision    recall  f1-score   support\n",
      "\n",
      "       Anger     0.7158    0.7727    0.7432       176\n",
      "        Fear     0.8207    0.8095    0.8151       147\n",
      "         Joy     0.7590    0.7119    0.7347       177\n",
      "        Love     0.7099    0.8087    0.7561       115\n",
      "     Neutral     0.7138    0.6779    0.6954       298\n",
      "         Sad     0.7619    0.7517    0.7568       149\n",
      "\n",
      "    accuracy                         0.7420      1062\n",
      "   macro avg     0.7469    0.7554    0.7502      1062\n",
      "weighted avg     0.7428    0.7420    0.7416      1062\n",
      "\n"
     ]
    },
    {
     "name": "stderr",
     "output_type": "stream",
     "text": [
      "Saving model checkpoint to emotcls-bert-base/checkpoint-624\n",
      "Configuration saved in emotcls-bert-base/checkpoint-624/config.json\n",
      "Model weights saved in emotcls-bert-base/checkpoint-624/pytorch_model.bin\n",
      "tokenizer config file saved in emotcls-bert-base/checkpoint-624/tokenizer_config.json\n",
      "Special tokens file saved in emotcls-bert-base/checkpoint-624/special_tokens_map.json\n",
      "Deleting older checkpoint [emotcls-bert-base/checkpoint-546] due to args.save_total_limit\n",
      "/home/jupyter-145230403/.conda/envs/conda_env_2/lib/python3.9/site-packages/torch/nn/parallel/_functions.py:68: UserWarning: Was asked to gather along dimension 0, but all input tensors were scalars; will instead unsqueeze and return a vector.\n",
      "  warnings.warn('Was asked to gather along dimension 0, but all '\n",
      "The following columns in the evaluation set don't have a corresponding argument in `BertForSequenceClassification.forward` and have been ignored: tweet, index. If tweet, index are not expected by `BertForSequenceClassification.forward`,  you can safely ignore this message.\n",
      "***** Running Evaluation *****\n",
      "  Num examples = 1062\n",
      "  Batch size = 256\n"
     ]
    },
    {
     "name": "stdout",
     "output_type": "stream",
     "text": [
      "Classification Report:\n",
      "              precision    recall  f1-score   support\n",
      "\n",
      "       Anger     0.7278    0.7443    0.7360       176\n",
      "        Fear     0.8176    0.8231    0.8203       147\n",
      "         Joy     0.7576    0.7062    0.7310       177\n",
      "        Love     0.7087    0.7826    0.7438       115\n",
      "     Neutral     0.6734    0.6711    0.6723       298\n",
      "         Sad     0.7310    0.7114    0.7211       149\n",
      "\n",
      "    accuracy                         0.7279      1062\n",
      "   macro avg     0.7360    0.7398    0.7374      1062\n",
      "weighted avg     0.7283    0.7279    0.7277      1062\n",
      "\n"
     ]
    },
    {
     "name": "stderr",
     "output_type": "stream",
     "text": [
      "Saving model checkpoint to emotcls-bert-base/checkpoint-702\n",
      "Configuration saved in emotcls-bert-base/checkpoint-702/config.json\n",
      "Model weights saved in emotcls-bert-base/checkpoint-702/pytorch_model.bin\n",
      "tokenizer config file saved in emotcls-bert-base/checkpoint-702/tokenizer_config.json\n",
      "Special tokens file saved in emotcls-bert-base/checkpoint-702/special_tokens_map.json\n",
      "Deleting older checkpoint [emotcls-bert-base/checkpoint-624] due to args.save_total_limit\n",
      "\n",
      "\n",
      "Training completed. Do not forget to share your model on huggingface.co/models =)\n",
      "\n",
      "\n",
      "Loading best model from emotcls-bert-base/checkpoint-156 (score: 0.8096420168876648).\n",
      "Deleting older checkpoint [emotcls-bert-base/checkpoint-702] due to args.save_total_limit\n",
      "Saving model checkpoint to emotcls-bert-base\n",
      "Configuration saved in emotcls-bert-base/config.json\n",
      "Model weights saved in emotcls-bert-base/pytorch_model.bin\n",
      "tokenizer config file saved in emotcls-bert-base/tokenizer_config.json\n",
      "Special tokens file saved in emotcls-bert-base/special_tokens_map.json\n",
      "The following columns in the evaluation set don't have a corresponding argument in `BertForSequenceClassification.forward` and have been ignored: tweet, index. If tweet, index are not expected by `BertForSequenceClassification.forward`,  you can safely ignore this message.\n",
      "***** Running Evaluation *****\n",
      "  Num examples = 1062\n",
      "  Batch size = 256\n",
      "/home/jupyter-145230403/.conda/envs/conda_env_2/lib/python3.9/site-packages/torch/nn/parallel/_functions.py:68: UserWarning: Was asked to gather along dimension 0, but all input tensors were scalars; will instead unsqueeze and return a vector.\n",
      "  warnings.warn('Was asked to gather along dimension 0, but all '\n"
     ]
    },
    {
     "data": {
      "text/html": [],
      "text/plain": [
       "<IPython.core.display.HTML object>"
      ]
     },
     "metadata": {},
     "output_type": "display_data"
    },
    {
     "name": "stderr",
     "output_type": "stream",
     "text": [
      "The following columns in the test set don't have a corresponding argument in `BertForSequenceClassification.forward` and have been ignored: tweet, index. If tweet, index are not expected by `BertForSequenceClassification.forward`,  you can safely ignore this message.\n",
      "***** Running Prediction *****\n",
      "  Num examples = 1062\n",
      "  Batch size = 256\n"
     ]
    },
    {
     "name": "stdout",
     "output_type": "stream",
     "text": [
      "Classification Report:\n",
      "              precision    recall  f1-score   support\n",
      "\n",
      "       Anger     0.7263    0.7667    0.7459       180\n",
      "        Fear     0.7134    0.8731    0.7852       134\n",
      "         Joy     0.7913    0.7837    0.7874       208\n",
      "        Love     0.5935    0.9109    0.7187       101\n",
      "     Neutral     0.7227    0.5464    0.6223       291\n",
      "         Sad     0.7323    0.6284    0.6764       148\n",
      "\n",
      "    accuracy                         0.7175      1062\n",
      "   macro avg     0.7133    0.7515    0.7227      1062\n",
      "weighted avg     0.7246    0.7175    0.7129      1062\n",
      "\n",
      "{'eval_loss': 0.8138324618339539, 'eval_accuracy': 0.7175141242937854, 'eval_precision': 0.7132586139888885, 'eval_recall': 0.751519343540555, 'eval_f1': 0.7226738821361125, 'eval_runtime': 2.6481, 'eval_samples_per_second': 401.04, 'eval_steps_per_second': 1.888, 'epoch': 9.0}\n"
     ]
    },
    {
     "name": "stderr",
     "output_type": "stream",
     "text": [
      "/home/jupyter-145230403/.conda/envs/conda_env_2/lib/python3.9/site-packages/torch/nn/parallel/_functions.py:68: UserWarning: Was asked to gather along dimension 0, but all input tensors were scalars; will instead unsqueeze and return a vector.\n",
      "  warnings.warn('Was asked to gather along dimension 0, but all '\n"
     ]
    },
    {
     "name": "stdout",
     "output_type": "stream",
     "text": [
      "Classification Report:\n",
      "              precision    recall  f1-score   support\n",
      "\n",
      "       Anger     0.7263    0.7667    0.7459       180\n",
      "        Fear     0.7134    0.8731    0.7852       134\n",
      "         Joy     0.7913    0.7837    0.7874       208\n",
      "        Love     0.5935    0.9109    0.7187       101\n",
      "     Neutral     0.7227    0.5464    0.6223       291\n",
      "         Sad     0.7323    0.6284    0.6764       148\n",
      "\n",
      "    accuracy                         0.7175      1062\n",
      "   macro avg     0.7133    0.7515    0.7227      1062\n",
      "weighted avg     0.7246    0.7175    0.7129      1062\n",
      "\n"
     ]
    },
    {
     "data": {
      "image/png": "[encoded data removed]",
      "text/plain": [
       "<Figure size 576x432 with 2 Axes>"
      ]
     },
     "metadata": {},
     "output_type": "display_data"
    },
    {
     "name": "stdout",
     "output_type": "stream",
     "text": [
      "Training finished!\n"
     ]
    },
    {
     "data": {
      "image/png": "[encoded data removed]",
      "text/plain": [
       "<Figure size 432x288 with 1 Axes>"
      ]
     },
     "metadata": {},
     "output_type": "display_data"
    },
    {
     "name": "stdout",
     "output_type": "stream",
     "text": [
      "Total time: 7.058900272846222 minutes\n"
     ]
    }
   ],
   "source": [
    "#4 google-bert/bert-base-multilingual-cased\n",
    "\n",
    "main(\n",
    "    model_name = 'google-bert/bert-base-multilingual-cased',\n",
    "    output_dir = 'emotcls-bert-base',\n",
    "    best_params = 'best_params/mbert.json'\n",
    ")"
   ]
  },
  {
   "cell_type": "code",
   "execution_count": null,
   "id": "a76b069f",
   "metadata": {},
   "outputs": [],
   "source": []
  }
 ],
 "metadata": {
  "kernelspec": {
   "display_name": "conda_env_2",
   "language": "python",
   "name": "conda_env_2"
  },
  "language_info": {
   "codemirror_mode": {
    "name": "ipython",
    "version": 3
   },
   "file_extension": ".py",
   "mimetype": "text/x-python",
   "name": "python",
   "nbconvert_exporter": "python",
   "pygments_lexer": "ipython3",
   "version": "3.9.16"
  }
 },
 "nbformat": 4,
 "nbformat_minor": 5
}
