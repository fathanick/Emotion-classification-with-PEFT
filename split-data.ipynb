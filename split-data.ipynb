{
 "cells": [
  {
   "cell_type": "code",
   "execution_count": 1,
   "id": "dbabc6f4",
   "metadata": {},
   "outputs": [],
   "source": [
    "from datasets import load_dataset, Dataset, DatasetDict\n",
    "from sklearn.model_selection import train_test_split"
   ]
  },
  {
   "cell_type": "code",
   "execution_count": 2,
   "id": "181573a2",
   "metadata": {},
   "outputs": [
    {
     "name": "stderr",
     "output_type": "stream",
     "text": [
      "No config specified, defaulting to: emotion_id_opinion/emotion_id_opinion_source\n",
      "Found cached dataset emotion_id_opinion (/home/jupyter-145230403/.cache/huggingface/datasets/emotion_id_opinion/emotion_id_opinion_source/1.0.0/a6ab5b7094657b7fedf626821ac093d81dd2595a6fef013c4e4b1e72d695cc24)\n"
     ]
    },
    {
     "data": {
      "application/vnd.jupyter.widget-view+json": {
       "model_id": "739050a19dfd4954aaeab57f71cb9826",
       "version_major": 2,
       "version_minor": 0
      },
      "text/plain": [
       "  0%|          | 0/1 [00:00<?, ?it/s]"
      ]
     },
     "metadata": {},
     "output_type": "display_data"
    }
   ],
   "source": [
    "path = \"../../nusa-crowd/nusacrowd/nusa_datasets/emotion_id_opinion\"\n",
    "dataset = load_dataset(path)\n",
    "\n",
    "# Convert to pandas DataFrame for easy splitting\n",
    "df = dataset['train'].to_pandas()"
   ]
  },
  {
   "cell_type": "code",
   "execution_count": 3,
   "id": "f117c71f",
   "metadata": {},
   "outputs": [],
   "source": [
    "# Split into train and temp (which will be further split into val and test)\n",
    "train_df, temp_df = train_test_split(df, test_size=0.3, random_state=42)\n",
    "\n",
    "# Split temp into validation and test sets\n",
    "val_df, test_df = train_test_split(temp_df, test_size=0.5, random_state=42)"
   ]
  },
  {
   "cell_type": "code",
   "execution_count": 5,
   "id": "93067228",
   "metadata": {},
   "outputs": [],
   "source": [
    "# Save each DataFrame to CSV\n",
    "train_df.to_csv('dataset/train.csv', index=False)\n",
    "val_df.to_csv('dataset/val.csv', index=False)\n",
    "test_df.to_csv('dataset/test.csv', index=False)"
   ]
  },
  {
   "cell_type": "code",
   "execution_count": null,
   "id": "4d0a19f9",
   "metadata": {},
   "outputs": [],
   "source": []
  }
 ],
 "metadata": {
  "kernelspec": {
   "display_name": "conda_env_3",
   "language": "python",
   "name": "conda_env_3"
  },
  "language_info": {
   "codemirror_mode": {
    "name": "ipython",
    "version": 3
   },
   "file_extension": ".py",
   "mimetype": "text/x-python",
   "name": "python",
   "nbconvert_exporter": "python",
   "pygments_lexer": "ipython3",
   "version": "3.10.0"
  }
 },
 "nbformat": 4,
 "nbformat_minor": 5
}
